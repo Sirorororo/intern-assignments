{
 "cells": [
  {
   "cell_type": "code",
   "execution_count": 1,
   "metadata": {},
   "outputs": [
    {
     "name": "stdout",
     "output_type": "stream",
     "text": [
      "Lightweight model trained and saved successfully!\n"
     ]
    }
   ],
   "source": [
    "# train_save_light_model.py\n",
    "import joblib\n",
    "from sklearn.datasets import load_iris\n",
    "from sklearn.linear_model import LogisticRegression\n",
    "\n",
    "# Load dataset\n",
    "data = load_iris()\n",
    "X, y = data.data, data.target\n",
    "\n",
    "# Train a lightweight logistic regression model\n",
    "model = LogisticRegression(max_iter=200)\n",
    "model.fit(X, y)\n",
    "\n",
    "# Save the trained model to a file\n",
    "joblib.dump(model, 'logistic_model.pkl')\n",
    "print(\"Lightweight model trained and saved successfully!\")\n"
   ]
  },
  {
   "cell_type": "code",
   "execution_count": 3,
   "metadata": {},
   "outputs": [
    {
     "name": "stdout",
     "output_type": "stream",
     "text": [
      "Response: {'prediction': 0}\n"
     ]
    }
   ],
   "source": [
    "import requests\n",
    "\n",
    "# URL where the Flask app is running\n",
    "url = \"http://127.0.0.1:5000/predict\"\n",
    "\n",
    "# Sample data to send\n",
    "data = {\n",
    "    \"features\": [5.1, 3.5, 1.4, 0.2]\n",
    "}\n",
    "\n",
    "# Send POST request\n",
    "response = requests.post(url, json=data)\n",
    "\n",
    "# Print the response from the server\n",
    "print(\"Response:\", response.json())"
   ]
  },
  {
   "cell_type": "code",
   "execution_count": 4,
   "metadata": {},
   "outputs": [
    {
     "name": "stdout",
     "output_type": "stream",
     "text": [
      "Input: [5.1, 3.5, 1.4, 0.2], Prediction: {'prediction': 0}\n",
      "Input: [6.0, 3.0, 4.8, 1.8], Prediction: {'prediction': 2}\n",
      "Input: [5.5, 2.4, 3.8, 1.2], Prediction: {'prediction': 1}\n"
     ]
    }
   ],
   "source": [
    "# Multiple test cases\n",
    "data_samples = [\n",
    "    {\"features\": [5.1, 3.5, 1.4, 0.2]},\n",
    "    {\"features\": [6.0, 3.0, 4.8, 1.8]},\n",
    "    {\"features\": [5.5, 2.4, 3.8, 1.2]}\n",
    "]\n",
    "\n",
    "# Loop through test cases and send requests\n",
    "for data in data_samples:\n",
    "    response = requests.post(url, json=data)\n",
    "    print(f\"Input: {data['features']}, Prediction: {response.json()}\")"
   ]
  },
  {
   "cell_type": "code",
   "execution_count": null,
   "metadata": {},
   "outputs": [],
   "source": []
  }
 ],
 "metadata": {
  "kernelspec": {
   "display_name": "myenv",
   "language": "python",
   "name": "python3"
  },
  "language_info": {
   "codemirror_mode": {
    "name": "ipython",
    "version": 3
   },
   "file_extension": ".py",
   "mimetype": "text/x-python",
   "name": "python",
   "nbconvert_exporter": "python",
   "pygments_lexer": "ipython3",
   "version": "3.10.2"
  }
 },
 "nbformat": 4,
 "nbformat_minor": 2
}
