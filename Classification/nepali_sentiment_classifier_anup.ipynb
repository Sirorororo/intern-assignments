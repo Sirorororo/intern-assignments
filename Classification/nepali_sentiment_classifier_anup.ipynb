{
  "cells": [
    {
      "cell_type": "code",
      "execution_count": null,
      "metadata": {
        "id": "8maqGq8aotPy"
      },
      "outputs": [],
      "source": [
        "import pandas as pd\n",
        "import re\n",
        "import matplotlib.pyplot as plt"
      ]
    },
    {
      "cell_type": "code",
      "execution_count": null,
      "metadata": {
        "colab": {
          "base_uri": "https://localhost:8080/",
          "height": 206
        },
        "id": "LR-OCTw5otP0",
        "outputId": "a975377d-00bb-4450-8704-d17d2f55d72a"
      },
      "outputs": [
        {
          "output_type": "execute_result",
          "data": {
            "text/plain": [
              "                                                text label\n",
              "0  बजार ले जसरी ट्रेन्ड चेन्ज गर्यो यो हेर्दा तत्...     2\n",
              "1  1000 अंकले घटेको नेप्से 200 अंकले बढ्नु ठूलो क...     1\n",
              "2  होइन यो सानिमा बैंक ले bonus घोसणा गरेको २ महि...     2\n",
              "3  खैँ MBJC प्रति कित्तामा रू,10/-ले बढेर आज रू,1...     2\n",
              "4                                       राम्रो भयो️️     1"
            ],
            "text/html": [
              "\n",
              "  <div id=\"df-b738b95f-e29b-4175-a18f-adfbd34d5d83\" class=\"colab-df-container\">\n",
              "    <div>\n",
              "<style scoped>\n",
              "    .dataframe tbody tr th:only-of-type {\n",
              "        vertical-align: middle;\n",
              "    }\n",
              "\n",
              "    .dataframe tbody tr th {\n",
              "        vertical-align: top;\n",
              "    }\n",
              "\n",
              "    .dataframe thead th {\n",
              "        text-align: right;\n",
              "    }\n",
              "</style>\n",
              "<table border=\"1\" class=\"dataframe\">\n",
              "  <thead>\n",
              "    <tr style=\"text-align: right;\">\n",
              "      <th></th>\n",
              "      <th>text</th>\n",
              "      <th>label</th>\n",
              "    </tr>\n",
              "  </thead>\n",
              "  <tbody>\n",
              "    <tr>\n",
              "      <th>0</th>\n",
              "      <td>बजार ले जसरी ट्रेन्ड चेन्ज गर्यो यो हेर्दा तत्...</td>\n",
              "      <td>2</td>\n",
              "    </tr>\n",
              "    <tr>\n",
              "      <th>1</th>\n",
              "      <td>1000 अंकले घटेको नेप्से 200 अंकले बढ्नु ठूलो क...</td>\n",
              "      <td>1</td>\n",
              "    </tr>\n",
              "    <tr>\n",
              "      <th>2</th>\n",
              "      <td>होइन यो सानिमा बैंक ले bonus घोसणा गरेको २ महि...</td>\n",
              "      <td>2</td>\n",
              "    </tr>\n",
              "    <tr>\n",
              "      <th>3</th>\n",
              "      <td>खैँ MBJC प्रति कित्तामा रू,10/-ले बढेर आज रू,1...</td>\n",
              "      <td>2</td>\n",
              "    </tr>\n",
              "    <tr>\n",
              "      <th>4</th>\n",
              "      <td>राम्रो भयो️️</td>\n",
              "      <td>1</td>\n",
              "    </tr>\n",
              "  </tbody>\n",
              "</table>\n",
              "</div>\n",
              "    <div class=\"colab-df-buttons\">\n",
              "\n",
              "  <div class=\"colab-df-container\">\n",
              "    <button class=\"colab-df-convert\" onclick=\"convertToInteractive('df-b738b95f-e29b-4175-a18f-adfbd34d5d83')\"\n",
              "            title=\"Convert this dataframe to an interactive table.\"\n",
              "            style=\"display:none;\">\n",
              "\n",
              "  <svg xmlns=\"http://www.w3.org/2000/svg\" height=\"24px\" viewBox=\"0 -960 960 960\">\n",
              "    <path d=\"M120-120v-720h720v720H120Zm60-500h600v-160H180v160Zm220 220h160v-160H400v160Zm0 220h160v-160H400v160ZM180-400h160v-160H180v160Zm440 0h160v-160H620v160ZM180-180h160v-160H180v160Zm440 0h160v-160H620v160Z\"/>\n",
              "  </svg>\n",
              "    </button>\n",
              "\n",
              "  <style>\n",
              "    .colab-df-container {\n",
              "      display:flex;\n",
              "      gap: 12px;\n",
              "    }\n",
              "\n",
              "    .colab-df-convert {\n",
              "      background-color: #E8F0FE;\n",
              "      border: none;\n",
              "      border-radius: 50%;\n",
              "      cursor: pointer;\n",
              "      display: none;\n",
              "      fill: #1967D2;\n",
              "      height: 32px;\n",
              "      padding: 0 0 0 0;\n",
              "      width: 32px;\n",
              "    }\n",
              "\n",
              "    .colab-df-convert:hover {\n",
              "      background-color: #E2EBFA;\n",
              "      box-shadow: 0px 1px 2px rgba(60, 64, 67, 0.3), 0px 1px 3px 1px rgba(60, 64, 67, 0.15);\n",
              "      fill: #174EA6;\n",
              "    }\n",
              "\n",
              "    .colab-df-buttons div {\n",
              "      margin-bottom: 4px;\n",
              "    }\n",
              "\n",
              "    [theme=dark] .colab-df-convert {\n",
              "      background-color: #3B4455;\n",
              "      fill: #D2E3FC;\n",
              "    }\n",
              "\n",
              "    [theme=dark] .colab-df-convert:hover {\n",
              "      background-color: #434B5C;\n",
              "      box-shadow: 0px 1px 3px 1px rgba(0, 0, 0, 0.15);\n",
              "      filter: drop-shadow(0px 1px 2px rgba(0, 0, 0, 0.3));\n",
              "      fill: #FFFFFF;\n",
              "    }\n",
              "  </style>\n",
              "\n",
              "    <script>\n",
              "      const buttonEl =\n",
              "        document.querySelector('#df-b738b95f-e29b-4175-a18f-adfbd34d5d83 button.colab-df-convert');\n",
              "      buttonEl.style.display =\n",
              "        google.colab.kernel.accessAllowed ? 'block' : 'none';\n",
              "\n",
              "      async function convertToInteractive(key) {\n",
              "        const element = document.querySelector('#df-b738b95f-e29b-4175-a18f-adfbd34d5d83');\n",
              "        const dataTable =\n",
              "          await google.colab.kernel.invokeFunction('convertToInteractive',\n",
              "                                                    [key], {});\n",
              "        if (!dataTable) return;\n",
              "\n",
              "        const docLinkHtml = 'Like what you see? Visit the ' +\n",
              "          '<a target=\"_blank\" href=https://colab.research.google.com/notebooks/data_table.ipynb>data table notebook</a>'\n",
              "          + ' to learn more about interactive tables.';\n",
              "        element.innerHTML = '';\n",
              "        dataTable['output_type'] = 'display_data';\n",
              "        await google.colab.output.renderOutput(dataTable, element);\n",
              "        const docLink = document.createElement('div');\n",
              "        docLink.innerHTML = docLinkHtml;\n",
              "        element.appendChild(docLink);\n",
              "      }\n",
              "    </script>\n",
              "  </div>\n",
              "\n",
              "\n",
              "<div id=\"df-af0d83b2-ee83-45c2-8134-f6cb77f8c229\">\n",
              "  <button class=\"colab-df-quickchart\" onclick=\"quickchart('df-af0d83b2-ee83-45c2-8134-f6cb77f8c229')\"\n",
              "            title=\"Suggest charts\"\n",
              "            style=\"display:none;\">\n",
              "\n",
              "<svg xmlns=\"http://www.w3.org/2000/svg\" height=\"24px\"viewBox=\"0 0 24 24\"\n",
              "     width=\"24px\">\n",
              "    <g>\n",
              "        <path d=\"M19 3H5c-1.1 0-2 .9-2 2v14c0 1.1.9 2 2 2h14c1.1 0 2-.9 2-2V5c0-1.1-.9-2-2-2zM9 17H7v-7h2v7zm4 0h-2V7h2v10zm4 0h-2v-4h2v4z\"/>\n",
              "    </g>\n",
              "</svg>\n",
              "  </button>\n",
              "\n",
              "<style>\n",
              "  .colab-df-quickchart {\n",
              "      --bg-color: #E8F0FE;\n",
              "      --fill-color: #1967D2;\n",
              "      --hover-bg-color: #E2EBFA;\n",
              "      --hover-fill-color: #174EA6;\n",
              "      --disabled-fill-color: #AAA;\n",
              "      --disabled-bg-color: #DDD;\n",
              "  }\n",
              "\n",
              "  [theme=dark] .colab-df-quickchart {\n",
              "      --bg-color: #3B4455;\n",
              "      --fill-color: #D2E3FC;\n",
              "      --hover-bg-color: #434B5C;\n",
              "      --hover-fill-color: #FFFFFF;\n",
              "      --disabled-bg-color: #3B4455;\n",
              "      --disabled-fill-color: #666;\n",
              "  }\n",
              "\n",
              "  .colab-df-quickchart {\n",
              "    background-color: var(--bg-color);\n",
              "    border: none;\n",
              "    border-radius: 50%;\n",
              "    cursor: pointer;\n",
              "    display: none;\n",
              "    fill: var(--fill-color);\n",
              "    height: 32px;\n",
              "    padding: 0;\n",
              "    width: 32px;\n",
              "  }\n",
              "\n",
              "  .colab-df-quickchart:hover {\n",
              "    background-color: var(--hover-bg-color);\n",
              "    box-shadow: 0 1px 2px rgba(60, 64, 67, 0.3), 0 1px 3px 1px rgba(60, 64, 67, 0.15);\n",
              "    fill: var(--button-hover-fill-color);\n",
              "  }\n",
              "\n",
              "  .colab-df-quickchart-complete:disabled,\n",
              "  .colab-df-quickchart-complete:disabled:hover {\n",
              "    background-color: var(--disabled-bg-color);\n",
              "    fill: var(--disabled-fill-color);\n",
              "    box-shadow: none;\n",
              "  }\n",
              "\n",
              "  .colab-df-spinner {\n",
              "    border: 2px solid var(--fill-color);\n",
              "    border-color: transparent;\n",
              "    border-bottom-color: var(--fill-color);\n",
              "    animation:\n",
              "      spin 1s steps(1) infinite;\n",
              "  }\n",
              "\n",
              "  @keyframes spin {\n",
              "    0% {\n",
              "      border-color: transparent;\n",
              "      border-bottom-color: var(--fill-color);\n",
              "      border-left-color: var(--fill-color);\n",
              "    }\n",
              "    20% {\n",
              "      border-color: transparent;\n",
              "      border-left-color: var(--fill-color);\n",
              "      border-top-color: var(--fill-color);\n",
              "    }\n",
              "    30% {\n",
              "      border-color: transparent;\n",
              "      border-left-color: var(--fill-color);\n",
              "      border-top-color: var(--fill-color);\n",
              "      border-right-color: var(--fill-color);\n",
              "    }\n",
              "    40% {\n",
              "      border-color: transparent;\n",
              "      border-right-color: var(--fill-color);\n",
              "      border-top-color: var(--fill-color);\n",
              "    }\n",
              "    60% {\n",
              "      border-color: transparent;\n",
              "      border-right-color: var(--fill-color);\n",
              "    }\n",
              "    80% {\n",
              "      border-color: transparent;\n",
              "      border-right-color: var(--fill-color);\n",
              "      border-bottom-color: var(--fill-color);\n",
              "    }\n",
              "    90% {\n",
              "      border-color: transparent;\n",
              "      border-bottom-color: var(--fill-color);\n",
              "    }\n",
              "  }\n",
              "</style>\n",
              "\n",
              "  <script>\n",
              "    async function quickchart(key) {\n",
              "      const quickchartButtonEl =\n",
              "        document.querySelector('#' + key + ' button');\n",
              "      quickchartButtonEl.disabled = true;  // To prevent multiple clicks.\n",
              "      quickchartButtonEl.classList.add('colab-df-spinner');\n",
              "      try {\n",
              "        const charts = await google.colab.kernel.invokeFunction(\n",
              "            'suggestCharts', [key], {});\n",
              "      } catch (error) {\n",
              "        console.error('Error during call to suggestCharts:', error);\n",
              "      }\n",
              "      quickchartButtonEl.classList.remove('colab-df-spinner');\n",
              "      quickchartButtonEl.classList.add('colab-df-quickchart-complete');\n",
              "    }\n",
              "    (() => {\n",
              "      let quickchartButtonEl =\n",
              "        document.querySelector('#df-af0d83b2-ee83-45c2-8134-f6cb77f8c229 button');\n",
              "      quickchartButtonEl.style.display =\n",
              "        google.colab.kernel.accessAllowed ? 'block' : 'none';\n",
              "    })();\n",
              "  </script>\n",
              "</div>\n",
              "\n",
              "    </div>\n",
              "  </div>\n"
            ],
            "application/vnd.google.colaboratory.intrinsic+json": {
              "type": "dataframe",
              "variable_name": "df",
              "summary": "{\n  \"name\": \"df\",\n  \"rows\": 6000,\n  \"fields\": [\n    {\n      \"column\": \"text\",\n      \"properties\": {\n        \"dtype\": \"string\",\n        \"num_unique_values\": 4040,\n        \"samples\": [\n          \"\\u0935\\u093e\\u0909 \\u0935\\u093e\\u0909 \\u0926\\u0947\\u0936 \\u0915\\u094b \\u0939\\u093f\\u0930\\u094b \\u0939\\u093e\\u092e\\u094d\\u0930\\u094b \\u0930\\u092c\\u093f \\u0926\\u093e\\u091c\\u0941\\ud83d\\ude0d\\ud83d\\ude0d\\ud83d\\ude4f\\ud83d\\ude4f\\ud83d\\ude4f\\ud83d\\ude4f\\ud83d\\ude4f\\ud83d\\ude4f\\ud83d\\ude4f\\ud83d\\ude4f\",\n          \"\\u0932 \\u0939\\u0947\\u0930 \\u092f\\u0938\\u094d\\u0915\\u094b \\u0926\\u092e\\u094d\\u092d\",\n          \"\\u0938\\u0930\\u0915\\u093e\\u0930 \\u092e\\u0938\\u094d\\u0924  \\u0928\\u093f\\u0928\\u094d\\u0926\\u094d\\u0930\\u093e \\u092e\\u093e \\u091b \\u0930\\u0935\\u093f \\u0926\\u093e\\u0908, \\u092c\\u094d\\u092f\\u0942\\u0901\\u091d\\u093e\\u0901\\u0909\\u0928\\u0947 \\u0915\\u094b\\u0938\\u093f\\u0938 \\u0928\\u0917\\u0930\\u094d\\u0928\\u0941 \\u0939\\u094b\\u0932\\u093e \\u0964\"\n        ],\n        \"semantic_type\": \"\",\n        \"description\": \"\"\n      }\n    },\n    {\n      \"column\": \"label\",\n      \"properties\": {\n        \"dtype\": \"category\",\n        \"num_unique_values\": 8,\n        \"samples\": [\n          \"1\",\n          \"-\",\n          \"2\"\n        ],\n        \"semantic_type\": \"\",\n        \"description\": \"\"\n      }\n    }\n  ]\n}"
            }
          },
          "metadata": {},
          "execution_count": 5
        }
      ],
      "source": [
        "df = pd.read_csv(\"train.csv\",encoding=\"utf-8\")\n",
        "df.head()"
      ]
    },
    {
      "cell_type": "code",
      "execution_count": null,
      "metadata": {
        "colab": {
          "base_uri": "https://localhost:8080/"
        },
        "id": "5Z4NrKMeotP1",
        "outputId": "b6040ed4-b186-46b5-fe18-67b032f25055"
      },
      "outputs": [
        {
          "output_type": "execute_result",
          "data": {
            "text/plain": [
              "array(['2', '1', '0', '20', '11', '-', 'o', '--'], dtype=object)"
            ]
          },
          "metadata": {},
          "execution_count": 6
        }
      ],
      "source": [
        "df[\"label\"].unique()"
      ]
    },
    {
      "cell_type": "code",
      "execution_count": null,
      "metadata": {
        "colab": {
          "base_uri": "https://localhost:8080/",
          "height": 366
        },
        "id": "RrR6s9lhotP2",
        "outputId": "10f67045-c975-4c33-bf46-ac8bfe1cda02"
      },
      "outputs": [
        {
          "output_type": "execute_result",
          "data": {
            "text/plain": [
              "label\n",
              "1     2378\n",
              "0     2377\n",
              "2     1236\n",
              "-        5\n",
              "20       1\n",
              "11       1\n",
              "o        1\n",
              "--       1\n",
              "Name: count, dtype: int64"
            ],
            "text/html": [
              "<div>\n",
              "<style scoped>\n",
              "    .dataframe tbody tr th:only-of-type {\n",
              "        vertical-align: middle;\n",
              "    }\n",
              "\n",
              "    .dataframe tbody tr th {\n",
              "        vertical-align: top;\n",
              "    }\n",
              "\n",
              "    .dataframe thead th {\n",
              "        text-align: right;\n",
              "    }\n",
              "</style>\n",
              "<table border=\"1\" class=\"dataframe\">\n",
              "  <thead>\n",
              "    <tr style=\"text-align: right;\">\n",
              "      <th></th>\n",
              "      <th>count</th>\n",
              "    </tr>\n",
              "    <tr>\n",
              "      <th>label</th>\n",
              "      <th></th>\n",
              "    </tr>\n",
              "  </thead>\n",
              "  <tbody>\n",
              "    <tr>\n",
              "      <th>1</th>\n",
              "      <td>2378</td>\n",
              "    </tr>\n",
              "    <tr>\n",
              "      <th>0</th>\n",
              "      <td>2377</td>\n",
              "    </tr>\n",
              "    <tr>\n",
              "      <th>2</th>\n",
              "      <td>1236</td>\n",
              "    </tr>\n",
              "    <tr>\n",
              "      <th>-</th>\n",
              "      <td>5</td>\n",
              "    </tr>\n",
              "    <tr>\n",
              "      <th>20</th>\n",
              "      <td>1</td>\n",
              "    </tr>\n",
              "    <tr>\n",
              "      <th>11</th>\n",
              "      <td>1</td>\n",
              "    </tr>\n",
              "    <tr>\n",
              "      <th>o</th>\n",
              "      <td>1</td>\n",
              "    </tr>\n",
              "    <tr>\n",
              "      <th>--</th>\n",
              "      <td>1</td>\n",
              "    </tr>\n",
              "  </tbody>\n",
              "</table>\n",
              "</div><br><label><b>dtype:</b> int64</label>"
            ]
          },
          "metadata": {},
          "execution_count": 7
        }
      ],
      "source": [
        "df[\"label\"].value_counts()"
      ]
    },
    {
      "cell_type": "code",
      "execution_count": null,
      "metadata": {
        "id": "DSxIqgVaotP2"
      },
      "outputs": [],
      "source": [
        "# Filtering out unwanted labels\n",
        "unwanted_labels = re.compile(r'^(-|20|11|o|--)$')\n",
        "df = df[~df['label'].str.match(unwanted_labels)]"
      ]
    },
    {
      "cell_type": "code",
      "execution_count": null,
      "metadata": {
        "colab": {
          "base_uri": "https://localhost:8080/"
        },
        "id": "nNY0H4JxotP2",
        "outputId": "5ec47c8d-8bbe-4c7a-ce68-34257bf17e7d"
      },
      "outputs": [
        {
          "output_type": "execute_result",
          "data": {
            "text/plain": [
              "array(['2', '1', '0'], dtype=object)"
            ]
          },
          "metadata": {},
          "execution_count": 9
        }
      ],
      "source": [
        "df[\"label\"].unique()"
      ]
    },
    {
      "cell_type": "code",
      "execution_count": null,
      "metadata": {
        "colab": {
          "base_uri": "https://localhost:8080/",
          "height": 467
        },
        "id": "VoY-uZ2UotP3",
        "outputId": "c08ea727-4ef9-439c-e074-556561c6edaa"
      },
      "outputs": [
        {
          "output_type": "display_data",
          "data": {
            "text/plain": [
              "<Figure size 640x480 with 1 Axes>"
            ],
            "image/png": "[encoded data removed]"
          },
          "metadata": {}
        }
      ],
      "source": [
        "# Visualizing Class Balance\n",
        "df[\"label\"].value_counts(normalize=True).plot(kind=\"bar\")\n",
        "plt.xlabel(\"Sentiment Classes\")\n",
        "plt.ylabel(\"Percentage\")\n",
        "plt.title(\"Sentiment Class Balance\");\n"
      ]
    },
    {
      "cell_type": "code",
      "execution_count": null,
      "metadata": {
        "id": "Xi0cnDD3otP3"
      },
      "outputs": [],
      "source": [
        "X_train, y_train = df[\"text\"],df[\"label\"]"
      ]
    },
    {
      "cell_type": "markdown",
      "metadata": {
        "id": "JeTt9ovaotP3"
      },
      "source": [
        "## Text Preprocessing"
      ]
    },
    {
      "cell_type": "code",
      "execution_count": null,
      "metadata": {
        "id": "3032KMHSotP4"
      },
      "outputs": [],
      "source": [
        "import nltk"
      ]
    },
    {
      "cell_type": "code",
      "execution_count": null,
      "metadata": {
        "colab": {
          "base_uri": "https://localhost:8080/",
          "height": 36
        },
        "id": "pQWcoT4EotP4",
        "outputId": "24ffcec9-b38c-4abf-951a-631639de814f"
      },
      "outputs": [
        {
          "output_type": "execute_result",
          "data": {
            "text/plain": [
              "'मध्यभोटेकोशिको शेयर ,, कर्मचारी संञ्चयकोष का संञ्चयकर्ताहरुको नाममा परेको शेयर कहिले मेरो शेयरमा देखाउँछ होला ????? प्रष्ट पारिदिनु होला ,'"
            ],
            "application/vnd.google.colaboratory.intrinsic+json": {
              "type": "string"
            }
          },
          "metadata": {},
          "execution_count": 10
        }
      ],
      "source": [
        "text = X_train[5]\n",
        "text"
      ]
    },
    {
      "cell_type": "code",
      "execution_count": null,
      "metadata": {
        "id": "8IKLYIeootP5"
      },
      "outputs": [],
      "source": [
        "def clean_text(text):\n",
        "    # Remove Links\n",
        "    text = re.sub(r'https?://\\S+|www\\.\\S+', '', text)\n",
        "\n",
        "    # Remove emojis and non-alphanumeric characters, Keeping nepali and English\n",
        "    text = re.sub(r'[^\\w\\s\\u0900-\\u097F\\u0041-\\u005A\\u0061-\\u007A]', '', text)\n",
        "\n",
        "    return text.strip()\n"
      ]
    },
    {
      "cell_type": "code",
      "execution_count": null,
      "metadata": {
        "colab": {
          "base_uri": "https://localhost:8080/",
          "height": 241
        },
        "id": "VhirBO5potP5",
        "outputId": "48cd7d39-3fda-4a31-b6e4-11ce54600b2f"
      },
      "outputs": [
        {
          "output_type": "execute_result",
          "data": {
            "text/plain": [
              "0    बजार ले जसरी ट्रेन्ड चेन्ज गर्यो यो हेर्दा तत्...\n",
              "1    1000 अंकले घटेको नेप्से 200 अंकले बढ्नु ठूलो क...\n",
              "2    होइन यो सानिमा बैंक ले bonus घोसणा गरेको २ महि...\n",
              "3    खैँ MBJC प्रति कित्तामा रू10ले बढेर आज रू1100 ...\n",
              "4                                           राम्रो भयो\n",
              "Name: text, dtype: object"
            ],
            "text/html": [
              "<div>\n",
              "<style scoped>\n",
              "    .dataframe tbody tr th:only-of-type {\n",
              "        vertical-align: middle;\n",
              "    }\n",
              "\n",
              "    .dataframe tbody tr th {\n",
              "        vertical-align: top;\n",
              "    }\n",
              "\n",
              "    .dataframe thead th {\n",
              "        text-align: right;\n",
              "    }\n",
              "</style>\n",
              "<table border=\"1\" class=\"dataframe\">\n",
              "  <thead>\n",
              "    <tr style=\"text-align: right;\">\n",
              "      <th></th>\n",
              "      <th>text</th>\n",
              "    </tr>\n",
              "  </thead>\n",
              "  <tbody>\n",
              "    <tr>\n",
              "      <th>0</th>\n",
              "      <td>बजार ले जसरी ट्रेन्ड चेन्ज गर्यो यो हेर्दा तत्...</td>\n",
              "    </tr>\n",
              "    <tr>\n",
              "      <th>1</th>\n",
              "      <td>1000 अंकले घटेको नेप्से 200 अंकले बढ्नु ठूलो क...</td>\n",
              "    </tr>\n",
              "    <tr>\n",
              "      <th>2</th>\n",
              "      <td>होइन यो सानिमा बैंक ले bonus घोसणा गरेको २ महि...</td>\n",
              "    </tr>\n",
              "    <tr>\n",
              "      <th>3</th>\n",
              "      <td>खैँ MBJC प्रति कित्तामा रू10ले बढेर आज रू1100 ...</td>\n",
              "    </tr>\n",
              "    <tr>\n",
              "      <th>4</th>\n",
              "      <td>राम्रो भयो</td>\n",
              "    </tr>\n",
              "  </tbody>\n",
              "</table>\n",
              "</div><br><label><b>dtype:</b> object</label>"
            ]
          },
          "metadata": {},
          "execution_count": 12
        }
      ],
      "source": [
        "X_train = X_train.astype(str).apply(clean_text)\n",
        "X_train.head()"
      ]
    },
    {
      "cell_type": "code",
      "execution_count": null,
      "metadata": {
        "id": "52HyH3jZotP5",
        "outputId": "0fbd4c9a-58d0-4527-c6ba-051baf8d1d16"
      },
      "outputs": [
        {
          "data": {
            "text/plain": [
              "'बजार ले जसरी ट्रेन्ड चेन्ज गर्यो यो हेर्दा तत्काल प्रोफिट बूकिङ आउने सम्भावना रहेन  भोलि अर्को ट्रेन्ड समात्न सक्ने अबस्था पनि दरो छ'"
            ]
          },
          "execution_count": 73,
          "metadata": {},
          "output_type": "execute_result"
        }
      ],
      "source": [
        "X_train[0]"
      ]
    },
    {
      "cell_type": "markdown",
      "metadata": {
        "id": "YhOzgNgIotP5"
      },
      "source": [
        "### Removing Stopwords"
      ]
    },
    {
      "cell_type": "code",
      "execution_count": null,
      "metadata": {
        "colab": {
          "base_uri": "https://localhost:8080/"
        },
        "id": "MWqp-fYSotP5",
        "outputId": "6df613d4-6a97-4949-e59d-4b93a2059762"
      },
      "outputs": [
        {
          "output_type": "stream",
          "name": "stderr",
          "text": [
            "[nltk_data] Downloading package stopwords to /root/nltk_data...\n",
            "[nltk_data]   Unzipping corpora/stopwords.zip.\n"
          ]
        },
        {
          "output_type": "execute_result",
          "data": {
            "text/plain": [
              "True"
            ]
          },
          "metadata": {},
          "execution_count": 3
        }
      ],
      "source": [
        "# Removing Stopwords\n",
        "from nltk.corpus import stopwords\n",
        "nltk.download('stopwords')"
      ]
    },
    {
      "cell_type": "code",
      "execution_count": null,
      "metadata": {
        "id": "iauDp6N6otP5"
      },
      "outputs": [],
      "source": [
        "with open('nepali', 'r', encoding='utf-8-sig') as f:\n",
        "    nepali_stopwords = [line.strip() for line in f]"
      ]
    },
    {
      "cell_type": "code",
      "execution_count": null,
      "metadata": {
        "colab": {
          "base_uri": "https://localhost:8080/"
        },
        "id": "DuVv0XE8otP6",
        "outputId": "9fd0f1ae-b5c1-4d2d-a5fb-e294cb792162"
      },
      "outputs": [
        {
          "output_type": "execute_result",
          "data": {
            "text/plain": [
              "['छ', 'र', 'पनि', 'छन्', 'लागि']"
            ]
          },
          "metadata": {},
          "execution_count": 17
        }
      ],
      "source": [
        "nepali_stopwords[:5]"
      ]
    },
    {
      "cell_type": "code",
      "execution_count": null,
      "metadata": {
        "id": "932aQBFyotP6"
      },
      "outputs": [],
      "source": [
        "english_stopwords = nltk.corpus.stopwords.words('english')\n",
        "combined_stopwords = nepali_stopwords + english_stopwords"
      ]
    },
    {
      "cell_type": "code",
      "execution_count": null,
      "metadata": {
        "id": "xHUZvS-xotP6"
      },
      "outputs": [],
      "source": [
        "# Remove stopwords\n",
        "def remove_stopwords(text,stopword_list):\n",
        "    words = text.split()\n",
        "    filtered_words = [word for word in words if word.lower() not in stopword_list]\n",
        "    return ' '.join(filtered_words)\n",
        "\n",
        "X_train = X_train.apply(remove_stopwords,args=(combined_stopwords,))\n",
        "# text = remove_stopwords(text, combined_stopwords)\n",
        "# text"
      ]
    },
    {
      "cell_type": "code",
      "execution_count": null,
      "metadata": {
        "id": "fakbneWhotP6",
        "outputId": "698ecc14-735d-48ad-fdc2-41408bd2f2a3"
      },
      "outputs": [
        {
          "data": {
            "text/plain": [
              "'ऋषि धमला अरुलाइ बोल्न नदिने कस्तो कबाडी ऋषि'"
            ]
          },
          "execution_count": 84,
          "metadata": {},
          "output_type": "execute_result"
        }
      ],
      "source": [
        "X_train[500]"
      ]
    },
    {
      "cell_type": "markdown",
      "metadata": {
        "id": "7wFHuK7YotP6"
      },
      "source": [
        "### Tokenization"
      ]
    },
    {
      "cell_type": "code",
      "execution_count": null,
      "metadata": {
        "id": "h_QtREuCotP6"
      },
      "outputs": [],
      "source": [
        "from nepalitokenizers import WordPiece\n",
        "\n",
        "def tokenize(text):\n",
        "\n",
        "    tokenizer_wp = WordPiece()\n",
        "    tokens = tokenizer_wp.encode(text)\n",
        "    return tokens.tokens\n",
        "\n",
        "X_train = X_train.apply(tokenize)\n",
        "# print(tokens.ids)\n",
        "# print(tokens.tokens)\n",
        "\n",
        "# print(tokenizer_wp.decode(tokens.ids))"
      ]
    },
    {
      "cell_type": "code",
      "execution_count": null,
      "metadata": {
        "id": "GuFNP4iPotP6",
        "outputId": "208aed99-2097-4de2-ecf4-2e4ec47b69ff"
      },
      "outputs": [
        {
          "name": "stdout",
          "output_type": "stream",
          "text": [
            "['मध्य', '##भ', '##ोट', '##ेको', '##श', '##िक', '##ो', 'श', '##ेय', '##र', 'कर', '##्म', '##चार', '##ी', 'सं', '##ञ', '##्', '##च', '##यक', '##ो', '##ष', 'सं', '##ञ', '##्', '##च', '##यक', '##र', '##्ता', '##हर', '##ुक', '##ो', 'नाम', '##मा', 'पर', '##ेको', 'श', '##ेय', '##र', 'क', '##हिले', 'श', '##ेय', '##र', '##मा', 'देखा', '##उ', '##ँ', '##छ', 'हो', '##ला', 'प', '##्र', '##ष्ट', 'प', '##ार', '##ि', '##द', '##िन', '##ु', 'हो', '##ला']\n"
          ]
        }
      ],
      "source": [
        "# from transformers import AutoTokenizer\n",
        "\n",
        "# # Load a multilingual model tokenizer (mBERT or XLM-R)\n",
        "# tokenizer = AutoTokenizer.from_pretrained(\"bert-base-multilingual-cased\")\n",
        "\n",
        "# tokens = tokenizer.tokenize(text)\n",
        "\n",
        "# print(tokens)"
      ]
    },
    {
      "cell_type": "code",
      "execution_count": null,
      "metadata": {
        "id": "EUri1SyDotP6",
        "outputId": "a4235d94-bbd0-470a-ada8-79931d0f0890"
      },
      "outputs": [
        {
          "data": {
            "text/plain": [
              "0    [[CLS], बजार, जसरी, ट्रेन्ड, चेन, ##्, ##ज, गर...\n",
              "1    [[CLS], 100, ##0, अंकले, घटेको, नेप्से, 20, ##...\n",
              "2    [[CLS], होइन, सानिमा, बैंक, bo, ##nu, ##s, घो,...\n",
              "3    [[CLS], खै, ##ँ, m, ##b, ##j, ##c, कित्ता, ##म...\n",
              "4                                  [[CLS], भयो, [SEP]]\n",
              "Name: text, dtype: object"
            ]
          },
          "execution_count": 88,
          "metadata": {},
          "output_type": "execute_result"
        }
      ],
      "source": [
        "X_train.head()"
      ]
    },
    {
      "cell_type": "markdown",
      "metadata": {
        "id": "2091SGIuotP7"
      },
      "source": [
        "### TF-IDF Vectorization"
      ]
    },
    {
      "cell_type": "code",
      "execution_count": null,
      "metadata": {
        "id": "-hEV8yyvotP7"
      },
      "outputs": [],
      "source": [
        "X_train_cleaned = X_train.apply(lambda tokens: [token for token in tokens if token not in ['[CLS]', '[SEP]']])"
      ]
    },
    {
      "cell_type": "code",
      "execution_count": null,
      "metadata": {
        "id": "ZX8CDR4SotP7",
        "outputId": "94b76e30-93c5-48ed-c110-eb25517cf834"
      },
      "outputs": [
        {
          "data": {
            "text/plain": [
              "0    [बजार, जसरी, ट्रेन्ड, चेन, ##्, ##ज, गर्यो, हे...\n",
              "1    [100, ##0, अंकले, घटेको, नेप्से, 20, ##0, अंकल...\n",
              "2    [होइन, सानिमा, बैंक, bo, ##nu, ##s, घो, ##स, #...\n",
              "3    [खै, ##ँ, m, ##b, ##j, ##c, कित्ता, ##मा, रू, ...\n",
              "4                                                [भयो]\n",
              "Name: text, dtype: object"
            ]
          },
          "execution_count": 90,
          "metadata": {},
          "output_type": "execute_result"
        }
      ],
      "source": [
        "X_train_cleaned.head()"
      ]
    },
    {
      "cell_type": "code",
      "execution_count": null,
      "metadata": {
        "id": "6rTKWVoUotP7",
        "outputId": "5f4226ba-f2a5-4cea-b015-a71277b5bad9"
      },
      "outputs": [
        {
          "name": "stdout",
          "output_type": "stream",
          "text": [
            "(5991, 1432)\n"
          ]
        }
      ],
      "source": [
        "from sklearn.feature_extraction.text import TfidfVectorizer\n",
        "\n",
        "# Join tokenized sentences back to strings\n",
        "X_train_joined = [' '.join(tokens) for tokens in X_train_cleaned]\n",
        "vectorizer = TfidfVectorizer(max_features=2500)\n",
        "vectorized = vectorizer.fit(X_train_joined)\n",
        "X_train_tfidf = vectorized.transform(X_train_joined)\n",
        "\n",
        "print(X_train_tfidf.shape)"
      ]
    },
    {
      "cell_type": "markdown",
      "metadata": {
        "id": "ZhwV84fEotP8"
      },
      "source": [
        "## Model Training"
      ]
    },
    {
      "cell_type": "code",
      "execution_count": null,
      "metadata": {
        "id": "KW3F6DQLotP8",
        "outputId": "38e4ffe6-ee82-4c10-b606-f036380faeb1"
      },
      "outputs": [
        {
          "name": "stdout",
          "output_type": "stream",
          "text": [
            "Accuracy: 0.7282590552495409\n"
          ]
        },
        {
          "name": "stderr",
          "output_type": "stream",
          "text": [
            "d:\\Internship\\Nepali-Sentiment-Classification\\NepaliSentiment\\myenv\\lib\\site-packages\\sklearn\\linear_model\\_logistic.py:1247: FutureWarning: 'multi_class' was deprecated in version 1.5 and will be removed in 1.7. From then on, it will always use 'multinomial'. Leave it to its default value to avoid this warning.\n",
            "  warnings.warn(\n"
          ]
        }
      ],
      "source": [
        "from sklearn.linear_model import LogisticRegression\n",
        "from sklearn.metrics import classification_report\n",
        "from sklearn.metrics import accuracy_score\n",
        "\n",
        "model = LogisticRegression(multi_class='multinomial', solver='lbfgs')\n",
        "model.fit(X_train_tfidf, y_train)\n",
        "\n",
        "y_pred = model.predict(X_train_tfidf)\n",
        "\n",
        "print(\"Accuracy:\", accuracy_score(y_train, y_pred))"
      ]
    },
    {
      "cell_type": "markdown",
      "metadata": {
        "id": "rYDSlIz2otP8"
      },
      "source": [
        "### Pipeline for test data"
      ]
    },
    {
      "cell_type": "code",
      "execution_count": null,
      "metadata": {
        "id": "BXxg0MhnotP8"
      },
      "outputs": [],
      "source": [
        "def clean_text(text):\n",
        "    # Remove Links\n",
        "    text = re.sub(r'https?://\\S+|www\\.\\S+', '', text)\n",
        "\n",
        "    # Remove emojis and non-alphanumeric characters, Keeping nepali and English\n",
        "    text = re.sub(r'[^\\w\\s\\u0900-\\u097F\\u0041-\\u005A\\u0061-\\u007A]', '', text)\n",
        "\n",
        "    return text.strip()\n",
        "\n",
        "def remove_stopwords(text,stopword_list):\n",
        "    words = text.split()\n",
        "    filtered_words = [word for word in words if word.lower() not in stopword_list]\n",
        "    return ' '.join(filtered_words)\n",
        "\n",
        "def tokenize(text):\n",
        "    tokenizer_wp = WordPiece()\n",
        "    tokens = tokenizer_wp.encode(text)\n",
        "    return tokens.tokens\n",
        "\n",
        "df_test = pd.read_csv(\"test.csv\",encoding=\"utf-8\")\n",
        "\n",
        "unwanted_labels = re.compile(r'^(-|20|11|o|--)$')\n",
        "df_test = df_test[~df_test['label'].str.match(unwanted_labels)]\n",
        "\n",
        "#Split\n",
        "X_test,y_test = df_test[\"text\"], df_test[\"label\"]\n",
        "\n",
        "X_test = X_test.astype(str).apply(clean_text)\n",
        "\n",
        "X_test = X_test.apply(remove_stopwords,args=(combined_stopwords,))\n",
        "\n",
        "X_test = X_test.apply(tokenize)\n",
        "\n",
        "X_test_cleaned = X_test.apply(lambda tokens: [token for token in tokens if token not in ['[CLS]', '[SEP]']])\n",
        "\n",
        "# Join tokenized sentences back to strings\n",
        "X_test_joined = [' '.join(tokens) for tokens in X_test_cleaned]\n",
        "X_test_tfidf = vectorized.transform(X_test_joined)"
      ]
    },
    {
      "cell_type": "code",
      "execution_count": null,
      "metadata": {
        "id": "-1TudEOQotP8",
        "outputId": "4f4b98db-b33b-4a25-f5a1-910d0fbbf539"
      },
      "outputs": [
        {
          "name": "stdout",
          "output_type": "stream",
          "text": [
            "(1994, 1432)\n"
          ]
        }
      ],
      "source": [
        "print(X_test_tfidf.shape)"
      ]
    },
    {
      "cell_type": "code",
      "execution_count": null,
      "metadata": {
        "id": "j7DvRGN9otP8",
        "outputId": "5e64e8c7-3697-46ab-f739-259f3a5238dd"
      },
      "outputs": [
        {
          "name": "stdout",
          "output_type": "stream",
          "text": [
            "Accuracy: 0.5170511534603811\n"
          ]
        }
      ],
      "source": [
        "y_pred = model.predict(X_test_tfidf)\n",
        "\n",
        "print(\"Accuracy:\", accuracy_score(y_test, y_pred))"
      ]
    },
    {
      "cell_type": "markdown",
      "metadata": {
        "id": "csfH-KL7otP8"
      },
      "source": [
        "### Applying Regularization"
      ]
    },
    {
      "cell_type": "code",
      "execution_count": null,
      "metadata": {
        "id": "MxTElbHjotP9",
        "outputId": "66d4fc19-8a85-4b28-92b3-cfacf418c516"
      },
      "outputs": [
        {
          "name": "stdout",
          "output_type": "stream",
          "text": [
            "Accuracy: 0.7282590552495409\n",
            "Accuracy: 0.5170511534603811\n"
          ]
        },
        {
          "name": "stderr",
          "output_type": "stream",
          "text": [
            "d:\\Internship\\Nepali-Sentiment-Classification\\NepaliSentiment\\myenv\\lib\\site-packages\\sklearn\\linear_model\\_logistic.py:1247: FutureWarning: 'multi_class' was deprecated in version 1.5 and will be removed in 1.7. From then on, it will always use 'multinomial'. Leave it to its default value to avoid this warning.\n",
            "  warnings.warn(\n"
          ]
        }
      ],
      "source": [
        "model = LogisticRegression(multi_class='multinomial')\n",
        "model.fit(X_train_tfidf, y_train)\n",
        "\n",
        "y_pred_train = model.predict(X_train_tfidf)\n",
        "\n",
        "print(\"Accuracy:\", accuracy_score(y_train, y_pred_train))\n",
        "\n",
        "y_pred_test = model.predict(X_test_tfidf)\n",
        "\n",
        "print(\"Accuracy:\", accuracy_score(y_test, y_pred_test))"
      ]
    },
    {
      "cell_type": "markdown",
      "metadata": {
        "id": "qmp9yuPlotP9"
      },
      "source": [
        "### Cross Validation"
      ]
    },
    {
      "cell_type": "code",
      "execution_count": null,
      "metadata": {
        "id": "DgwVti09otP9",
        "outputId": "20ca2c87-6ce1-49ab-fdea-728ff34885b5"
      },
      "outputs": [
        {
          "name": "stderr",
          "output_type": "stream",
          "text": [
            "d:\\Internship\\Nepali-Sentiment-Classification\\NepaliSentiment\\myenv\\lib\\site-packages\\sklearn\\linear_model\\_logistic.py:1247: FutureWarning: 'multi_class' was deprecated in version 1.5 and will be removed in 1.7. From then on, it will always use 'multinomial'. Leave it to its default value to avoid this warning.\n",
            "  warnings.warn(\n",
            "d:\\Internship\\Nepali-Sentiment-Classification\\NepaliSentiment\\myenv\\lib\\site-packages\\sklearn\\linear_model\\_logistic.py:1247: FutureWarning: 'multi_class' was deprecated in version 1.5 and will be removed in 1.7. From then on, it will always use 'multinomial'. Leave it to its default value to avoid this warning.\n",
            "  warnings.warn(\n",
            "d:\\Internship\\Nepali-Sentiment-Classification\\NepaliSentiment\\myenv\\lib\\site-packages\\sklearn\\linear_model\\_logistic.py:1247: FutureWarning: 'multi_class' was deprecated in version 1.5 and will be removed in 1.7. From then on, it will always use 'multinomial'. Leave it to its default value to avoid this warning.\n",
            "  warnings.warn(\n",
            "d:\\Internship\\Nepali-Sentiment-Classification\\NepaliSentiment\\myenv\\lib\\site-packages\\sklearn\\linear_model\\_logistic.py:1247: FutureWarning: 'multi_class' was deprecated in version 1.5 and will be removed in 1.7. From then on, it will always use 'multinomial'. Leave it to its default value to avoid this warning.\n",
            "  warnings.warn(\n"
          ]
        },
        {
          "name": "stdout",
          "output_type": "stream",
          "text": [
            "Cross-validation scores: [0.48040033 0.57846411 0.66777963 0.6293823  0.56176962]\n",
            "Mean cross-validation score: 0.5835591986087459\n"
          ]
        },
        {
          "name": "stderr",
          "output_type": "stream",
          "text": [
            "d:\\Internship\\Nepali-Sentiment-Classification\\NepaliSentiment\\myenv\\lib\\site-packages\\sklearn\\linear_model\\_logistic.py:1247: FutureWarning: 'multi_class' was deprecated in version 1.5 and will be removed in 1.7. From then on, it will always use 'multinomial'. Leave it to its default value to avoid this warning.\n",
            "  warnings.warn(\n"
          ]
        }
      ],
      "source": [
        "from sklearn.model_selection import cross_val_score\n",
        "\n",
        "scores = cross_val_score(model, X_train_tfidf, y_train, cv=5)\n",
        "print(\"Cross-validation scores:\", scores)\n",
        "\n",
        "print(\"Mean cross-validation score:\", scores.mean())"
      ]
    },
    {
      "cell_type": "markdown",
      "metadata": {
        "id": "hvlhTLC8otQB"
      },
      "source": [
        "# NepaBERTa Model"
      ]
    },
    {
      "cell_type": "markdown",
      "source": [
        "## Data PreProcessing"
      ],
      "metadata": {
        "id": "Dzen9BR2Tzkd"
      }
    },
    {
      "cell_type": "code",
      "source": [
        "# Function to remove URL and emojis\n",
        "def clean_text(text):\n",
        "    # Remove Links\n",
        "    text = re.sub(r'https?://\\S+|www\\.\\S+', '', text)\n",
        "\n",
        "    # Remove emojis and non-alphanumeric characters, Keeping nepali and English\n",
        "    text = re.sub(r'[^\\w\\s\\u0900-\\u097F\\u0041-\\u005A\\u0061-\\u007A]', '', text)\n",
        "\n",
        "    return text.strip()\n",
        "\n",
        "# Function to remove Nepali and English Stopwords\n",
        "def remove_stopwords(text,stopword_list):\n",
        "    words = text.split()\n",
        "    filtered_words = [word for word in words if word.lower() not in stopword_list]\n",
        "    return ' '.join(filtered_words)\n",
        "\n",
        "# Read train and test Data\n",
        "df_train = pd.read_csv(\"train.csv\",encoding=\"utf-8\")\n",
        "df_test = pd.read_csv(\"test.csv\",encoding=\"utf-8\")\n",
        "\n",
        "# Combine df_train and df_test into same df\n",
        "df = pd.concat([df_train, df_test], ignore_index=True)\n",
        "\n",
        "# Removing Unwanted Labeles\n",
        "unwanted_labels = re.compile(r'^(-|20|11|o|--)$')\n",
        "df = df[~df['label'].str.match(unwanted_labels)]\n",
        "\n",
        "# Drop any row with NA values\n",
        "df.dropna(inplace=True)\n",
        "\n",
        "# X,y Split\n",
        "X,y = df[\"text\"], df[\"label\"].astype(int)\n",
        "\n",
        "# Apply clean_test function\n",
        "X = X.astype(str).apply(clean_text)\n",
        "\n",
        "# Apply remove_stopwords Function\n",
        "X = X.apply(remove_stopwords,args=(combined_stopwords,))\n"
      ],
      "metadata": {
        "id": "eNxhcdUOphSu"
      },
      "execution_count": null,
      "outputs": []
    },
    {
      "cell_type": "code",
      "source": [
        "X"
      ],
      "metadata": {
        "colab": {
          "base_uri": "https://localhost:8080/",
          "height": 458
        },
        "id": "oQAYvonQrv_I",
        "outputId": "9a4085ef-b23c-4974-c39d-5072826c92ff"
      },
      "execution_count": null,
      "outputs": [
        {
          "output_type": "execute_result",
          "data": {
            "text/plain": [
              "0       बजार जसरी ट्रेन्ड चेन्ज गर्यो हेर्दा प्रोफिट ब...\n",
              "1       1000 अंकले घटेको नेप्से 200 अंकले बढ्नु ठूलो क...\n",
              "2       होइन सानिमा बैंक bonus घोसणा २ महिना भयो book ...\n",
              "3       खैँ MBJC कित्तामा रू10ले बढेर आज रू1100 भयो 10...\n",
              "4                                                     भयो\n",
              "                              ...                        \n",
              "7991          कस्ता कस्ता पागल memory king छन यार नेपालमा\n",
              "7992                                      मूर्ख बिजय साही\n",
              "7993               बिजय शाहीलाई निरुत्साहित पुण्य गौतम जी\n",
              "7994    यस्ता बिदेशी महादलालीहरु कहाँ गएर प्रश्नको उत्...\n",
              "7995    बुढा खालहरूमा बाँकि नेताहरुमा बाबुराम जतिको उद...\n",
              "Name: text, Length: 7985, dtype: object"
            ],
            "text/html": [
              "<div>\n",
              "<style scoped>\n",
              "    .dataframe tbody tr th:only-of-type {\n",
              "        vertical-align: middle;\n",
              "    }\n",
              "\n",
              "    .dataframe tbody tr th {\n",
              "        vertical-align: top;\n",
              "    }\n",
              "\n",
              "    .dataframe thead th {\n",
              "        text-align: right;\n",
              "    }\n",
              "</style>\n",
              "<table border=\"1\" class=\"dataframe\">\n",
              "  <thead>\n",
              "    <tr style=\"text-align: right;\">\n",
              "      <th></th>\n",
              "      <th>text</th>\n",
              "    </tr>\n",
              "  </thead>\n",
              "  <tbody>\n",
              "    <tr>\n",
              "      <th>0</th>\n",
              "      <td>बजार जसरी ट्रेन्ड चेन्ज गर्यो हेर्दा प्रोफिट ब...</td>\n",
              "    </tr>\n",
              "    <tr>\n",
              "      <th>1</th>\n",
              "      <td>1000 अंकले घटेको नेप्से 200 अंकले बढ्नु ठूलो क...</td>\n",
              "    </tr>\n",
              "    <tr>\n",
              "      <th>2</th>\n",
              "      <td>होइन सानिमा बैंक bonus घोसणा २ महिना भयो book ...</td>\n",
              "    </tr>\n",
              "    <tr>\n",
              "      <th>3</th>\n",
              "      <td>खैँ MBJC कित्तामा रू10ले बढेर आज रू1100 भयो 10...</td>\n",
              "    </tr>\n",
              "    <tr>\n",
              "      <th>4</th>\n",
              "      <td>भयो</td>\n",
              "    </tr>\n",
              "    <tr>\n",
              "      <th>...</th>\n",
              "      <td>...</td>\n",
              "    </tr>\n",
              "    <tr>\n",
              "      <th>7991</th>\n",
              "      <td>कस्ता कस्ता पागल memory king छन यार नेपालमा</td>\n",
              "    </tr>\n",
              "    <tr>\n",
              "      <th>7992</th>\n",
              "      <td>मूर्ख बिजय साही</td>\n",
              "    </tr>\n",
              "    <tr>\n",
              "      <th>7993</th>\n",
              "      <td>बिजय शाहीलाई निरुत्साहित पुण्य गौतम जी</td>\n",
              "    </tr>\n",
              "    <tr>\n",
              "      <th>7994</th>\n",
              "      <td>यस्ता बिदेशी महादलालीहरु कहाँ गएर प्रश्नको उत्...</td>\n",
              "    </tr>\n",
              "    <tr>\n",
              "      <th>7995</th>\n",
              "      <td>बुढा खालहरूमा बाँकि नेताहरुमा बाबुराम जतिको उद...</td>\n",
              "    </tr>\n",
              "  </tbody>\n",
              "</table>\n",
              "<p>7985 rows × 1 columns</p>\n",
              "</div><br><label><b>dtype:</b> object</label>"
            ]
          },
          "metadata": {},
          "execution_count": 29
        }
      ]
    },
    {
      "cell_type": "code",
      "source": [
        "X.values"
      ],
      "metadata": {
        "colab": {
          "base_uri": "https://localhost:8080/"
        },
        "id": "-G9-c7lHwsr8",
        "outputId": "c097ee75-6b9e-4e25-d53b-c63ac29478b9"
      },
      "execution_count": null,
      "outputs": [
        {
          "output_type": "execute_result",
          "data": {
            "text/plain": [
              "array(['बजार जसरी ट्रेन्ड चेन्ज गर्यो हेर्दा प्रोफिट बूकिङ आउने सम्भावना रहेन भोलि ट्रेन्ड समात्न सक्ने अबस्था दरो',\n",
              "       '1000 अंकले घटेको नेप्से 200 अंकले बढ्नु ठूलो कुरो होइन किन्ने अवसर है।',\n",
              "       'होइन सानिमा बैंक bonus घोसणा २ महिना भयो book close अहिले खातामा आउदैन ब्याज दिने योजना रहेछ क्या',\n",
              "       ..., 'बिजय शाहीलाई निरुत्साहित पुण्य गौतम जी',\n",
              "       'यस्ता बिदेशी महादलालीहरु कहाँ गएर प्रश्नको उत्तर खोज्नुनै दुर्भाग्या हो।',\n",
              "       'बुढा खालहरूमा बाँकि नेताहरुमा बाबुराम जतिको उदारबादि सक्षम अरू भो।'],\n",
              "      dtype=object)"
            ]
          },
          "metadata": {},
          "execution_count": 32
        }
      ]
    },
    {
      "cell_type": "code",
      "source": [
        "y.values"
      ],
      "metadata": {
        "colab": {
          "base_uri": "https://localhost:8080/"
        },
        "id": "cggRJTIUxF6U",
        "outputId": "9d68e95d-1808-4703-d5c4-607267fc4a13"
      },
      "execution_count": null,
      "outputs": [
        {
          "output_type": "execute_result",
          "data": {
            "text/plain": [
              "array(['2', '1', '2', ..., '0', '0', '0'], dtype=object)"
            ]
          },
          "metadata": {},
          "execution_count": 34
        }
      ]
    },
    {
      "cell_type": "markdown",
      "source": [
        "### Tokenization"
      ],
      "metadata": {
        "id": "nTxVvH7yw0kc"
      }
    },
    {
      "cell_type": "code",
      "source": [
        "from transformers import AutoTokenizer\n",
        "\n",
        "# AutoTokenizer to automatically select the appropriate tokenizer for a given pre-trained model\n",
        "tokenizer = AutoTokenizer.from_pretrained(\"NepBERTa/NepBERTa\")"
      ],
      "metadata": {
        "id": "fkgm184QrySq",
        "colab": {
          "base_uri": "https://localhost:8080/",
          "height": 210,
          "referenced_widgets": [
            "6ced122812d44f289d6d6933d98f7962",
            "67f7e9608a8c4c52bc76839859768798",
            "cf2ca80dac8e4c6c8cbab393418a3a9a",
            "97b0f17f932b443d8291e91fdb0386db",
            "4a75ac95e785483db02f494cda2f9bc6",
            "71f53fb48a424d7180d623712da41550",
            "df94283162734e9e9e82a5b92e7b256b",
            "081cedd4680845119921d665544e46eb",
            "627ad0f82a1f4eca8c0ca72626b65172",
            "e332717ccbfb42829eaaca3f6bf9a430",
            "cbbf8b1a477c4cf195bf94291182d210",
            "7e753c7e994744bab8a52d18b21e3a4c",
            "dea7c93b4894471eb66f81e4b8918c6b",
            "b4a2fac5e4404307a0b3da7bb6a0a4cd",
            "1f39f0b0ae994206b56a333d89c4df92",
            "37ecaf6afc834dae8e59df4d272241a8",
            "e3d257c071894e9393aa6840aaf90cff",
            "542a3b92a97c4b8b95fbf2c0346358ed",
            "dfc1e79345d44889a02018675eb1e0d2",
            "a3825e2c27f74edaa111d08a77ebedf7",
            "7c3a4362f37e451b8f91e18be0b90182",
            "84d02c3a0ca2409397e750624218ff30"
          ]
        },
        "outputId": "4b7d5044-1000-4bea-a2d9-1d4c39b0fa78"
      },
      "execution_count": null,
      "outputs": [
        {
          "output_type": "stream",
          "name": "stderr",
          "text": [
            "/usr/local/lib/python3.10/dist-packages/huggingface_hub/utils/_auth.py:94: UserWarning: \n",
            "The secret `HF_TOKEN` does not exist in your Colab secrets.\n",
            "To authenticate with the Hugging Face Hub, create a token in your settings tab (https://huggingface.co/settings/tokens), set it as secret in your Google Colab and restart your session.\n",
            "You will be able to reuse this secret in all of your notebooks.\n",
            "Please note that authentication is recommended but still optional to access public models or datasets.\n",
            "  warnings.warn(\n"
          ]
        },
        {
          "output_type": "display_data",
          "data": {
            "text/plain": [
              "config.json:   0%|          | 0.00/652 [00:00<?, ?B/s]"
            ],
            "application/vnd.jupyter.widget-view+json": {
              "version_major": 2,
              "version_minor": 0,
              "model_id": "6ced122812d44f289d6d6933d98f7962"
            }
          },
          "metadata": {}
        },
        {
          "output_type": "display_data",
          "data": {
            "text/plain": [
              "vocab.txt:   0%|          | 0.00/547k [00:00<?, ?B/s]"
            ],
            "application/vnd.jupyter.widget-view+json": {
              "version_major": 2,
              "version_minor": 0,
              "model_id": "7e753c7e994744bab8a52d18b21e3a4c"
            }
          },
          "metadata": {}
        }
      ]
    },
    {
      "cell_type": "code",
      "source": [
        "import torch"
      ],
      "metadata": {
        "id": "YAEoQAGzw6VM"
      },
      "execution_count": null,
      "outputs": []
    },
    {
      "cell_type": "code",
      "source": [
        "# Tokenize the text data\n",
        "inputs = tokenizer(\n",
        "    X.tolist(),              # Converts X into a Python list of strings, making it compatible with the tokenizer.\n",
        "    max_length=128,          # Adjusted based on the average length of the text\n",
        "    padding=\"max_length\",    # Pads sequences shorter than 128 tokens with special padding tokens ([PAD]) to make all sequences the same length.\n",
        "    truncation=True,         # Truncates sequences longer than 128 tokens to avoid exceeding the maximum input length.\n",
        "    return_tensors=\"pt\"      # Returns the tokenized data as PyTorch tensors. These tensors are needed for input into transformer models.\n",
        ")\n",
        "\n",
        "# Convert labels to tensors\n",
        "labels = torch.tensor(y.tolist())   #  Converts the list into a PyTorch tensor, which is required for model training and evaluation."
      ],
      "metadata": {
        "id": "naYwewfKuYM5"
      },
      "execution_count": null,
      "outputs": []
    },
    {
      "cell_type": "markdown",
      "source": [
        "### Preparing input dataset as required by the Model"
      ],
      "metadata": {
        "id": "OVUGXx1hzFn2"
      }
    },
    {
      "cell_type": "code",
      "source": [
        "from torch.utils.data import DataLoader, TensorDataset\n",
        "\n",
        "# Create a TensorDataset. It combines multiple tensors (of the same length) into a single dataset.\n",
        "dataset = TensorDataset(\n",
        "    inputs['input_ids'],        # Tokenized input text.\n",
        "    inputs['attention_mask'],   # Indicates padding vs. actual tokens.\n",
        "    labels                      # Target labels\n",
        ")\n",
        "\n",
        "# Extract features and labels from the TensorDataset\n",
        "features = torch.cat(\n",
        "    [dataset[i][0].unsqueeze(0) for i in range(len(dataset))]   # Concatenates the list of tensors along the first dimension to form a single 2D tensor.\n",
        ")\n",
        "\n",
        "attention_masks = torch.cat(\n",
        "    [dataset[i][1].unsqueeze(0) for i in range(len(dataset))]   # Extract attention masks\n",
        ")\n",
        "\n",
        "labels = torch.cat(\n",
        "    [dataset[i][2].unsqueeze(0) for i in range(len(dataset))]   # Extract labels\n",
        ")\n"
      ],
      "metadata": {
        "id": "dOA4jKRiyuk1"
      },
      "execution_count": null,
      "outputs": []
    },
    {
      "cell_type": "markdown",
      "source": [
        "#### Stratified Split as data for class 2 is unbalanced"
      ],
      "metadata": {
        "id": "4DTQhszlYJix"
      }
    },
    {
      "cell_type": "code",
      "source": [
        "from sklearn.model_selection import StratifiedShuffleSplit\n",
        "\n",
        "# Initialize stratified splitter for train/test split\n",
        "splitter = StratifiedShuffleSplit(n_splits=1, test_size=0.15, random_state=42)\n",
        "\n",
        "# Perform the split\n",
        "for train_idx, test_idx in splitter.split(features, labels):\n",
        "    X_train, X_test = features[train_idx], features[test_idx]\n",
        "    mask_train, mask_test = attention_masks[train_idx], attention_masks[test_idx]\n",
        "    y_train, y_test = labels[train_idx], labels[test_idx]\n"
      ],
      "metadata": {
        "id": "zTwTzQ4bZW1C"
      },
      "execution_count": null,
      "outputs": []
    },
    {
      "cell_type": "code",
      "source": [
        "# Initialize stratified splitter for train/val split\n",
        "splitter_val = StratifiedShuffleSplit(n_splits=1, test_size=0.1765, random_state=42)  # 15% of total for val\n",
        "\n",
        "for train_idx, val_idx in splitter_val.split(X_train, y_train):\n",
        "    X_train_final, X_val = X_train[train_idx], X_train[val_idx]\n",
        "    mask_train_final, mask_val = mask_train[train_idx], mask_train[val_idx]\n",
        "    y_train_final, y_val = y_train[train_idx], y_train[val_idx]\n"
      ],
      "metadata": {
        "id": "98f9xwU-ZeiD"
      },
      "execution_count": null,
      "outputs": []
    },
    {
      "cell_type": "code",
      "source": [
        "# Wrap splits into TensorDatasets\n",
        "train_dataset = TensorDataset(X_train_final, mask_train_final, y_train_final)\n",
        "val_dataset = TensorDataset(X_val, mask_val, y_val)\n",
        "test_dataset = TensorDataset(X_test, mask_test, y_test)\n",
        "\n",
        "# Create DataLoaders for batching\n",
        "from torch.utils.data import DataLoader\n",
        "\n",
        "train_loader = DataLoader(train_dataset, batch_size=32, shuffle=True)\n",
        "val_loader = DataLoader(val_dataset, batch_size=32)\n",
        "test_loader = DataLoader(test_dataset, batch_size=32)\n"
      ],
      "metadata": {
        "id": "LKMdYUtNZnio"
      },
      "execution_count": null,
      "outputs": []
    },
    {
      "cell_type": "markdown",
      "source": [
        "## MODEL Training"
      ],
      "metadata": {
        "id": "8r_YIBj5Y9-O"
      }
    },
    {
      "cell_type": "code",
      "source": [
        "from transformers import AutoModelForSequenceClassification, AdamW\n",
        "\n",
        "# Load NepBERTa model for classification\n",
        "model = AutoModelForSequenceClassification.from_pretrained(\"NepBERTa/NepBERTa\", num_labels=3, from_tf = True)\n",
        "\n",
        "# Set device to GPU if available\n",
        "device = torch.device(\"cuda\" if torch.cuda.is_available() else \"cpu\")\n",
        "model.to(device)"
      ],
      "metadata": {
        "colab": {
          "base_uri": "https://localhost:8080/",
          "height": 958,
          "referenced_widgets": [
            "a0bbb76f2da74ab7b877f579a1cfa002",
            "27cea097b7574c13aac33317bab7fa65",
            "34983bac1916455fb83a99013e0e92c0",
            "9f9fdb695cda47189172708927429013",
            "d2686b10a6534fca83a752809ea62660",
            "7ebcc05ccf3f4151b0bb5ee918dd7423",
            "3ca222b9535a49c18fbba891f0f27a0c",
            "d9b93e9379dc4e448713fa87111d114e",
            "3d6150ca2a86438da2ea047c11c664de",
            "474b514f446c460a83ce3ba2c6d4b979",
            "74ea6789759f48f6b5d3dd6f02ad7a24"
          ]
        },
        "id": "IG29KiyPZuVi",
        "outputId": "d606c201-61e5-426e-d7bc-51ff50454fdd"
      },
      "execution_count": null,
      "outputs": [
        {
          "output_type": "display_data",
          "data": {
            "text/plain": [
              "tf_model.h5:   0%|          | 0.00/534M [00:00<?, ?B/s]"
            ],
            "application/vnd.jupyter.widget-view+json": {
              "version_major": 2,
              "version_minor": 0,
              "model_id": "a0bbb76f2da74ab7b877f579a1cfa002"
            }
          },
          "metadata": {}
        },
        {
          "output_type": "stream",
          "name": "stderr",
          "text": [
            "All TF 2.0 model weights were used when initializing BertForSequenceClassification.\n",
            "\n",
            "All the weights of BertForSequenceClassification were initialized from the TF 2.0 model.\n",
            "If your task is similar to the task the model of the checkpoint was trained on, you can already use BertForSequenceClassification for predictions without further training.\n"
          ]
        },
        {
          "output_type": "execute_result",
          "data": {
            "text/plain": [
              "BertForSequenceClassification(\n",
              "  (bert): BertModel(\n",
              "    (embeddings): BertEmbeddings(\n",
              "      (word_embeddings): Embedding(30522, 768, padding_idx=0)\n",
              "      (position_embeddings): Embedding(512, 768)\n",
              "      (token_type_embeddings): Embedding(2, 768)\n",
              "      (LayerNorm): LayerNorm((768,), eps=1e-12, elementwise_affine=True)\n",
              "      (dropout): Dropout(p=0.1, inplace=False)\n",
              "    )\n",
              "    (encoder): BertEncoder(\n",
              "      (layer): ModuleList(\n",
              "        (0-11): 12 x BertLayer(\n",
              "          (attention): BertAttention(\n",
              "            (self): BertSdpaSelfAttention(\n",
              "              (query): Linear(in_features=768, out_features=768, bias=True)\n",
              "              (key): Linear(in_features=768, out_features=768, bias=True)\n",
              "              (value): Linear(in_features=768, out_features=768, bias=True)\n",
              "              (dropout): Dropout(p=0.1, inplace=False)\n",
              "            )\n",
              "            (output): BertSelfOutput(\n",
              "              (dense): Linear(in_features=768, out_features=768, bias=True)\n",
              "              (LayerNorm): LayerNorm((768,), eps=1e-12, elementwise_affine=True)\n",
              "              (dropout): Dropout(p=0.1, inplace=False)\n",
              "            )\n",
              "          )\n",
              "          (intermediate): BertIntermediate(\n",
              "            (dense): Linear(in_features=768, out_features=3072, bias=True)\n",
              "            (intermediate_act_fn): GELUActivation()\n",
              "          )\n",
              "          (output): BertOutput(\n",
              "            (dense): Linear(in_features=3072, out_features=768, bias=True)\n",
              "            (LayerNorm): LayerNorm((768,), eps=1e-12, elementwise_affine=True)\n",
              "            (dropout): Dropout(p=0.1, inplace=False)\n",
              "          )\n",
              "        )\n",
              "      )\n",
              "    )\n",
              "    (pooler): BertPooler(\n",
              "      (dense): Linear(in_features=768, out_features=768, bias=True)\n",
              "      (activation): Tanh()\n",
              "    )\n",
              "  )\n",
              "  (dropout): Dropout(p=0.1, inplace=False)\n",
              "  (classifier): Linear(in_features=768, out_features=3, bias=True)\n",
              ")"
            ]
          },
          "metadata": {},
          "execution_count": 15
        }
      ]
    },
    {
      "cell_type": "code",
      "source": [
        "# Optimizer\n",
        "\n",
        "# model.parameters() specifies which parameters of the model the optimizer should update.\n",
        "# It is a generator that returns all trainable parameters of the model.\n",
        "# A smaller learning rate (e.g., 2e-5) is common for fine-tuning pre-trained models like transformers.\n",
        "optimizer = AdamW(model.parameters(), lr=2e-5)\n",
        "\n",
        "\n",
        "# Loss function\n",
        "# CrossEntropyLoss is a commonly used loss function for multi-class problems\n",
        "# It combines Softmax and Negative Log-Likelihood\n",
        "loss_fn = torch.nn.CrossEntropyLoss()\n",
        "\n"
      ],
      "metadata": {
        "colab": {
          "base_uri": "https://localhost:8080/"
        },
        "id": "RctQ6_iTazQk",
        "outputId": "2993be6d-ad6f-46a5-f6c2-acc7af5d224c"
      },
      "execution_count": null,
      "outputs": [
        {
          "output_type": "stream",
          "name": "stderr",
          "text": [
            "/usr/local/lib/python3.10/dist-packages/transformers/optimization.py:591: FutureWarning: This implementation of AdamW is deprecated and will be removed in a future version. Use the PyTorch implementation torch.optim.AdamW instead, or set `no_deprecation_warning=True` to disable this warning\n",
            "  warnings.warn(\n"
          ]
        }
      ]
    },
    {
      "cell_type": "code",
      "source": [
        "from tqdm import tqdm   # Provides a progress bar for loops and other iterable operations."
      ],
      "metadata": {
        "id": "mwGlZI5Nbg10"
      },
      "execution_count": null,
      "outputs": []
    },
    {
      "cell_type": "code",
      "source": [
        "def train_epoch(model, train_loader, optimizer, loss_fn, device):\n",
        "\n",
        "    model.train()  # Set model to training mode\n",
        "    total_loss = 0 # Initialize a variable to track the total loss for this epoch\n",
        "\n",
        "    # Loop through each batch of data from the training DataLoader\n",
        "    for batch in tqdm(train_loader):\n",
        "\n",
        "        # Move input_ids, attention_masks, and labels to the specified device (CPU/GPU)\n",
        "        input_ids, attention_masks, labels = [b.to(device) for b in batch]\n",
        "\n",
        "        # Forward pass\n",
        "        outputs = model(input_ids, attention_mask=attention_masks)\n",
        "\n",
        "        # Extract logits (raw output values) from the model's output\n",
        "        logits = outputs.logits\n",
        "\n",
        "        # Compute the loss using the loss function and the true labels\n",
        "        loss = loss_fn(logits, labels)\n",
        "\n",
        "        # Accumulate the loss value for this batch (convert tensor to Python scalar)\n",
        "        total_loss += loss.item()\n",
        "\n",
        "        # Zero out the gradients from the previous batch (important to avoid accumulation)\n",
        "        optimizer.zero_grad()\n",
        "\n",
        "        # Perform backpropagation to compute gradients of the loss w.r.t model parameters\n",
        "        loss.backward()\n",
        "\n",
        "        # Update the model's parameters using the optimizer\n",
        "        optimizer.step()\n",
        "\n",
        "    avg_loss = total_loss / len(train_loader)\n",
        "    return avg_loss"
      ],
      "metadata": {
        "id": "xQsz4XBWbBLX"
      },
      "execution_count": null,
      "outputs": []
    },
    {
      "cell_type": "code",
      "source": [
        "def validate_epoch(model, val_loader, loss_fn, device):\n",
        "\n",
        "    # Set the model to evaluation mode (disables dropout and other training-specific layers)\n",
        "    model.eval()\n",
        "\n",
        "    # Initialize variables to track total loss, correct predictions, and total examples\n",
        "    total_loss = 0\n",
        "    correct = 0\n",
        "    total = 0\n",
        "\n",
        "    with torch.no_grad():   # Prevents the computation of gradients, making evaluation faster and memory-efficient.\n",
        "\n",
        "        # Loop through each batch of data from the validation DataLoader\n",
        "        for batch in val_loader:\n",
        "\n",
        "            # Move input_ids, attention_masks, and labels to the specified device (CPU/GPU)\n",
        "            input_ids, attention_masks, labels = [b.to(device) for b in batch]\n",
        "\n",
        "            # Forward pass\n",
        "            outputs = model(input_ids, attention_mask=attention_masks)\n",
        "            logits = outputs.logits\n",
        "\n",
        "            # Compute loss\n",
        "            loss = loss_fn(logits, labels)\n",
        "            total_loss += loss.item()\n",
        "\n",
        "            # Compute accuracy\n",
        "            preds = torch.argmax(logits, dim=1)       # Compute the predicted class for each example (index with the highest logit value)\n",
        "            correct += (preds == labels).sum().item() # Count the number of correct predictions\n",
        "            total += labels.size(0)                   # Update the total number of examples processed\n",
        "\n",
        "    avg_loss = total_loss / len(val_loader)\n",
        "    accuracy = correct / total\n",
        "    return avg_loss, accuracy\n"
      ],
      "metadata": {
        "id": "sg3qA0Fsc5V-"
      },
      "execution_count": null,
      "outputs": []
    },
    {
      "cell_type": "code",
      "source": [
        "# Training parameters\n",
        "epochs = 3\n",
        "best_val_accuracy = 0\n",
        "\n",
        "for epoch in range(epochs):\n",
        "    print(f\"Epoch {epoch + 1}/{epochs}\")\n",
        "    train_loss = train_epoch(model, train_loader, optimizer, loss_fn, device)\n",
        "    val_loss, val_accuracy = validate_epoch(model, val_loader, loss_fn, device)\n",
        "\n",
        "    print(f\"Train Loss: {train_loss:.4f}, Validation Loss: {val_loss:.4f}, Validation Accuracy: {val_accuracy:.4f}\")\n",
        "\n",
        "    # Save the best model\n",
        "    if val_accuracy > best_val_accuracy:\n",
        "        best_val_accuracy = val_accuracy\n",
        "        torch.save(model.state_dict(), \"nepaberta_best_model.pth\")\n",
        "        print(\"Model saved.\")\n"
      ],
      "metadata": {
        "colab": {
          "base_uri": "https://localhost:8080/"
        },
        "id": "eQtIvs1Vc_Fl",
        "outputId": "dbee0bbb-5bce-4208-9ba5-2178fad5918e"
      },
      "execution_count": null,
      "outputs": [
        {
          "output_type": "stream",
          "name": "stdout",
          "text": [
            "Epoch 1/3\n"
          ]
        },
        {
          "output_type": "stream",
          "name": "stderr",
          "text": [
            "100%|██████████| 175/175 [01:40<00:00,  1.75it/s]\n"
          ]
        },
        {
          "output_type": "stream",
          "name": "stdout",
          "text": [
            "Train Loss: 0.3070, Validation Loss: 0.9219, Validation Accuracy: 0.7087\n",
            "Model saved.\n",
            "Epoch 2/3\n"
          ]
        },
        {
          "output_type": "stream",
          "name": "stderr",
          "text": [
            "100%|██████████| 175/175 [01:42<00:00,  1.70it/s]\n"
          ]
        },
        {
          "output_type": "stream",
          "name": "stdout",
          "text": [
            "Train Loss: 0.2494, Validation Loss: 1.0231, Validation Accuracy: 0.7045\n",
            "Epoch 3/3\n"
          ]
        },
        {
          "output_type": "stream",
          "name": "stderr",
          "text": [
            "100%|██████████| 175/175 [01:44<00:00,  1.68it/s]\n"
          ]
        },
        {
          "output_type": "stream",
          "name": "stdout",
          "text": [
            "Train Loss: 0.2265, Validation Loss: 0.9753, Validation Accuracy: 0.7237\n",
            "Model saved.\n"
          ]
        }
      ]
    },
    {
      "cell_type": "code",
      "source": [
        "def test_model(model, test_loader, device):\n",
        "    model.eval()\n",
        "    correct = 0\n",
        "    total = 0\n",
        "\n",
        "    with torch.no_grad():\n",
        "        for batch in test_loader:\n",
        "            input_ids, attention_masks, labels = [b.to(device) for b in batch]\n",
        "\n",
        "            # Forward pass\n",
        "            outputs = model(input_ids, attention_mask=attention_masks)\n",
        "            logits = outputs.logits\n",
        "\n",
        "            # Compute accuracy\n",
        "            preds = torch.argmax(logits, dim=1)\n",
        "            correct += (preds == labels).sum().item()\n",
        "            total += labels.size(0)\n",
        "\n",
        "    accuracy = correct / total\n",
        "    print(f\"Test Accuracy: {accuracy:.4f}\")\n",
        "    return accuracy"
      ],
      "metadata": {
        "id": "1dIQP7zhc-_N"
      },
      "execution_count": null,
      "outputs": []
    },
    {
      "cell_type": "markdown",
      "source": [
        "#### Epoch 5 model"
      ],
      "metadata": {
        "id": "npL9rSH9dIcj"
      }
    },
    {
      "cell_type": "code",
      "source": [
        "# Load the best model\n",
        "model.load_state_dict(torch.load(\"nepaberta_best_model.pth\"))\n",
        "model.to(device)\n",
        "\n",
        "# Test the model\n",
        "test_accuracy = test_model(model, test_loader, device)\n"
      ],
      "metadata": {
        "colab": {
          "base_uri": "https://localhost:8080/"
        },
        "id": "80xSB9OweWYr",
        "outputId": "2699d5da-23e5-443b-ee49-5fe85bafdc8d"
      },
      "execution_count": null,
      "outputs": [
        {
          "output_type": "stream",
          "name": "stderr",
          "text": [
            "<ipython-input-21-9e8c5d6ed266>:24: FutureWarning: You are using `torch.load` with `weights_only=False` (the current default value), which uses the default pickle module implicitly. It is possible to construct malicious pickle data which will execute arbitrary code during unpickling (See https://github.com/pytorch/pytorch/blob/main/SECURITY.md#untrusted-models for more details). In a future release, the default value for `weights_only` will be flipped to `True`. This limits the functions that could be executed during unpickling. Arbitrary objects will no longer be allowed to be loaded via this mode unless they are explicitly allowlisted by the user via `torch.serialization.add_safe_globals`. We recommend you start setting `weights_only=True` for any use case where you don't have full control of the loaded file. Please open an issue on GitHub for any issues related to this experimental feature.\n",
            "  model.load_state_dict(torch.load(\"nepaberta_best_model.pth\"))\n"
          ]
        },
        {
          "output_type": "stream",
          "name": "stdout",
          "text": [
            "Test Accuracy: 0.7304\n"
          ]
        }
      ]
    },
    {
      "cell_type": "markdown",
      "source": [
        "#### Epoch 3 model"
      ],
      "metadata": {
        "id": "A0BHT0eshKxa"
      }
    },
    {
      "cell_type": "code",
      "source": [
        "model.load_state_dict(torch.load(\"nepaberta_best_model.pth\"))\n",
        "model.to(device)\n",
        "test_accuracy = test_model(model, test_loader, device)"
      ],
      "metadata": {
        "colab": {
          "base_uri": "https://localhost:8080/"
        },
        "id": "BSTy5EwQhJBA",
        "outputId": "231371b2-d6aa-4eed-a50b-9f391e24e854"
      },
      "execution_count": null,
      "outputs": [
        {
          "output_type": "stream",
          "name": "stderr",
          "text": [
            "<ipython-input-23-2b87f018191c>:1: FutureWarning: You are using `torch.load` with `weights_only=False` (the current default value), which uses the default pickle module implicitly. It is possible to construct malicious pickle data which will execute arbitrary code during unpickling (See https://github.com/pytorch/pytorch/blob/main/SECURITY.md#untrusted-models for more details). In a future release, the default value for `weights_only` will be flipped to `True`. This limits the functions that could be executed during unpickling. Arbitrary objects will no longer be allowed to be loaded via this mode unless they are explicitly allowlisted by the user via `torch.serialization.add_safe_globals`. We recommend you start setting `weights_only=True` for any use case where you don't have full control of the loaded file. Please open an issue on GitHub for any issues related to this experimental feature.\n",
            "  model.load_state_dict(torch.load(\"nepaberta_best_model.pth\"))\n"
          ]
        },
        {
          "output_type": "stream",
          "name": "stdout",
          "text": [
            "Test Accuracy: 0.7254\n"
          ]
        }
      ]
    },
    {
      "cell_type": "code",
      "source": [],
      "metadata": {
        "id": "v2BcdOt7fOCr"
      },
      "execution_count": null,
      "outputs": []
    }
  ],
  "metadata": {
    "kernelspec": {
      "display_name": "Python 3",
      "name": "python3"
    },
    "language_info": {
      "codemirror_mode": {
        "name": "ipython",
        "version": 3
      },
      "file_extension": ".py",
      "mimetype": "text/x-python",
      "name": "python",
      "nbconvert_exporter": "python",
      "pygments_lexer": "ipython3",
      "version": "3.10.2"
    },
    "colab": {
      "provenance": []
    },
    "widgets": {
      "application/vnd.jupyter.widget-state+json": {
        "6ced122812d44f289d6d6933d98f7962": {
          "model_module": "@jupyter-widgets/controls",
          "model_name": "HBoxModel",
          "model_module_version": "1.5.0",
          "state": {
            "_dom_classes": [],
            "_model_module": "@jupyter-widgets/controls",
            "_model_module_version": "1.5.0",
            "_model_name": "HBoxModel",
            "_view_count": null,
            "_view_module": "@jupyter-widgets/controls",
            "_view_module_version": "1.5.0",
            "_view_name": "HBoxView",
            "box_style": "",
            "children": [
              "IPY_MODEL_67f7e9608a8c4c52bc76839859768798",
              "IPY_MODEL_cf2ca80dac8e4c6c8cbab393418a3a9a",
              "IPY_MODEL_97b0f17f932b443d8291e91fdb0386db"
            ],
            "layout": "IPY_MODEL_4a75ac95e785483db02f494cda2f9bc6"
          }
        },
        "67f7e9608a8c4c52bc76839859768798": {
          "model_module": "@jupyter-widgets/controls",
          "model_name": "HTMLModel",
          "model_module_version": "1.5.0",
          "state": {
            "_dom_classes": [],
            "_model_module": "@jupyter-widgets/controls",
            "_model_module_version": "1.5.0",
            "_model_name": "HTMLModel",
            "_view_count": null,
            "_view_module": "@jupyter-widgets/controls",
            "_view_module_version": "1.5.0",
            "_view_name": "HTMLView",
            "description": "",
            "description_tooltip": null,
            "layout": "IPY_MODEL_71f53fb48a424d7180d623712da41550",
            "placeholder": "​",
            "style": "IPY_MODEL_df94283162734e9e9e82a5b92e7b256b",
            "value": "config.json: 100%"
          }
        },
        "cf2ca80dac8e4c6c8cbab393418a3a9a": {
          "model_module": "@jupyter-widgets/controls",
          "model_name": "FloatProgressModel",
          "model_module_version": "1.5.0",
          "state": {
            "_dom_classes": [],
            "_model_module": "@jupyter-widgets/controls",
            "_model_module_version": "1.5.0",
            "_model_name": "FloatProgressModel",
            "_view_count": null,
            "_view_module": "@jupyter-widgets/controls",
            "_view_module_version": "1.5.0",
            "_view_name": "ProgressView",
            "bar_style": "success",
            "description": "",
            "description_tooltip": null,
            "layout": "IPY_MODEL_081cedd4680845119921d665544e46eb",
            "max": 652,
            "min": 0,
            "orientation": "horizontal",
            "style": "IPY_MODEL_627ad0f82a1f4eca8c0ca72626b65172",
            "value": 652
          }
        },
        "97b0f17f932b443d8291e91fdb0386db": {
          "model_module": "@jupyter-widgets/controls",
          "model_name": "HTMLModel",
          "model_module_version": "1.5.0",
          "state": {
            "_dom_classes": [],
            "_model_module": "@jupyter-widgets/controls",
            "_model_module_version": "1.5.0",
            "_model_name": "HTMLModel",
            "_view_count": null,
            "_view_module": "@jupyter-widgets/controls",
            "_view_module_version": "1.5.0",
            "_view_name": "HTMLView",
            "description": "",
            "description_tooltip": null,
            "layout": "IPY_MODEL_e332717ccbfb42829eaaca3f6bf9a430",
            "placeholder": "​",
            "style": "IPY_MODEL_cbbf8b1a477c4cf195bf94291182d210",
            "value": " 652/652 [00:00&lt;00:00, 46.3kB/s]"
          }
        },
        "4a75ac95e785483db02f494cda2f9bc6": {
          "model_module": "@jupyter-widgets/base",
          "model_name": "LayoutModel",
          "model_module_version": "1.2.0",
          "state": {
            "_model_module": "@jupyter-widgets/base",
            "_model_module_version": "1.2.0",
            "_model_name": "LayoutModel",
            "_view_count": null,
            "_view_module": "@jupyter-widgets/base",
            "_view_module_version": "1.2.0",
            "_view_name": "LayoutView",
            "align_content": null,
            "align_items": null,
            "align_self": null,
            "border": null,
            "bottom": null,
            "display": null,
            "flex": null,
            "flex_flow": null,
            "grid_area": null,
            "grid_auto_columns": null,
            "grid_auto_flow": null,
            "grid_auto_rows": null,
            "grid_column": null,
            "grid_gap": null,
            "grid_row": null,
            "grid_template_areas": null,
            "grid_template_columns": null,
            "grid_template_rows": null,
            "height": null,
            "justify_content": null,
            "justify_items": null,
            "left": null,
            "margin": null,
            "max_height": null,
            "max_width": null,
            "min_height": null,
            "min_width": null,
            "object_fit": null,
            "object_position": null,
            "order": null,
            "overflow": null,
            "overflow_x": null,
            "overflow_y": null,
            "padding": null,
            "right": null,
            "top": null,
            "visibility": null,
            "width": null
          }
        },
        "71f53fb48a424d7180d623712da41550": {
          "model_module": "@jupyter-widgets/base",
          "model_name": "LayoutModel",
          "model_module_version": "1.2.0",
          "state": {
            "_model_module": "@jupyter-widgets/base",
            "_model_module_version": "1.2.0",
            "_model_name": "LayoutModel",
            "_view_count": null,
            "_view_module": "@jupyter-widgets/base",
            "_view_module_version": "1.2.0",
            "_view_name": "LayoutView",
            "align_content": null,
            "align_items": null,
            "align_self": null,
            "border": null,
            "bottom": null,
            "display": null,
            "flex": null,
            "flex_flow": null,
            "grid_area": null,
            "grid_auto_columns": null,
            "grid_auto_flow": null,
            "grid_auto_rows": null,
            "grid_column": null,
            "grid_gap": null,
            "grid_row": null,
            "grid_template_areas": null,
            "grid_template_columns": null,
            "grid_template_rows": null,
            "height": null,
            "justify_content": null,
            "justify_items": null,
            "left": null,
            "margin": null,
            "max_height": null,
            "max_width": null,
            "min_height": null,
            "min_width": null,
            "object_fit": null,
            "object_position": null,
            "order": null,
            "overflow": null,
            "overflow_x": null,
            "overflow_y": null,
            "padding": null,
            "right": null,
            "top": null,
            "visibility": null,
            "width": null
          }
        },
        "df94283162734e9e9e82a5b92e7b256b": {
          "model_module": "@jupyter-widgets/controls",
          "model_name": "DescriptionStyleModel",
          "model_module_version": "1.5.0",
          "state": {
            "_model_module": "@jupyter-widgets/controls",
            "_model_module_version": "1.5.0",
            "_model_name": "DescriptionStyleModel",
            "_view_count": null,
            "_view_module": "@jupyter-widgets/base",
            "_view_module_version": "1.2.0",
            "_view_name": "StyleView",
            "description_width": ""
          }
        },
        "081cedd4680845119921d665544e46eb": {
          "model_module": "@jupyter-widgets/base",
          "model_name": "LayoutModel",
          "model_module_version": "1.2.0",
          "state": {
            "_model_module": "@jupyter-widgets/base",
            "_model_module_version": "1.2.0",
            "_model_name": "LayoutModel",
            "_view_count": null,
            "_view_module": "@jupyter-widgets/base",
            "_view_module_version": "1.2.0",
            "_view_name": "LayoutView",
            "align_content": null,
            "align_items": null,
            "align_self": null,
            "border": null,
            "bottom": null,
            "display": null,
            "flex": null,
            "flex_flow": null,
            "grid_area": null,
            "grid_auto_columns": null,
            "grid_auto_flow": null,
            "grid_auto_rows": null,
            "grid_column": null,
            "grid_gap": null,
            "grid_row": null,
            "grid_template_areas": null,
            "grid_template_columns": null,
            "grid_template_rows": null,
            "height": null,
            "justify_content": null,
            "justify_items": null,
            "left": null,
            "margin": null,
            "max_height": null,
            "max_width": null,
            "min_height": null,
            "min_width": null,
            "object_fit": null,
            "object_position": null,
            "order": null,
            "overflow": null,
            "overflow_x": null,
            "overflow_y": null,
            "padding": null,
            "right": null,
            "top": null,
            "visibility": null,
            "width": null
          }
        },
        "627ad0f82a1f4eca8c0ca72626b65172": {
          "model_module": "@jupyter-widgets/controls",
          "model_name": "ProgressStyleModel",
          "model_module_version": "1.5.0",
          "state": {
            "_model_module": "@jupyter-widgets/controls",
            "_model_module_version": "1.5.0",
            "_model_name": "ProgressStyleModel",
            "_view_count": null,
            "_view_module": "@jupyter-widgets/base",
            "_view_module_version": "1.2.0",
            "_view_name": "StyleView",
            "bar_color": null,
            "description_width": ""
          }
        },
        "e332717ccbfb42829eaaca3f6bf9a430": {
          "model_module": "@jupyter-widgets/base",
          "model_name": "LayoutModel",
          "model_module_version": "1.2.0",
          "state": {
            "_model_module": "@jupyter-widgets/base",
            "_model_module_version": "1.2.0",
            "_model_name": "LayoutModel",
            "_view_count": null,
            "_view_module": "@jupyter-widgets/base",
            "_view_module_version": "1.2.0",
            "_view_name": "LayoutView",
            "align_content": null,
            "align_items": null,
            "align_self": null,
            "border": null,
            "bottom": null,
            "display": null,
            "flex": null,
            "flex_flow": null,
            "grid_area": null,
            "grid_auto_columns": null,
            "grid_auto_flow": null,
            "grid_auto_rows": null,
            "grid_column": null,
            "grid_gap": null,
            "grid_row": null,
            "grid_template_areas": null,
            "grid_template_columns": null,
            "grid_template_rows": null,
            "height": null,
            "justify_content": null,
            "justify_items": null,
            "left": null,
            "margin": null,
            "max_height": null,
            "max_width": null,
            "min_height": null,
            "min_width": null,
            "object_fit": null,
            "object_position": null,
            "order": null,
            "overflow": null,
            "overflow_x": null,
            "overflow_y": null,
            "padding": null,
            "right": null,
            "top": null,
            "visibility": null,
            "width": null
          }
        },
        "cbbf8b1a477c4cf195bf94291182d210": {
          "model_module": "@jupyter-widgets/controls",
          "model_name": "DescriptionStyleModel",
          "model_module_version": "1.5.0",
          "state": {
            "_model_module": "@jupyter-widgets/controls",
            "_model_module_version": "1.5.0",
            "_model_name": "DescriptionStyleModel",
            "_view_count": null,
            "_view_module": "@jupyter-widgets/base",
            "_view_module_version": "1.2.0",
            "_view_name": "StyleView",
            "description_width": ""
          }
        },
        "7e753c7e994744bab8a52d18b21e3a4c": {
          "model_module": "@jupyter-widgets/controls",
          "model_name": "HBoxModel",
          "model_module_version": "1.5.0",
          "state": {
            "_dom_classes": [],
            "_model_module": "@jupyter-widgets/controls",
            "_model_module_version": "1.5.0",
            "_model_name": "HBoxModel",
            "_view_count": null,
            "_view_module": "@jupyter-widgets/controls",
            "_view_module_version": "1.5.0",
            "_view_name": "HBoxView",
            "box_style": "",
            "children": [
              "IPY_MODEL_dea7c93b4894471eb66f81e4b8918c6b",
              "IPY_MODEL_b4a2fac5e4404307a0b3da7bb6a0a4cd",
              "IPY_MODEL_1f39f0b0ae994206b56a333d89c4df92"
            ],
            "layout": "IPY_MODEL_37ecaf6afc834dae8e59df4d272241a8"
          }
        },
        "dea7c93b4894471eb66f81e4b8918c6b": {
          "model_module": "@jupyter-widgets/controls",
          "model_name": "HTMLModel",
          "model_module_version": "1.5.0",
          "state": {
            "_dom_classes": [],
            "_model_module": "@jupyter-widgets/controls",
            "_model_module_version": "1.5.0",
            "_model_name": "HTMLModel",
            "_view_count": null,
            "_view_module": "@jupyter-widgets/controls",
            "_view_module_version": "1.5.0",
            "_view_name": "HTMLView",
            "description": "",
            "description_tooltip": null,
            "layout": "IPY_MODEL_e3d257c071894e9393aa6840aaf90cff",
            "placeholder": "​",
            "style": "IPY_MODEL_542a3b92a97c4b8b95fbf2c0346358ed",
            "value": "vocab.txt: 100%"
          }
        },
        "b4a2fac5e4404307a0b3da7bb6a0a4cd": {
          "model_module": "@jupyter-widgets/controls",
          "model_name": "FloatProgressModel",
          "model_module_version": "1.5.0",
          "state": {
            "_dom_classes": [],
            "_model_module": "@jupyter-widgets/controls",
            "_model_module_version": "1.5.0",
            "_model_name": "FloatProgressModel",
            "_view_count": null,
            "_view_module": "@jupyter-widgets/controls",
            "_view_module_version": "1.5.0",
            "_view_name": "ProgressView",
            "bar_style": "success",
            "description": "",
            "description_tooltip": null,
            "layout": "IPY_MODEL_dfc1e79345d44889a02018675eb1e0d2",
            "max": 546517,
            "min": 0,
            "orientation": "horizontal",
            "style": "IPY_MODEL_a3825e2c27f74edaa111d08a77ebedf7",
            "value": 546517
          }
        },
        "1f39f0b0ae994206b56a333d89c4df92": {
          "model_module": "@jupyter-widgets/controls",
          "model_name": "HTMLModel",
          "model_module_version": "1.5.0",
          "state": {
            "_dom_classes": [],
            "_model_module": "@jupyter-widgets/controls",
            "_model_module_version": "1.5.0",
            "_model_name": "HTMLModel",
            "_view_count": null,
            "_view_module": "@jupyter-widgets/controls",
            "_view_module_version": "1.5.0",
            "_view_name": "HTMLView",
            "description": "",
            "description_tooltip": null,
            "layout": "IPY_MODEL_7c3a4362f37e451b8f91e18be0b90182",
            "placeholder": "​",
            "style": "IPY_MODEL_84d02c3a0ca2409397e750624218ff30",
            "value": " 547k/547k [00:00&lt;00:00, 6.60MB/s]"
          }
        },
        "37ecaf6afc834dae8e59df4d272241a8": {
          "model_module": "@jupyter-widgets/base",
          "model_name": "LayoutModel",
          "model_module_version": "1.2.0",
          "state": {
            "_model_module": "@jupyter-widgets/base",
            "_model_module_version": "1.2.0",
            "_model_name": "LayoutModel",
            "_view_count": null,
            "_view_module": "@jupyter-widgets/base",
            "_view_module_version": "1.2.0",
            "_view_name": "LayoutView",
            "align_content": null,
            "align_items": null,
            "align_self": null,
            "border": null,
            "bottom": null,
            "display": null,
            "flex": null,
            "flex_flow": null,
            "grid_area": null,
            "grid_auto_columns": null,
            "grid_auto_flow": null,
            "grid_auto_rows": null,
            "grid_column": null,
            "grid_gap": null,
            "grid_row": null,
            "grid_template_areas": null,
            "grid_template_columns": null,
            "grid_template_rows": null,
            "height": null,
            "justify_content": null,
            "justify_items": null,
            "left": null,
            "margin": null,
            "max_height": null,
            "max_width": null,
            "min_height": null,
            "min_width": null,
            "object_fit": null,
            "object_position": null,
            "order": null,
            "overflow": null,
            "overflow_x": null,
            "overflow_y": null,
            "padding": null,
            "right": null,
            "top": null,
            "visibility": null,
            "width": null
          }
        },
        "e3d257c071894e9393aa6840aaf90cff": {
          "model_module": "@jupyter-widgets/base",
          "model_name": "LayoutModel",
          "model_module_version": "1.2.0",
          "state": {
            "_model_module": "@jupyter-widgets/base",
            "_model_module_version": "1.2.0",
            "_model_name": "LayoutModel",
            "_view_count": null,
            "_view_module": "@jupyter-widgets/base",
            "_view_module_version": "1.2.0",
            "_view_name": "LayoutView",
            "align_content": null,
            "align_items": null,
            "align_self": null,
            "border": null,
            "bottom": null,
            "display": null,
            "flex": null,
            "flex_flow": null,
            "grid_area": null,
            "grid_auto_columns": null,
            "grid_auto_flow": null,
            "grid_auto_rows": null,
            "grid_column": null,
            "grid_gap": null,
            "grid_row": null,
            "grid_template_areas": null,
            "grid_template_columns": null,
            "grid_template_rows": null,
            "height": null,
            "justify_content": null,
            "justify_items": null,
            "left": null,
            "margin": null,
            "max_height": null,
            "max_width": null,
            "min_height": null,
            "min_width": null,
            "object_fit": null,
            "object_position": null,
            "order": null,
            "overflow": null,
            "overflow_x": null,
            "overflow_y": null,
            "padding": null,
            "right": null,
            "top": null,
            "visibility": null,
            "width": null
          }
        },
        "542a3b92a97c4b8b95fbf2c0346358ed": {
          "model_module": "@jupyter-widgets/controls",
          "model_name": "DescriptionStyleModel",
          "model_module_version": "1.5.0",
          "state": {
            "_model_module": "@jupyter-widgets/controls",
            "_model_module_version": "1.5.0",
            "_model_name": "DescriptionStyleModel",
            "_view_count": null,
            "_view_module": "@jupyter-widgets/base",
            "_view_module_version": "1.2.0",
            "_view_name": "StyleView",
            "description_width": ""
          }
        },
        "dfc1e79345d44889a02018675eb1e0d2": {
          "model_module": "@jupyter-widgets/base",
          "model_name": "LayoutModel",
          "model_module_version": "1.2.0",
          "state": {
            "_model_module": "@jupyter-widgets/base",
            "_model_module_version": "1.2.0",
            "_model_name": "LayoutModel",
            "_view_count": null,
            "_view_module": "@jupyter-widgets/base",
            "_view_module_version": "1.2.0",
            "_view_name": "LayoutView",
            "align_content": null,
            "align_items": null,
            "align_self": null,
            "border": null,
            "bottom": null,
            "display": null,
            "flex": null,
            "flex_flow": null,
            "grid_area": null,
            "grid_auto_columns": null,
            "grid_auto_flow": null,
            "grid_auto_rows": null,
            "grid_column": null,
            "grid_gap": null,
            "grid_row": null,
            "grid_template_areas": null,
            "grid_template_columns": null,
            "grid_template_rows": null,
            "height": null,
            "justify_content": null,
            "justify_items": null,
            "left": null,
            "margin": null,
            "max_height": null,
            "max_width": null,
            "min_height": null,
            "min_width": null,
            "object_fit": null,
            "object_position": null,
            "order": null,
            "overflow": null,
            "overflow_x": null,
            "overflow_y": null,
            "padding": null,
            "right": null,
            "top": null,
            "visibility": null,
            "width": null
          }
        },
        "a3825e2c27f74edaa111d08a77ebedf7": {
          "model_module": "@jupyter-widgets/controls",
          "model_name": "ProgressStyleModel",
          "model_module_version": "1.5.0",
          "state": {
            "_model_module": "@jupyter-widgets/controls",
            "_model_module_version": "1.5.0",
            "_model_name": "ProgressStyleModel",
            "_view_count": null,
            "_view_module": "@jupyter-widgets/base",
            "_view_module_version": "1.2.0",
            "_view_name": "StyleView",
            "bar_color": null,
            "description_width": ""
          }
        },
        "7c3a4362f37e451b8f91e18be0b90182": {
          "model_module": "@jupyter-widgets/base",
          "model_name": "LayoutModel",
          "model_module_version": "1.2.0",
          "state": {
            "_model_module": "@jupyter-widgets/base",
            "_model_module_version": "1.2.0",
            "_model_name": "LayoutModel",
            "_view_count": null,
            "_view_module": "@jupyter-widgets/base",
            "_view_module_version": "1.2.0",
            "_view_name": "LayoutView",
            "align_content": null,
            "align_items": null,
            "align_self": null,
            "border": null,
            "bottom": null,
            "display": null,
            "flex": null,
            "flex_flow": null,
            "grid_area": null,
            "grid_auto_columns": null,
            "grid_auto_flow": null,
            "grid_auto_rows": null,
            "grid_column": null,
            "grid_gap": null,
            "grid_row": null,
            "grid_template_areas": null,
            "grid_template_columns": null,
            "grid_template_rows": null,
            "height": null,
            "justify_content": null,
            "justify_items": null,
            "left": null,
            "margin": null,
            "max_height": null,
            "max_width": null,
            "min_height": null,
            "min_width": null,
            "object_fit": null,
            "object_position": null,
            "order": null,
            "overflow": null,
            "overflow_x": null,
            "overflow_y": null,
            "padding": null,
            "right": null,
            "top": null,
            "visibility": null,
            "width": null
          }
        },
        "84d02c3a0ca2409397e750624218ff30": {
          "model_module": "@jupyter-widgets/controls",
          "model_name": "DescriptionStyleModel",
          "model_module_version": "1.5.0",
          "state": {
            "_model_module": "@jupyter-widgets/controls",
            "_model_module_version": "1.5.0",
            "_model_name": "DescriptionStyleModel",
            "_view_count": null,
            "_view_module": "@jupyter-widgets/base",
            "_view_module_version": "1.2.0",
            "_view_name": "StyleView",
            "description_width": ""
          }
        },
        "a0bbb76f2da74ab7b877f579a1cfa002": {
          "model_module": "@jupyter-widgets/controls",
          "model_name": "HBoxModel",
          "model_module_version": "1.5.0",
          "state": {
            "_dom_classes": [],
            "_model_module": "@jupyter-widgets/controls",
            "_model_module_version": "1.5.0",
            "_model_name": "HBoxModel",
            "_view_count": null,
            "_view_module": "@jupyter-widgets/controls",
            "_view_module_version": "1.5.0",
            "_view_name": "HBoxView",
            "box_style": "",
            "children": [
              "IPY_MODEL_27cea097b7574c13aac33317bab7fa65",
              "IPY_MODEL_34983bac1916455fb83a99013e0e92c0",
              "IPY_MODEL_9f9fdb695cda47189172708927429013"
            ],
            "layout": "IPY_MODEL_d2686b10a6534fca83a752809ea62660"
          }
        },
        "27cea097b7574c13aac33317bab7fa65": {
          "model_module": "@jupyter-widgets/controls",
          "model_name": "HTMLModel",
          "model_module_version": "1.5.0",
          "state": {
            "_dom_classes": [],
            "_model_module": "@jupyter-widgets/controls",
            "_model_module_version": "1.5.0",
            "_model_name": "HTMLModel",
            "_view_count": null,
            "_view_module": "@jupyter-widgets/controls",
            "_view_module_version": "1.5.0",
            "_view_name": "HTMLView",
            "description": "",
            "description_tooltip": null,
            "layout": "IPY_MODEL_7ebcc05ccf3f4151b0bb5ee918dd7423",
            "placeholder": "​",
            "style": "IPY_MODEL_3ca222b9535a49c18fbba891f0f27a0c",
            "value": "tf_model.h5: 100%"
          }
        },
        "34983bac1916455fb83a99013e0e92c0": {
          "model_module": "@jupyter-widgets/controls",
          "model_name": "FloatProgressModel",
          "model_module_version": "1.5.0",
          "state": {
            "_dom_classes": [],
            "_model_module": "@jupyter-widgets/controls",
            "_model_module_version": "1.5.0",
            "_model_name": "FloatProgressModel",
            "_view_count": null,
            "_view_module": "@jupyter-widgets/controls",
            "_view_module_version": "1.5.0",
            "_view_name": "ProgressView",
            "bar_style": "success",
            "description": "",
            "description_tooltip": null,
            "layout": "IPY_MODEL_d9b93e9379dc4e448713fa87111d114e",
            "max": 533687680,
            "min": 0,
            "orientation": "horizontal",
            "style": "IPY_MODEL_3d6150ca2a86438da2ea047c11c664de",
            "value": 533687680
          }
        },
        "9f9fdb695cda47189172708927429013": {
          "model_module": "@jupyter-widgets/controls",
          "model_name": "HTMLModel",
          "model_module_version": "1.5.0",
          "state": {
            "_dom_classes": [],
            "_model_module": "@jupyter-widgets/controls",
            "_model_module_version": "1.5.0",
            "_model_name": "HTMLModel",
            "_view_count": null,
            "_view_module": "@jupyter-widgets/controls",
            "_view_module_version": "1.5.0",
            "_view_name": "HTMLView",
            "description": "",
            "description_tooltip": null,
            "layout": "IPY_MODEL_474b514f446c460a83ce3ba2c6d4b979",
            "placeholder": "​",
            "style": "IPY_MODEL_74ea6789759f48f6b5d3dd6f02ad7a24",
            "value": " 534M/534M [00:15&lt;00:00, 18.9MB/s]"
          }
        },
        "d2686b10a6534fca83a752809ea62660": {
          "model_module": "@jupyter-widgets/base",
          "model_name": "LayoutModel",
          "model_module_version": "1.2.0",
          "state": {
            "_model_module": "@jupyter-widgets/base",
            "_model_module_version": "1.2.0",
            "_model_name": "LayoutModel",
            "_view_count": null,
            "_view_module": "@jupyter-widgets/base",
            "_view_module_version": "1.2.0",
            "_view_name": "LayoutView",
            "align_content": null,
            "align_items": null,
            "align_self": null,
            "border": null,
            "bottom": null,
            "display": null,
            "flex": null,
            "flex_flow": null,
            "grid_area": null,
            "grid_auto_columns": null,
            "grid_auto_flow": null,
            "grid_auto_rows": null,
            "grid_column": null,
            "grid_gap": null,
            "grid_row": null,
            "grid_template_areas": null,
            "grid_template_columns": null,
            "grid_template_rows": null,
            "height": null,
            "justify_content": null,
            "justify_items": null,
            "left": null,
            "margin": null,
            "max_height": null,
            "max_width": null,
            "min_height": null,
            "min_width": null,
            "object_fit": null,
            "object_position": null,
            "order": null,
            "overflow": null,
            "overflow_x": null,
            "overflow_y": null,
            "padding": null,
            "right": null,
            "top": null,
            "visibility": null,
            "width": null
          }
        },
        "7ebcc05ccf3f4151b0bb5ee918dd7423": {
          "model_module": "@jupyter-widgets/base",
          "model_name": "LayoutModel",
          "model_module_version": "1.2.0",
          "state": {
            "_model_module": "@jupyter-widgets/base",
            "_model_module_version": "1.2.0",
            "_model_name": "LayoutModel",
            "_view_count": null,
            "_view_module": "@jupyter-widgets/base",
            "_view_module_version": "1.2.0",
            "_view_name": "LayoutView",
            "align_content": null,
            "align_items": null,
            "align_self": null,
            "border": null,
            "bottom": null,
            "display": null,
            "flex": null,
            "flex_flow": null,
            "grid_area": null,
            "grid_auto_columns": null,
            "grid_auto_flow": null,
            "grid_auto_rows": null,
            "grid_column": null,
            "grid_gap": null,
            "grid_row": null,
            "grid_template_areas": null,
            "grid_template_columns": null,
            "grid_template_rows": null,
            "height": null,
            "justify_content": null,
            "justify_items": null,
            "left": null,
            "margin": null,
            "max_height": null,
            "max_width": null,
            "min_height": null,
            "min_width": null,
            "object_fit": null,
            "object_position": null,
            "order": null,
            "overflow": null,
            "overflow_x": null,
            "overflow_y": null,
            "padding": null,
            "right": null,
            "top": null,
            "visibility": null,
            "width": null
          }
        },
        "3ca222b9535a49c18fbba891f0f27a0c": {
          "model_module": "@jupyter-widgets/controls",
          "model_name": "DescriptionStyleModel",
          "model_module_version": "1.5.0",
          "state": {
            "_model_module": "@jupyter-widgets/controls",
            "_model_module_version": "1.5.0",
            "_model_name": "DescriptionStyleModel",
            "_view_count": null,
            "_view_module": "@jupyter-widgets/base",
            "_view_module_version": "1.2.0",
            "_view_name": "StyleView",
            "description_width": ""
          }
        },
        "d9b93e9379dc4e448713fa87111d114e": {
          "model_module": "@jupyter-widgets/base",
          "model_name": "LayoutModel",
          "model_module_version": "1.2.0",
          "state": {
            "_model_module": "@jupyter-widgets/base",
            "_model_module_version": "1.2.0",
            "_model_name": "LayoutModel",
            "_view_count": null,
            "_view_module": "@jupyter-widgets/base",
            "_view_module_version": "1.2.0",
            "_view_name": "LayoutView",
            "align_content": null,
            "align_items": null,
            "align_self": null,
            "border": null,
            "bottom": null,
            "display": null,
            "flex": null,
            "flex_flow": null,
            "grid_area": null,
            "grid_auto_columns": null,
            "grid_auto_flow": null,
            "grid_auto_rows": null,
            "grid_column": null,
            "grid_gap": null,
            "grid_row": null,
            "grid_template_areas": null,
            "grid_template_columns": null,
            "grid_template_rows": null,
            "height": null,
            "justify_content": null,
            "justify_items": null,
            "left": null,
            "margin": null,
            "max_height": null,
            "max_width": null,
            "min_height": null,
            "min_width": null,
            "object_fit": null,
            "object_position": null,
            "order": null,
            "overflow": null,
            "overflow_x": null,
            "overflow_y": null,
            "padding": null,
            "right": null,
            "top": null,
            "visibility": null,
            "width": null
          }
        },
        "3d6150ca2a86438da2ea047c11c664de": {
          "model_module": "@jupyter-widgets/controls",
          "model_name": "ProgressStyleModel",
          "model_module_version": "1.5.0",
          "state": {
            "_model_module": "@jupyter-widgets/controls",
            "_model_module_version": "1.5.0",
            "_model_name": "ProgressStyleModel",
            "_view_count": null,
            "_view_module": "@jupyter-widgets/base",
            "_view_module_version": "1.2.0",
            "_view_name": "StyleView",
            "bar_color": null,
            "description_width": ""
          }
        },
        "474b514f446c460a83ce3ba2c6d4b979": {
          "model_module": "@jupyter-widgets/base",
          "model_name": "LayoutModel",
          "model_module_version": "1.2.0",
          "state": {
            "_model_module": "@jupyter-widgets/base",
            "_model_module_version": "1.2.0",
            "_model_name": "LayoutModel",
            "_view_count": null,
            "_view_module": "@jupyter-widgets/base",
            "_view_module_version": "1.2.0",
            "_view_name": "LayoutView",
            "align_content": null,
            "align_items": null,
            "align_self": null,
            "border": null,
            "bottom": null,
            "display": null,
            "flex": null,
            "flex_flow": null,
            "grid_area": null,
            "grid_auto_columns": null,
            "grid_auto_flow": null,
            "grid_auto_rows": null,
            "grid_column": null,
            "grid_gap": null,
            "grid_row": null,
            "grid_template_areas": null,
            "grid_template_columns": null,
            "grid_template_rows": null,
            "height": null,
            "justify_content": null,
            "justify_items": null,
            "left": null,
            "margin": null,
            "max_height": null,
            "max_width": null,
            "min_height": null,
            "min_width": null,
            "object_fit": null,
            "object_position": null,
            "order": null,
            "overflow": null,
            "overflow_x": null,
            "overflow_y": null,
            "padding": null,
            "right": null,
            "top": null,
            "visibility": null,
            "width": null
          }
        },
        "74ea6789759f48f6b5d3dd6f02ad7a24": {
          "model_module": "@jupyter-widgets/controls",
          "model_name": "DescriptionStyleModel",
          "model_module_version": "1.5.0",
          "state": {
            "_model_module": "@jupyter-widgets/controls",
            "_model_module_version": "1.5.0",
            "_model_name": "DescriptionStyleModel",
            "_view_count": null,
            "_view_module": "@jupyter-widgets/base",
            "_view_module_version": "1.2.0",
            "_view_name": "StyleView",
            "description_width": ""
          }
        }
      }
    }
  },
  "nbformat": 4,
  "nbformat_minor": 0
}