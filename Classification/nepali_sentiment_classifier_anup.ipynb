{
 "cells": [
  {
   "cell_type": "code",
   "execution_count": 10,
   "metadata": {},
   "outputs": [],
   "source": [
    "import pandas as pd\n",
    "import re\n",
    "import matplotlib.pyplot as plt"
   ]
  },
  {
   "cell_type": "code",
   "execution_count": 2,
   "metadata": {},
   "outputs": [
    {
     "data": {
      "text/html": [
       "<div>\n",
       "<style scoped>\n",
       "    .dataframe tbody tr th:only-of-type {\n",
       "        vertical-align: middle;\n",
       "    }\n",
       "\n",
       "    .dataframe tbody tr th {\n",
       "        vertical-align: top;\n",
       "    }\n",
       "\n",
       "    .dataframe thead th {\n",
       "        text-align: right;\n",
       "    }\n",
       "</style>\n",
       "<table border=\"1\" class=\"dataframe\">\n",
       "  <thead>\n",
       "    <tr style=\"text-align: right;\">\n",
       "      <th></th>\n",
       "      <th>text</th>\n",
       "      <th>label</th>\n",
       "    </tr>\n",
       "  </thead>\n",
       "  <tbody>\n",
       "    <tr>\n",
       "      <th>0</th>\n",
       "      <td>बजार ले जसरी ट्रेन्ड चेन्ज गर्यो यो हेर्दा तत्...</td>\n",
       "      <td>2</td>\n",
       "    </tr>\n",
       "    <tr>\n",
       "      <th>1</th>\n",
       "      <td>1000 अंकले घटेको नेप्से 200 अंकले बढ्नु ठूलो क...</td>\n",
       "      <td>1</td>\n",
       "    </tr>\n",
       "    <tr>\n",
       "      <th>2</th>\n",
       "      <td>होइन यो सानिमा बैंक ले bonus घोसणा गरेको २ महि...</td>\n",
       "      <td>2</td>\n",
       "    </tr>\n",
       "    <tr>\n",
       "      <th>3</th>\n",
       "      <td>खैँ MBJC प्रति कित्तामा रू,10/-ले बढेर आज रू,1...</td>\n",
       "      <td>2</td>\n",
       "    </tr>\n",
       "    <tr>\n",
       "      <th>4</th>\n",
       "      <td>राम्रो भयो️️</td>\n",
       "      <td>1</td>\n",
       "    </tr>\n",
       "  </tbody>\n",
       "</table>\n",
       "</div>"
      ],
      "text/plain": [
       "                                                text label\n",
       "0  बजार ले जसरी ट्रेन्ड चेन्ज गर्यो यो हेर्दा तत्...     2\n",
       "1  1000 अंकले घटेको नेप्से 200 अंकले बढ्नु ठूलो क...     1\n",
       "2  होइन यो सानिमा बैंक ले bonus घोसणा गरेको २ महि...     2\n",
       "3  खैँ MBJC प्रति कित्तामा रू,10/-ले बढेर आज रू,1...     2\n",
       "4                                       राम्रो भयो️️     1"
      ]
     },
     "execution_count": 2,
     "metadata": {},
     "output_type": "execute_result"
    }
   ],
   "source": [
    "df = pd.read_csv(\"train.csv\",encoding=\"utf-8\")\n",
    "df.head()"
   ]
  },
  {
   "cell_type": "code",
   "execution_count": 4,
   "metadata": {},
   "outputs": [
    {
     "data": {
      "text/plain": [
       "array(['2', '1', '0', '20', '11', '-', 'o', '--'], dtype=object)"
      ]
     },
     "execution_count": 4,
     "metadata": {},
     "output_type": "execute_result"
    }
   ],
   "source": [
    "df[\"label\"].unique()"
   ]
  },
  {
   "cell_type": "code",
   "execution_count": 5,
   "metadata": {},
   "outputs": [
    {
     "data": {
      "text/plain": [
       "label\n",
       "1     2378\n",
       "0     2377\n",
       "2     1236\n",
       "-        5\n",
       "20       1\n",
       "11       1\n",
       "o        1\n",
       "--       1\n",
       "Name: count, dtype: int64"
      ]
     },
     "execution_count": 5,
     "metadata": {},
     "output_type": "execute_result"
    }
   ],
   "source": [
    "df[\"label\"].value_counts()"
   ]
  },
  {
   "cell_type": "code",
   "execution_count": 7,
   "metadata": {},
   "outputs": [],
   "source": [
    "# Filtering out unwanted labels\n",
    "unwanted_labels = re.compile(r'^(-|20|11|o|--)$')\n",
    "df = df[~df['label'].str.match(unwanted_labels)]"
   ]
  },
  {
   "cell_type": "code",
   "execution_count": 8,
   "metadata": {},
   "outputs": [
    {
     "data": {
      "text/plain": [
       "array(['2', '1', '0'], dtype=object)"
      ]
     },
     "execution_count": 8,
     "metadata": {},
     "output_type": "execute_result"
    }
   ],
   "source": [
    "df[\"label\"].unique()"
   ]
  },
  {
   "cell_type": "code",
   "execution_count": 13,
   "metadata": {},
   "outputs": [
    {
     "data": {
      "image/png": "[encoded data removed]",
      "text/plain": [
       "<Figure size 640x480 with 1 Axes>"
      ]
     },
     "metadata": {},
     "output_type": "display_data"
    }
   ],
   "source": [
    "# Visualizing Class Balance\n",
    "df[\"label\"].value_counts(normalize=True).plot(kind=\"bar\")\n",
    "plt.xlabel(\"Sentiment Classes\")\n",
    "plt.ylabel(\"Percentage\")\n",
    "plt.title(\"Sentiment Class Balance\");\n"
   ]
  },
  {
   "cell_type": "code",
   "execution_count": 14,
   "metadata": {},
   "outputs": [],
   "source": [
    "X_train, y_train = df[\"text\"],df[\"label\"]"
   ]
  },
  {
   "cell_type": "markdown",
   "metadata": {},
   "source": [
    "## Text Preprocessing"
   ]
  },
  {
   "cell_type": "code",
   "execution_count": 17,
   "metadata": {},
   "outputs": [],
   "source": [
    "import nltk"
   ]
  },
  {
   "cell_type": "code",
   "execution_count": 55,
   "metadata": {},
   "outputs": [
    {
     "data": {
      "text/plain": [
       "'मध्यभोटेकोशिको शेयर ,, कर्मचारी संञ्चयकोष का संञ्चयकर्ताहरुको नाममा परेको शेयर कहिले मेरो शेयरमा देखाउँछ होला ????? प्रष्ट पारिदिनु होला ,'"
      ]
     },
     "execution_count": 55,
     "metadata": {},
     "output_type": "execute_result"
    }
   ],
   "source": [
    "text = X_train[5]\n",
    "text"
   ]
  },
  {
   "cell_type": "code",
   "execution_count": 70,
   "metadata": {},
   "outputs": [],
   "source": [
    "def clean_text(text):    \n",
    "    # Remove Links\n",
    "    text = re.sub(r'https?://\\S+|www\\.\\S+', '', text)\n",
    "\n",
    "    # Remove emojis and non-alphanumeric characters, Keeping nepali and English\n",
    "    text = re.sub(r'[^\\w\\s\\u0900-\\u097F\\u0041-\\u005A\\u0061-\\u007A]', '', text)\n",
    "\n",
    "    return text.strip()\n"
   ]
  },
  {
   "cell_type": "code",
   "execution_count": 72,
   "metadata": {},
   "outputs": [
    {
     "data": {
      "text/plain": [
       "0    बजार ले जसरी ट्रेन्ड चेन्ज गर्यो यो हेर्दा तत्...\n",
       "1    1000 अंकले घटेको नेप्से 200 अंकले बढ्नु ठूलो क...\n",
       "2    होइन यो सानिमा बैंक ले bonus घोसणा गरेको २ महि...\n",
       "3    खैँ MBJC प्रति कित्तामा रू10ले बढेर आज रू1100 ...\n",
       "4                                           राम्रो भयो\n",
       "Name: text, dtype: object"
      ]
     },
     "execution_count": 72,
     "metadata": {},
     "output_type": "execute_result"
    }
   ],
   "source": [
    "X_train = X_train.astype(str).apply(clean_text)\n",
    "X_train.head()"
   ]
  },
  {
   "cell_type": "code",
   "execution_count": 73,
   "metadata": {},
   "outputs": [
    {
     "data": {
      "text/plain": [
       "'बजार ले जसरी ट्रेन्ड चेन्ज गर्यो यो हेर्दा तत्काल प्रोफिट बूकिङ आउने सम्भावना रहेन  भोलि अर्को ट्रेन्ड समात्न सक्ने अबस्था पनि दरो छ'"
      ]
     },
     "execution_count": 73,
     "metadata": {},
     "output_type": "execute_result"
    }
   ],
   "source": [
    "X_train[0]"
   ]
  },
  {
   "cell_type": "markdown",
   "metadata": {},
   "source": [
    "### Removing Stopwords"
   ]
  },
  {
   "cell_type": "code",
   "execution_count": 57,
   "metadata": {},
   "outputs": [
    {
     "name": "stderr",
     "output_type": "stream",
     "text": [
      "[nltk_data] Downloading package stopwords to D:\\Internship\\Nepali-\n",
      "[nltk_data]     Sentiment-Classification\\NepaliSentiment...\n",
      "[nltk_data]   Package stopwords is already up-to-date!\n"
     ]
    },
    {
     "data": {
      "text/plain": [
       "True"
      ]
     },
     "execution_count": 57,
     "metadata": {},
     "output_type": "execute_result"
    }
   ],
   "source": [
    "# Removing Stopwords\n",
    "from nltk.corpus import stopwords\n",
    "nltk.download('stopwords',download_dir=r\"D:\\Internship\\Nepali-Sentiment-Classification\\NepaliSentiment\")"
   ]
  },
  {
   "cell_type": "code",
   "execution_count": 59,
   "metadata": {},
   "outputs": [],
   "source": [
    "with open('nepali', 'r', encoding='utf-8-sig') as f:\n",
    "    nepali_stopwords = [line.strip() for line in f]"
   ]
  },
  {
   "cell_type": "code",
   "execution_count": 60,
   "metadata": {},
   "outputs": [
    {
     "data": {
      "text/plain": [
       "['छ', 'र', 'पनि', 'छन्', 'लागि']"
      ]
     },
     "execution_count": 60,
     "metadata": {},
     "output_type": "execute_result"
    }
   ],
   "source": [
    "nepali_stopwords[:5]"
   ]
  },
  {
   "cell_type": "code",
   "execution_count": 61,
   "metadata": {},
   "outputs": [],
   "source": [
    "english_stopwords = nltk.corpus.stopwords.words('english')\n",
    "combined_stopwords = nepali_stopwords + english_stopwords"
   ]
  },
  {
   "cell_type": "code",
   "execution_count": 79,
   "metadata": {},
   "outputs": [],
   "source": [
    "# Remove stopwords\n",
    "def remove_stopwords(text,stopword_list):\n",
    "    words = text.split()\n",
    "    filtered_words = [word for word in words if word.lower() not in stopword_list]\n",
    "    return ' '.join(filtered_words)\n",
    "\n",
    "X_train = X_train.apply(remove_stopwords,args=(combined_stopwords,))\n",
    "# text = remove_stopwords(text, combined_stopwords)\n",
    "# text"
   ]
  },
  {
   "cell_type": "code",
   "execution_count": 84,
   "metadata": {},
   "outputs": [
    {
     "data": {
      "text/plain": [
       "'ऋषि धमला अरुलाइ बोल्न नदिने कस्तो कबाडी ऋषि'"
      ]
     },
     "execution_count": 84,
     "metadata": {},
     "output_type": "execute_result"
    }
   ],
   "source": [
    "X_train[500]"
   ]
  },
  {
   "cell_type": "markdown",
   "metadata": {},
   "source": [
    "### Tokenization"
   ]
  },
  {
   "cell_type": "code",
   "execution_count": 87,
   "metadata": {},
   "outputs": [],
   "source": [
    "from nepalitokenizers import WordPiece\n",
    "\n",
    "def tokenize(text):\n",
    "    \n",
    "    tokenizer_wp = WordPiece()\n",
    "    tokens = tokenizer_wp.encode(text)\n",
    "    return tokens.tokens\n",
    "\n",
    "X_train = X_train.apply(tokenize)\n",
    "# print(tokens.ids)\n",
    "# print(tokens.tokens)\n",
    "\n",
    "# print(tokenizer_wp.decode(tokens.ids))"
   ]
  },
  {
   "cell_type": "code",
   "execution_count": null,
   "metadata": {},
   "outputs": [
    {
     "name": "stdout",
     "output_type": "stream",
     "text": [
      "['मध्य', '##भ', '##ोट', '##ेको', '##श', '##िक', '##ो', 'श', '##ेय', '##र', 'कर', '##्म', '##चार', '##ी', 'सं', '##ञ', '##्', '##च', '##यक', '##ो', '##ष', 'सं', '##ञ', '##्', '##च', '##यक', '##र', '##्ता', '##हर', '##ुक', '##ो', 'नाम', '##मा', 'पर', '##ेको', 'श', '##ेय', '##र', 'क', '##हिले', 'श', '##ेय', '##र', '##मा', 'देखा', '##उ', '##ँ', '##छ', 'हो', '##ला', 'प', '##्र', '##ष्ट', 'प', '##ार', '##ि', '##द', '##िन', '##ु', 'हो', '##ला']\n"
     ]
    }
   ],
   "source": [
    "# from transformers import AutoTokenizer\n",
    "\n",
    "# # Load a multilingual model tokenizer (mBERT or XLM-R)\n",
    "# tokenizer = AutoTokenizer.from_pretrained(\"bert-base-multilingual-cased\")\n",
    "\n",
    "# tokens = tokenizer.tokenize(text)\n",
    "\n",
    "# print(tokens)"
   ]
  },
  {
   "cell_type": "code",
   "execution_count": 88,
   "metadata": {},
   "outputs": [
    {
     "data": {
      "text/plain": [
       "0    [[CLS], बजार, जसरी, ट्रेन्ड, चेन, ##्, ##ज, गर...\n",
       "1    [[CLS], 100, ##0, अंकले, घटेको, नेप्से, 20, ##...\n",
       "2    [[CLS], होइन, सानिमा, बैंक, bo, ##nu, ##s, घो,...\n",
       "3    [[CLS], खै, ##ँ, m, ##b, ##j, ##c, कित्ता, ##म...\n",
       "4                                  [[CLS], भयो, [SEP]]\n",
       "Name: text, dtype: object"
      ]
     },
     "execution_count": 88,
     "metadata": {},
     "output_type": "execute_result"
    }
   ],
   "source": [
    "X_train.head()"
   ]
  },
  {
   "cell_type": "markdown",
   "metadata": {},
   "source": [
    "### TF-IDF Vectorization"
   ]
  },
  {
   "cell_type": "code",
   "execution_count": 89,
   "metadata": {},
   "outputs": [],
   "source": [
    "X_train_cleaned = X_train.apply(lambda tokens: [token for token in tokens if token not in ['[CLS]', '[SEP]']])"
   ]
  },
  {
   "cell_type": "code",
   "execution_count": 90,
   "metadata": {},
   "outputs": [
    {
     "data": {
      "text/plain": [
       "0    [बजार, जसरी, ट्रेन्ड, चेन, ##्, ##ज, गर्यो, हे...\n",
       "1    [100, ##0, अंकले, घटेको, नेप्से, 20, ##0, अंकल...\n",
       "2    [होइन, सानिमा, बैंक, bo, ##nu, ##s, घो, ##स, #...\n",
       "3    [खै, ##ँ, m, ##b, ##j, ##c, कित्ता, ##मा, रू, ...\n",
       "4                                                [भयो]\n",
       "Name: text, dtype: object"
      ]
     },
     "execution_count": 90,
     "metadata": {},
     "output_type": "execute_result"
    }
   ],
   "source": [
    "X_train_cleaned.head()"
   ]
  },
  {
   "cell_type": "code",
   "execution_count": 122,
   "metadata": {},
   "outputs": [
    {
     "name": "stdout",
     "output_type": "stream",
     "text": [
      "(5991, 1432)\n"
     ]
    }
   ],
   "source": [
    "from sklearn.feature_extraction.text import TfidfVectorizer\n",
    "\n",
    "# Join tokenized sentences back to strings\n",
    "X_train_joined = [' '.join(tokens) for tokens in X_train_cleaned]\n",
    "vectorizer = TfidfVectorizer(max_features=2500)\n",
    "vectorized = vectorizer.fit(X_train_joined)\n",
    "X_train_tfidf = vectorized.transform(X_train_joined)\n",
    "\n",
    "print(X_train_tfidf.shape) "
   ]
  },
  {
   "cell_type": "markdown",
   "metadata": {},
   "source": [
    "## Model Training"
   ]
  },
  {
   "cell_type": "code",
   "execution_count": 123,
   "metadata": {},
   "outputs": [
    {
     "name": "stdout",
     "output_type": "stream",
     "text": [
      "Accuracy: 0.7282590552495409\n"
     ]
    },
    {
     "name": "stderr",
     "output_type": "stream",
     "text": [
      "d:\\Internship\\Nepali-Sentiment-Classification\\NepaliSentiment\\myenv\\lib\\site-packages\\sklearn\\linear_model\\_logistic.py:1247: FutureWarning: 'multi_class' was deprecated in version 1.5 and will be removed in 1.7. From then on, it will always use 'multinomial'. Leave it to its default value to avoid this warning.\n",
      "  warnings.warn(\n"
     ]
    }
   ],
   "source": [
    "from sklearn.linear_model import LogisticRegression\n",
    "from sklearn.metrics import classification_report\n",
    "from sklearn.metrics import accuracy_score\n",
    "\n",
    "model = LogisticRegression(multi_class='multinomial', solver='lbfgs')\n",
    "model.fit(X_train_tfidf, y_train)\n",
    "\n",
    "y_pred = model.predict(X_train_tfidf)\n",
    "\n",
    "print(\"Accuracy:\", accuracy_score(y_train, y_pred))"
   ]
  },
  {
   "cell_type": "markdown",
   "metadata": {},
   "source": [
    "### Pipeline for test data"
   ]
  },
  {
   "cell_type": "code",
   "execution_count": 124,
   "metadata": {},
   "outputs": [],
   "source": [
    "def clean_text(text):    \n",
    "    # Remove Links\n",
    "    text = re.sub(r'https?://\\S+|www\\.\\S+', '', text)\n",
    "\n",
    "    # Remove emojis and non-alphanumeric characters, Keeping nepali and English\n",
    "    text = re.sub(r'[^\\w\\s\\u0900-\\u097F\\u0041-\\u005A\\u0061-\\u007A]', '', text)\n",
    "\n",
    "    return text.strip()\n",
    "\n",
    "def remove_stopwords(text,stopword_list):\n",
    "    words = text.split()\n",
    "    filtered_words = [word for word in words if word.lower() not in stopword_list]\n",
    "    return ' '.join(filtered_words)\n",
    "\n",
    "def tokenize(text):\n",
    "    tokenizer_wp = WordPiece()\n",
    "    tokens = tokenizer_wp.encode(text)\n",
    "    return tokens.tokens\n",
    "\n",
    "df_test = pd.read_csv(\"test.csv\",encoding=\"utf-8\")\n",
    "\n",
    "unwanted_labels = re.compile(r'^(-|20|11|o|--)$')\n",
    "df_test = df_test[~df_test['label'].str.match(unwanted_labels)]\n",
    "\n",
    "#Split\n",
    "X_test,y_test = df_test[\"text\"], df_test[\"label\"]\n",
    "\n",
    "X_test = X_test.astype(str).apply(clean_text)\n",
    "\n",
    "X_test = X_test.apply(remove_stopwords,args=(combined_stopwords,))\n",
    "\n",
    "X_test = X_test.apply(tokenize)\n",
    "\n",
    "X_test_cleaned = X_test.apply(lambda tokens: [token for token in tokens if token not in ['[CLS]', '[SEP]']])\n",
    "\n",
    "# Join tokenized sentences back to strings\n",
    "X_test_joined = [' '.join(tokens) for tokens in X_test_cleaned]\n",
    "X_test_tfidf = vectorized.transform(X_test_joined)"
   ]
  },
  {
   "cell_type": "code",
   "execution_count": 125,
   "metadata": {},
   "outputs": [
    {
     "name": "stdout",
     "output_type": "stream",
     "text": [
      "(1994, 1432)\n"
     ]
    }
   ],
   "source": [
    "print(X_test_tfidf.shape) "
   ]
  },
  {
   "cell_type": "code",
   "execution_count": 127,
   "metadata": {},
   "outputs": [
    {
     "name": "stdout",
     "output_type": "stream",
     "text": [
      "Accuracy: 0.5170511534603811\n"
     ]
    }
   ],
   "source": [
    "y_pred = model.predict(X_test_tfidf)\n",
    "\n",
    "print(\"Accuracy:\", accuracy_score(y_test, y_pred))"
   ]
  },
  {
   "cell_type": "markdown",
   "metadata": {},
   "source": [
    "### Applying Regularization"
   ]
  },
  {
   "cell_type": "code",
   "execution_count": 128,
   "metadata": {},
   "outputs": [
    {
     "name": "stdout",
     "output_type": "stream",
     "text": [
      "Accuracy: 0.7282590552495409\n",
      "Accuracy: 0.5170511534603811\n"
     ]
    },
    {
     "name": "stderr",
     "output_type": "stream",
     "text": [
      "d:\\Internship\\Nepali-Sentiment-Classification\\NepaliSentiment\\myenv\\lib\\site-packages\\sklearn\\linear_model\\_logistic.py:1247: FutureWarning: 'multi_class' was deprecated in version 1.5 and will be removed in 1.7. From then on, it will always use 'multinomial'. Leave it to its default value to avoid this warning.\n",
      "  warnings.warn(\n"
     ]
    }
   ],
   "source": [
    "model = LogisticRegression(multi_class='multinomial')\n",
    "model.fit(X_train_tfidf, y_train)\n",
    "\n",
    "y_pred_train = model.predict(X_train_tfidf)\n",
    "\n",
    "print(\"Accuracy:\", accuracy_score(y_train, y_pred_train))\n",
    "\n",
    "y_pred_test = model.predict(X_test_tfidf)\n",
    "\n",
    "print(\"Accuracy:\", accuracy_score(y_test, y_pred_test))"
   ]
  },
  {
   "cell_type": "markdown",
   "metadata": {},
   "source": [
    "### Cross Validation"
   ]
  },
  {
   "cell_type": "code",
   "execution_count": 129,
   "metadata": {},
   "outputs": [
    {
     "name": "stderr",
     "output_type": "stream",
     "text": [
      "d:\\Internship\\Nepali-Sentiment-Classification\\NepaliSentiment\\myenv\\lib\\site-packages\\sklearn\\linear_model\\_logistic.py:1247: FutureWarning: 'multi_class' was deprecated in version 1.5 and will be removed in 1.7. From then on, it will always use 'multinomial'. Leave it to its default value to avoid this warning.\n",
      "  warnings.warn(\n",
      "d:\\Internship\\Nepali-Sentiment-Classification\\NepaliSentiment\\myenv\\lib\\site-packages\\sklearn\\linear_model\\_logistic.py:1247: FutureWarning: 'multi_class' was deprecated in version 1.5 and will be removed in 1.7. From then on, it will always use 'multinomial'. Leave it to its default value to avoid this warning.\n",
      "  warnings.warn(\n",
      "d:\\Internship\\Nepali-Sentiment-Classification\\NepaliSentiment\\myenv\\lib\\site-packages\\sklearn\\linear_model\\_logistic.py:1247: FutureWarning: 'multi_class' was deprecated in version 1.5 and will be removed in 1.7. From then on, it will always use 'multinomial'. Leave it to its default value to avoid this warning.\n",
      "  warnings.warn(\n",
      "d:\\Internship\\Nepali-Sentiment-Classification\\NepaliSentiment\\myenv\\lib\\site-packages\\sklearn\\linear_model\\_logistic.py:1247: FutureWarning: 'multi_class' was deprecated in version 1.5 and will be removed in 1.7. From then on, it will always use 'multinomial'. Leave it to its default value to avoid this warning.\n",
      "  warnings.warn(\n"
     ]
    },
    {
     "name": "stdout",
     "output_type": "stream",
     "text": [
      "Cross-validation scores: [0.48040033 0.57846411 0.66777963 0.6293823  0.56176962]\n",
      "Mean cross-validation score: 0.5835591986087459\n"
     ]
    },
    {
     "name": "stderr",
     "output_type": "stream",
     "text": [
      "d:\\Internship\\Nepali-Sentiment-Classification\\NepaliSentiment\\myenv\\lib\\site-packages\\sklearn\\linear_model\\_logistic.py:1247: FutureWarning: 'multi_class' was deprecated in version 1.5 and will be removed in 1.7. From then on, it will always use 'multinomial'. Leave it to its default value to avoid this warning.\n",
      "  warnings.warn(\n"
     ]
    }
   ],
   "source": [
    "from sklearn.model_selection import cross_val_score\n",
    "\n",
    "scores = cross_val_score(model, X_train_tfidf, y_train, cv=5)\n",
    "print(\"Cross-validation scores:\", scores)\n",
    "\n",
    "print(\"Mean cross-validation score:\", scores.mean())"
   ]
  },
  {
   "cell_type": "markdown",
   "metadata": {},
   "source": [
    "## BERT Models"
   ]
  },
  {
   "cell_type": "markdown",
   "metadata": {},
   "source": []
  }
 ],
 "metadata": {
  "kernelspec": {
   "display_name": "myenv",
   "language": "python",
   "name": "python3"
  },
  "language_info": {
   "codemirror_mode": {
    "name": "ipython",
    "version": 3
   },
   "file_extension": ".py",
   "mimetype": "text/x-python",
   "name": "python",
   "nbconvert_exporter": "python",
   "pygments_lexer": "ipython3",
   "version": "3.10.2"
  }
 },
 "nbformat": 4,
 "nbformat_minor": 2
}
