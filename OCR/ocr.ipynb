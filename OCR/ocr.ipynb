{
 "cells": [
  {
   "cell_type": "code",
   "execution_count": 1,
   "metadata": {},
   "outputs": [
    {
     "ename": "ModuleNotFoundError",
     "evalue": "No module named 'surya'",
     "output_type": "error",
     "traceback": [
      "\u001b[1;31m---------------------------------------------------------------------------\u001b[0m",
      "\u001b[1;31mModuleNotFoundError\u001b[0m                       Traceback (most recent call last)",
      "Cell \u001b[1;32mIn[1], line 3\u001b[0m\n\u001b[0;32m      1\u001b[0m \u001b[38;5;28;01mfrom\u001b[39;00m \u001b[38;5;21;01mpdf2image\u001b[39;00m \u001b[38;5;28;01mimport\u001b[39;00m convert_from_path\n\u001b[0;32m      2\u001b[0m \u001b[38;5;28;01mfrom\u001b[39;00m \u001b[38;5;21;01mPIL\u001b[39;00m \u001b[38;5;28;01mimport\u001b[39;00m Image\n\u001b[1;32m----> 3\u001b[0m \u001b[38;5;28;01mfrom\u001b[39;00m \u001b[38;5;21;01msurya\u001b[39;00m\u001b[38;5;21;01m.\u001b[39;00m\u001b[38;5;21;01mocr\u001b[39;00m \u001b[38;5;28;01mimport\u001b[39;00m run_ocr\n\u001b[0;32m      4\u001b[0m \u001b[38;5;28;01mfrom\u001b[39;00m \u001b[38;5;21;01msurya\u001b[39;00m\u001b[38;5;21;01m.\u001b[39;00m\u001b[38;5;21;01mmodel\u001b[39;00m\u001b[38;5;21;01m.\u001b[39;00m\u001b[38;5;21;01mdetection\u001b[39;00m\u001b[38;5;21;01m.\u001b[39;00m\u001b[38;5;21;01mmodel\u001b[39;00m \u001b[38;5;28;01mimport\u001b[39;00m load_model \u001b[38;5;28;01mas\u001b[39;00m load_det_model, load_processor \u001b[38;5;28;01mas\u001b[39;00m load_det_processor\n\u001b[0;32m      5\u001b[0m \u001b[38;5;28;01mfrom\u001b[39;00m \u001b[38;5;21;01msurya\u001b[39;00m\u001b[38;5;21;01m.\u001b[39;00m\u001b[38;5;21;01mmodel\u001b[39;00m\u001b[38;5;21;01m.\u001b[39;00m\u001b[38;5;21;01mrecognition\u001b[39;00m\u001b[38;5;21;01m.\u001b[39;00m\u001b[38;5;21;01mmodel\u001b[39;00m \u001b[38;5;28;01mimport\u001b[39;00m load_model \u001b[38;5;28;01mas\u001b[39;00m load_rec_model\n",
      "\u001b[1;31mModuleNotFoundError\u001b[0m: No module named 'surya'"
     ]
    }
   ],
   "source": [
    "from pdf2image import convert_from_path\n",
    "from PIL import Image\n",
    "from surya.ocr import run_ocr\n",
    "from surya.model.detection.model import load_model as load_det_model, load_processor as load_det_processor\n",
    "from surya.model.recognition.model import load_model as load_rec_model\n",
    "from surya.model.recognition.processor import load_processor as load_rec_processor\n",
    "\n",
    "# Path to your PDF file\n",
    "pdf_path = \"/content/Unified-Directives-2080-Circular-Final-Published.pdf\"\n",
    "\n",
    "# Specify the range of pages to convert (e.g., pages 2 to 4)\n",
    "start_page = 1\n",
    "end_page = 145\n",
    "\n",
    "# Convert only the specified pages\n",
    "images = convert_from_path(pdf_path, dpi=300, first_page=start_page, last_page=end_page)\n",
    "\n",
    "det_processor, det_model = load_det_processor(), load_det_model()\n",
    "rec_model, rec_processor = load_rec_model(), load_rec_processor()\n",
    "langs = [\"ne\",\"en\"]\n",
    "\n",
    "file_path = \"ocr_part1.txt\"\n",
    "\n",
    "\n",
    "predictions = run_ocr(images, [langs], det_model, det_processor, rec_model, rec_processor)\n",
    "pred_list = list(predictions[0])\n",
    "cleaned_text = pred_list[0][1]\n",
    "with open(file_path,\"w\") as file:\n",
    "    file.write(f\"{cleaned_text.text}\\n\")"
   ]
  },
  {
   "cell_type": "code",
   "execution_count": null,
   "metadata": {},
   "outputs": [],
   "source": []
  }
 ],
 "metadata": {
  "kernelspec": {
   "display_name": "myenv",
   "language": "python",
   "name": "python3"
  },
  "language_info": {
   "codemirror_mode": {
    "name": "ipython",
    "version": 3
   },
   "file_extension": ".py",
   "mimetype": "text/x-python",
   "name": "python",
   "nbconvert_exporter": "python",
   "pygments_lexer": "ipython3",
   "version": "3.13.0"
  }
 },
 "nbformat": 4,
 "nbformat_minor": 2
}
