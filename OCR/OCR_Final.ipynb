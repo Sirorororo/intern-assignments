{
  "cells": [
    {
      "cell_type": "markdown",
      "metadata": {
        "id": "jkdXHW448FcC"
      },
      "source": [
        "## Requirements"
      ]
    },
    {
      "cell_type": "code",
      "execution_count": 3,
      "metadata": {
        "colab": {
          "base_uri": "https://localhost:8080/"
        },
        "id": "x8cyi-JZv9n_",
        "outputId": "24bc27e4-9adb-413a-8ec2-c054341f2148"
      },
      "outputs": [
        {
          "name": "stderr",
          "output_type": "stream",
          "text": [
            "Cloning into 'tabled'...\n"
          ]
        }
      ],
      "source": [
        "!git clone https://github.com/VikParuchuri/tabled.git\n"
      ]
    },
    {
      "cell_type": "code",
      "execution_count": 4,
      "metadata": {
        "colab": {
          "base_uri": "https://localhost:8080/"
        },
        "id": "VU2wsQmBwDMt",
        "outputId": "1d766252-348b-4a7d-d5ba-6b8d5218ff95"
      },
      "outputs": [
        {
          "name": "stdout",
          "output_type": "stream",
          "text": [
            "d:\\Internship\\Nepali-Sentiment-Classification\\NepaliSentiment\\tabled\n"
          ]
        },
        {
          "name": "stderr",
          "output_type": "stream",
          "text": [
            "d:\\Internship\\Nepali-Sentiment-Classification\\NepaliSentiment\\myenv\\lib\\site-packages\\IPython\\core\\magics\\osm.py:417: UserWarning: This is now an optional IPython functionality, setting dhist requires you to install the `pickleshare` library.\n",
            "  self.shell.db['dhist'] = compress_dhist(dhist)[-100:]\n"
          ]
        }
      ],
      "source": [
        "%cd tabled"
      ]
    },
    {
      "cell_type": "code",
      "execution_count": 5,
      "metadata": {
        "colab": {
          "base_uri": "https://localhost:8080/"
        },
        "collapsed": true,
        "id": "ONpy4YPXwaBi",
        "outputId": "bab06acb-10d9-4091-88ae-2d0f121680ba"
      },
      "outputs": [
        {
          "name": "stdout",
          "output_type": "stream",
          "text": [
            "Processing d:\\internship\\nepali-sentiment-classification\\nepalisentiment\\tabled\n",
            "  Installing build dependencies: started\n",
            "  Installing build dependencies: finished with status 'done'\n",
            "  Getting requirements to build wheel: started\n",
            "  Getting requirements to build wheel: finished with status 'done'\n",
            "    Preparing wheel metadata: started\n",
            "    Preparing wheel metadata: finished with status 'done'\n",
            "Requirement already satisfied: click<9.0.0,>=8.1.7 in d:\\internship\\nepali-sentiment-classification\\nepalisentiment\\myenv\\lib\\site-packages (from tabled-pdf==0.2.0) (8.1.7)\n",
            "Requirement already satisfied: pydantic<3.0.0,>=2.9.2 in d:\\internship\\nepali-sentiment-classification\\nepalisentiment\\myenv\\lib\\site-packages (from tabled-pdf==0.2.0) (2.10.3)\n",
            "Collecting surya-ocr<0.9.0,>=0.8.0\n",
            "  Downloading surya_ocr-0.8.0-py3-none-any.whl (122 kB)\n",
            "Requirement already satisfied: pydantic-settings<3.0.0,>=2.5.2 in d:\\internship\\nepali-sentiment-classification\\nepalisentiment\\myenv\\lib\\site-packages (from tabled-pdf==0.2.0) (2.6.1)\n",
            "Requirement already satisfied: python-dotenv<2.0.0,>=1.0.1 in d:\\internship\\nepali-sentiment-classification\\nepalisentiment\\myenv\\lib\\site-packages (from tabled-pdf==0.2.0) (1.0.1)\n",
            "Requirement already satisfied: tabulate<0.10.0,>=0.9.0 in d:\\internship\\nepali-sentiment-classification\\nepalisentiment\\myenv\\lib\\site-packages (from tabled-pdf==0.2.0) (0.9.0)\n",
            "Requirement already satisfied: scikit-learn<2.0.0,>=1.5.2 in d:\\internship\\nepali-sentiment-classification\\nepalisentiment\\myenv\\lib\\site-packages (from tabled-pdf==0.2.0) (1.5.2)\n",
            "Requirement already satisfied: pypdfium2<5.0.0,>=4.30.0 in d:\\internship\\nepali-sentiment-classification\\nepalisentiment\\myenv\\lib\\site-packages (from tabled-pdf==0.2.0) (4.30.0)\n",
            "Requirement already satisfied: colorama in d:\\internship\\nepali-sentiment-classification\\nepalisentiment\\myenv\\lib\\site-packages (from click<9.0.0,>=8.1.7->tabled-pdf==0.2.0) (0.4.6)\n",
            "Requirement already satisfied: pydantic-core==2.27.1 in d:\\internship\\nepali-sentiment-classification\\nepalisentiment\\myenv\\lib\\site-packages (from pydantic<3.0.0,>=2.9.2->tabled-pdf==0.2.0) (2.27.1)\n",
            "Requirement already satisfied: typing-extensions>=4.12.2 in d:\\internship\\nepali-sentiment-classification\\nepalisentiment\\myenv\\lib\\site-packages (from pydantic<3.0.0,>=2.9.2->tabled-pdf==0.2.0) (4.12.2)\n",
            "Requirement already satisfied: annotated-types>=0.6.0 in d:\\internship\\nepali-sentiment-classification\\nepalisentiment\\myenv\\lib\\site-packages (from pydantic<3.0.0,>=2.9.2->tabled-pdf==0.2.0) (0.7.0)\n",
            "Requirement already satisfied: threadpoolctl>=3.1.0 in d:\\internship\\nepali-sentiment-classification\\nepalisentiment\\myenv\\lib\\site-packages (from scikit-learn<2.0.0,>=1.5.2->tabled-pdf==0.2.0) (3.5.0)\n",
            "Requirement already satisfied: numpy>=1.19.5 in d:\\internship\\nepali-sentiment-classification\\nepalisentiment\\myenv\\lib\\site-packages (from scikit-learn<2.0.0,>=1.5.2->tabled-pdf==0.2.0) (1.26.4)\n",
            "Requirement already satisfied: scipy>=1.6.0 in d:\\internship\\nepali-sentiment-classification\\nepalisentiment\\myenv\\lib\\site-packages (from scikit-learn<2.0.0,>=1.5.2->tabled-pdf==0.2.0) (1.13.1)\n",
            "Requirement already satisfied: joblib>=1.2.0 in d:\\internship\\nepali-sentiment-classification\\nepalisentiment\\myenv\\lib\\site-packages (from scikit-learn<2.0.0,>=1.5.2->tabled-pdf==0.2.0) (1.4.2)\n",
            "Collecting pdftext<0.5.0,>=0.4.0\n",
            "  Downloading pdftext-0.4.0-py3-none-any.whl (16 kB)\n",
            "Requirement already satisfied: transformers<5.0.0,>=4.41.0 in d:\\internship\\nepali-sentiment-classification\\nepalisentiment\\myenv\\lib\\site-packages (from surya-ocr<0.9.0,>=0.8.0->tabled-pdf==0.2.0) (4.46.3)\n",
            "Requirement already satisfied: filetype<2.0.0,>=1.2.0 in d:\\internship\\nepali-sentiment-classification\\nepalisentiment\\myenv\\lib\\site-packages (from surya-ocr<0.9.0,>=0.8.0->tabled-pdf==0.2.0) (1.2.0)\n",
            "Requirement already satisfied: torch<3.0.0,>=2.4.1 in d:\\internship\\nepali-sentiment-classification\\nepalisentiment\\myenv\\lib\\site-packages (from surya-ocr<0.9.0,>=0.8.0->tabled-pdf==0.2.0) (2.5.1+cu118)\n",
            "Requirement already satisfied: opencv-python<5.0.0.0,>=4.9.0.80 in d:\\internship\\nepali-sentiment-classification\\nepalisentiment\\myenv\\lib\\site-packages (from surya-ocr<0.9.0,>=0.8.0->tabled-pdf==0.2.0) (4.9.0.80)\n",
            "Requirement already satisfied: ftfy<7.0.0,>=6.1.3 in d:\\internship\\nepali-sentiment-classification\\nepalisentiment\\myenv\\lib\\site-packages (from surya-ocr<0.9.0,>=0.8.0->tabled-pdf==0.2.0) (6.3.1)\n",
            "Requirement already satisfied: pillow<11.0.0,>=10.2.0 in d:\\internship\\nepali-sentiment-classification\\nepalisentiment\\myenv\\lib\\site-packages (from surya-ocr<0.9.0,>=0.8.0->tabled-pdf==0.2.0) (10.4.0)\n",
            "Requirement already satisfied: wcwidth in d:\\internship\\nepali-sentiment-classification\\nepalisentiment\\myenv\\lib\\site-packages (from ftfy<7.0.0,>=6.1.3->surya-ocr<0.9.0,>=0.8.0->tabled-pdf==0.2.0) (0.2.13)\n",
            "Requirement already satisfied: jinja2 in d:\\internship\\nepali-sentiment-classification\\nepalisentiment\\myenv\\lib\\site-packages (from torch<3.0.0,>=2.4.1->surya-ocr<0.9.0,>=0.8.0->tabled-pdf==0.2.0) (3.1.4)\n",
            "Requirement already satisfied: filelock in d:\\internship\\nepali-sentiment-classification\\nepalisentiment\\myenv\\lib\\site-packages (from torch<3.0.0,>=2.4.1->surya-ocr<0.9.0,>=0.8.0->tabled-pdf==0.2.0) (3.16.1)\n",
            "Requirement already satisfied: sympy==1.13.1 in d:\\internship\\nepali-sentiment-classification\\nepalisentiment\\myenv\\lib\\site-packages (from torch<3.0.0,>=2.4.1->surya-ocr<0.9.0,>=0.8.0->tabled-pdf==0.2.0) (1.13.1)\n",
            "Requirement already satisfied: fsspec in d:\\internship\\nepali-sentiment-classification\\nepalisentiment\\myenv\\lib\\site-packages (from torch<3.0.0,>=2.4.1->surya-ocr<0.9.0,>=0.8.0->tabled-pdf==0.2.0) (2024.10.0)\n",
            "Requirement already satisfied: networkx in d:\\internship\\nepali-sentiment-classification\\nepalisentiment\\myenv\\lib\\site-packages (from torch<3.0.0,>=2.4.1->surya-ocr<0.9.0,>=0.8.0->tabled-pdf==0.2.0) (3.4.2)\n",
            "Requirement already satisfied: mpmath<1.4,>=1.1.0 in d:\\internship\\nepali-sentiment-classification\\nepalisentiment\\myenv\\lib\\site-packages (from sympy==1.13.1->torch<3.0.0,>=2.4.1->surya-ocr<0.9.0,>=0.8.0->tabled-pdf==0.2.0) (1.3.0)\n",
            "Requirement already satisfied: tokenizers<0.21,>=0.20 in d:\\internship\\nepali-sentiment-classification\\nepalisentiment\\myenv\\lib\\site-packages (from transformers<5.0.0,>=4.41.0->surya-ocr<0.9.0,>=0.8.0->tabled-pdf==0.2.0) (0.20.3)\n",
            "Requirement already satisfied: regex!=2019.12.17 in d:\\internship\\nepali-sentiment-classification\\nepalisentiment\\myenv\\lib\\site-packages (from transformers<5.0.0,>=4.41.0->surya-ocr<0.9.0,>=0.8.0->tabled-pdf==0.2.0) (2024.11.6)\n",
            "Requirement already satisfied: huggingface-hub<1.0,>=0.23.2 in d:\\internship\\nepali-sentiment-classification\\nepalisentiment\\myenv\\lib\\site-packages (from transformers<5.0.0,>=4.41.0->surya-ocr<0.9.0,>=0.8.0->tabled-pdf==0.2.0) (0.26.3)\n",
            "Requirement already satisfied: packaging>=20.0 in d:\\internship\\nepali-sentiment-classification\\nepalisentiment\\myenv\\lib\\site-packages (from transformers<5.0.0,>=4.41.0->surya-ocr<0.9.0,>=0.8.0->tabled-pdf==0.2.0) (24.2)\n",
            "Requirement already satisfied: requests in d:\\internship\\nepali-sentiment-classification\\nepalisentiment\\myenv\\lib\\site-packages (from transformers<5.0.0,>=4.41.0->surya-ocr<0.9.0,>=0.8.0->tabled-pdf==0.2.0) (2.32.3)\n",
            "Requirement already satisfied: tqdm>=4.27 in d:\\internship\\nepali-sentiment-classification\\nepalisentiment\\myenv\\lib\\site-packages (from transformers<5.0.0,>=4.41.0->surya-ocr<0.9.0,>=0.8.0->tabled-pdf==0.2.0) (4.67.1)\n",
            "Requirement already satisfied: safetensors>=0.4.1 in d:\\internship\\nepali-sentiment-classification\\nepalisentiment\\myenv\\lib\\site-packages (from transformers<5.0.0,>=4.41.0->surya-ocr<0.9.0,>=0.8.0->tabled-pdf==0.2.0) (0.4.5)\n",
            "Requirement already satisfied: pyyaml>=5.1 in d:\\internship\\nepali-sentiment-classification\\nepalisentiment\\myenv\\lib\\site-packages (from transformers<5.0.0,>=4.41.0->surya-ocr<0.9.0,>=0.8.0->tabled-pdf==0.2.0) (6.0.2)\n",
            "Requirement already satisfied: MarkupSafe>=2.0 in d:\\internship\\nepali-sentiment-classification\\nepalisentiment\\myenv\\lib\\site-packages (from jinja2->torch<3.0.0,>=2.4.1->surya-ocr<0.9.0,>=0.8.0->tabled-pdf==0.2.0) (3.0.2)\n",
            "Requirement already satisfied: urllib3<3,>=1.21.1 in d:\\internship\\nepali-sentiment-classification\\nepalisentiment\\myenv\\lib\\site-packages (from requests->transformers<5.0.0,>=4.41.0->surya-ocr<0.9.0,>=0.8.0->tabled-pdf==0.2.0) (2.2.3)\n",
            "Requirement already satisfied: idna<4,>=2.5 in d:\\internship\\nepali-sentiment-classification\\nepalisentiment\\myenv\\lib\\site-packages (from requests->transformers<5.0.0,>=4.41.0->surya-ocr<0.9.0,>=0.8.0->tabled-pdf==0.2.0) (3.10)\n",
            "Requirement already satisfied: certifi>=2017.4.17 in d:\\internship\\nepali-sentiment-classification\\nepalisentiment\\myenv\\lib\\site-packages (from requests->transformers<5.0.0,>=4.41.0->surya-ocr<0.9.0,>=0.8.0->tabled-pdf==0.2.0) (2024.8.30)\n",
            "Requirement already satisfied: charset-normalizer<4,>=2 in d:\\internship\\nepali-sentiment-classification\\nepalisentiment\\myenv\\lib\\site-packages (from requests->transformers<5.0.0,>=4.41.0->surya-ocr<0.9.0,>=0.8.0->tabled-pdf==0.2.0) (3.4.0)\n",
            "Building wheels for collected packages: tabled-pdf\n",
            "  Building wheel for tabled-pdf (PEP 517): started\n",
            "  Building wheel for tabled-pdf (PEP 517): finished with status 'done'\n",
            "  Created wheel for tabled-pdf: filename=tabled_pdf-0.2.0-py3-none-any.whl size=31892 sha256=e01d08bc44fd13a93446c34ad65534235c1b7bc56978d6b29c6405fba8c193a2\n",
            "  Stored in directory: C:\\Users\\Anup Acharya\\AppData\\Local\\Temp\\pip-ephem-wheel-cache-dfarpc__\\wheels\\ba\\0f\\df\\9d4df7b4944bbba9ead1ee5a98d5282dd6f032a6839e58a9f4\n",
            "Successfully built tabled-pdf\n",
            "Installing collected packages: pdftext, surya-ocr, tabled-pdf\n",
            "  Attempting uninstall: pdftext\n",
            "    Found existing installation: pdftext 0.3.20\n",
            "    Uninstalling pdftext-0.3.20:\n",
            "      Successfully uninstalled pdftext-0.3.20\n",
            "  Attempting uninstall: surya-ocr\n",
            "    Found existing installation: surya-ocr 0.7.0\n",
            "    Uninstalling surya-ocr-0.7.0:\n",
            "      Successfully uninstalled surya-ocr-0.7.0\n",
            "  Attempting uninstall: tabled-pdf\n",
            "    Found existing installation: tabled-pdf 0.1.7\n",
            "    Uninstalling tabled-pdf-0.1.7:\n",
            "      Successfully uninstalled tabled-pdf-0.1.7\n",
            "Successfully installed pdftext-0.4.0 surya-ocr-0.8.0 tabled-pdf-0.2.0\n",
            "Note: you may need to restart the kernel to use updated packages.\n"
          ]
        },
        {
          "name": "stderr",
          "output_type": "stream",
          "text": [
            "  DEPRECATION: A future pip version will change local packages to be built in-place without first copying to a temporary directory. We recommend you use --use-feature=in-tree-build to test your packages with this new behavior before it becomes the default.\n",
            "   pip 21.3 will remove support for this functionality. You can find discussion regarding this at https://github.com/pypa/pip/issues/7555.\n",
            "WARNING: You are using pip version 21.2.4; however, version 24.3.1 is available.\n",
            "You should consider upgrading via the 'd:\\Internship\\Nepali-Sentiment-Classification\\NepaliSentiment\\myenv\\Scripts\\python.exe -m pip install --upgrade pip' command.\n"
          ]
        }
      ],
      "source": [
        "%pip install ."
      ]
    },
    {
      "cell_type": "code",
      "execution_count": 6,
      "metadata": {
        "id": "8VdhxgCo9DDD"
      },
      "outputs": [
        {
          "ename": "FileNotFoundError",
          "evalue": "[WinError 2] The system cannot find the file specified: '/content'",
          "output_type": "error",
          "traceback": [
            "\u001b[1;31m---------------------------------------------------------------------------\u001b[0m",
            "\u001b[1;31mFileNotFoundError\u001b[0m                         Traceback (most recent call last)",
            "Cell \u001b[1;32mIn[6], line 2\u001b[0m\n\u001b[0;32m      1\u001b[0m \u001b[38;5;28;01mimport\u001b[39;00m \u001b[38;5;21;01mos\u001b[39;00m\n\u001b[1;32m----> 2\u001b[0m \u001b[43mos\u001b[49m\u001b[38;5;241;43m.\u001b[39;49m\u001b[43mchdir\u001b[49m\u001b[43m(\u001b[49m\u001b[38;5;124;43m'\u001b[39;49m\u001b[38;5;124;43m/content\u001b[39;49m\u001b[38;5;124;43m'\u001b[39;49m\u001b[43m)\u001b[49m\n",
            "\u001b[1;31mFileNotFoundError\u001b[0m: [WinError 2] The system cannot find the file specified: '/content'"
          ]
        }
      ],
      "source": [
        "# For Google Colab\n",
        "import os\n",
        "os.chdir('/content')\n",
        "\n",
        "# For local env use \n",
        "# %cd .."
      ]
    },
    {
      "cell_type": "code",
      "execution_count": 7,
      "metadata": {
        "colab": {
          "base_uri": "https://localhost:8080/"
        },
        "collapsed": true,
        "id": "T7So-Cj465Ur",
        "outputId": "7994604c-7185-4676-d53e-604b2b44a749"
      },
      "outputs": [
        {
          "name": "stdout",
          "output_type": "stream",
          "text": [
            "Requirement already satisfied: pdf2image in d:\\internship\\nepali-sentiment-classification\\nepalisentiment\\myenv\\lib\\site-packages (1.17.0)\n",
            "Requirement already satisfied: pillow in d:\\internship\\nepali-sentiment-classification\\nepalisentiment\\myenv\\lib\\site-packages (from pdf2image) (10.4.0)\n",
            "Note: you may need to restart the kernel to use updated packages.\n"
          ]
        },
        {
          "name": "stderr",
          "output_type": "stream",
          "text": [
            "WARNING: You are using pip version 21.2.4; however, version 24.3.1 is available.\n",
            "You should consider upgrading via the 'd:\\Internship\\Nepali-Sentiment-Classification\\NepaliSentiment\\myenv\\Scripts\\python.exe -m pip install --upgrade pip' command.\n"
          ]
        }
      ],
      "source": [
        "%pip install pdf2image\n",
        "# !apt-get install -y poppler-utils # For Google Colab\n",
        "# For local environment install poppler-utils and add to path"
      ]
    },
    {
      "cell_type": "code",
      "execution_count": 8,
      "metadata": {
        "id": "j592BBHU7Txp"
      },
      "outputs": [],
      "source": [
        "# Important for memory management\n",
        "# Change the batch sizes according to available GPU resources\n",
        "\n",
        "# Define the batch size variables\n",
        "batch_sizes = {\n",
        "    'TABLE_REC_BATCH_SIZE': 4,\n",
        "    'RECOGNITION_BATCH_SIZE': 8,\n",
        "    'DETECTOR_BATCH_SIZE': 4,\n",
        "    'LAYOUT_BATCH_SIZE': 2\n",
        "}\n",
        "\n",
        "file_path = \"local.env\"\n",
        "\n",
        "# Create a .env file and write the variables\n",
        "with open(file_path, 'w') as f:\n",
        "    # Iterate over the batch sizes dictionary and write each one\n",
        "    for key, value in batch_sizes.items():\n",
        "        # Write each variable in the format KEY=VALUE\n",
        "        f.write(f'{key} = {value}\\n')"
      ]
    },
    {
      "cell_type": "markdown",
      "metadata": {
        "id": "YhvNhjC58Cnw"
      },
      "source": [
        "## Imports"
      ]
    },
    {
      "cell_type": "code",
      "execution_count": null,
      "metadata": {
        "id": "H1DCQXix7Y2j"
      },
      "outputs": [],
      "source": [
        "# Import necessary libraries\n",
        "from tabulate import tabulate\n",
        "import pandas as pd\n",
        "from pdf2image import convert_from_path\n",
        "from PIL import Image\n",
        "import numpy as np\n",
        "import cv2\n",
        "# from google.colab.patches import cv2_imshow\n",
        "import tempfile\n",
        "import os\n",
        "\n",
        "# Impoer required models\n",
        "from surya.model.detection.model import load_model as load_det_model, load_processor as load_det_processor\n",
        "from surya.model.recognition.model import load_model as load_rec_model\n",
        "from surya.model.recognition.processor import load_processor as load_rec_processor\n",
        "from tabled.inference.models import load_layout_models\n",
        "from surya.model.table_rec.model import load_model as load_table_rec_model\n",
        "from surya.model.table_rec.processor import load_processor as load_table_rec_processor\n",
        "\n",
        "# Import Required Functions\n",
        "from tabled.tabled.extract import extract_tables    # if any error use tabled.extract instead of tabled.tabled.extract\n",
        "from tabled.fileinput import load_pdfs_images\n",
        "from surya.ocr import run_ocr"
      ]
    },
    {
      "cell_type": "code",
      "execution_count": 3,
      "metadata": {},
      "outputs": [
        {
          "name": "stdout",
          "output_type": "stream",
          "text": [
            "CUDA Available: True\n"
          ]
        }
      ],
      "source": [
        "import torch\n",
        "cuda_available = torch.cuda.is_available()\n",
        "print(f\"CUDA Available: {cuda_available}\")"
      ]
    },
    {
      "cell_type": "markdown",
      "metadata": {
        "id": "Y2tv_ZNz8pBS"
      },
      "source": [
        "## Model Initialization"
      ]
    },
    {
      "cell_type": "code",
      "execution_count": 2,
      "metadata": {
        "colab": {
          "base_uri": "https://localhost:8080/",
          "height": 543,
          "referenced_widgets": [
            "8ab140dd09c64cdf8cd7138a689c90c1",
            "1dbe60801bad4056958f479279edfe10",
            "1d532c6dcb494f7b9f4a899c87e96ee9",
            "d1f0b47fce9c4884af0112ad61f70bb8",
            "19c5af7c8db442b9bfb8ae37ef16e49d",
            "35577adc8bb148ad98d6628b08a06149",
            "5f2e2e2293814b16a6281655f10c54a7",
            "5bcf5fe92ea7492c8dbe8bc6bbfda049",
            "93f01b4e3fce458786993a072ad5d20e",
            "16413bc58d7e442f86b8cb3cb8eb215b",
            "d62b820eccdf4419b56cbabcde9f321e",
            "424612f282074d368c556e45e4f5e4b9",
            "08fd55b3199f459dba93eee05aac489c",
            "be186d466b7e431a8896b6e68f2d920f",
            "23998417394848f0b065b3095c38a649",
            "f3472e2594e046599d9e7e45659c59b0",
            "61ed9382489b446abea11107e4065298",
            "66e734fe3d3043268346b7886ac51ed3",
            "af302c573187403280d9e29b83996322",
            "f3e79a7539c14ba181efcc57fa8d1df0",
            "abd1e0918b1f4f619a8db2edb351fe95",
            "fa445f02e57649418dd41e41ea1c37b3",
            "627e294e99064021b23260db2c31130d",
            "6e1d4e133a8d486bb8e6329bbfaa5b6a",
            "e6e25b58db674e448ab5cb6c9f598e42",
            "4978bf06887d47e5aa97f00cf952af5e",
            "6da7dacbb5a845b7b69ff516cbadb736",
            "2d337c2d74304d44b7a94c8359a9ef06",
            "435b018bd4fb494a806148dd17080c6d",
            "0740bf34fbc546dfa7bb24907900d0d7",
            "88e9a03fa54343a5be2ff501eb1ff88f",
            "d6a212934d564cec9516d4c1495479bf",
            "bf8be3882d6a4dd3b04b749754877bc5",
            "8c91a00d531643ed85913f20a72afbed",
            "af35268c235d4d4aa574bbccf209f849",
            "1c833db1917342afa6957b078a48622d",
            "7a75a084c8eb450ba4d203e9bdc091bc",
            "bde796dfe98a446096e22246eb3448ac",
            "ed491facab92481da4d052c42b5f3eda",
            "8c4e6ad2014045dda1d666ccd35e2e61",
            "9c69c0fb11954a7d90d98e70aa170d6b",
            "76cd653ead5247f9ad86f6585e32df0c",
            "48ed228fc9eb48d7a3000fa11ffec0c2",
            "937e21267ac6460597be705e2a1aa446",
            "44b4fb8090f54e9fbbe26a4a1605ec6c",
            "f5c953dea225444fb6d31c48409a8f27",
            "7e34df824e1a4424b940b6dfe3c7a11f",
            "45fefe0119a146e39856940227b40700",
            "4cc06a1568964843ac2eff2316168363",
            "41a4b9d2603044ae8da8b2c2726dcd84",
            "0beb1511f60644498bafdc6ba1403914",
            "a5223e8c5264454b9341f33665a22de0",
            "876f1779789e43d6951f15a6a348a8d0",
            "8af3fd6021ac42208d7ba20b0eebab2f",
            "e33294cf5d334df397da061454e3adbb",
            "29a2d1ee62c64689b5bb7b5bacfb052e",
            "6614aba95c6e4568a5ee3f35e468ece0",
            "b0a1bf3c800b4066bdb72d4f5bc0fd06",
            "5d1c078d2aa34a78a8adb63f20497722",
            "192bc15d2ae64faaa0bbe9eefb4aa781",
            "4f8ca56dc44c4ae9b1050421eae58928",
            "ba78217fc1cf442cb155183bd6a35c61",
            "b73ab6d538b94ac39ca21a13a12c0e64",
            "b191b45fc76746bc92fddd8aa8e6d14a",
            "2343a049a1bf4788af9f04c104cf6da4",
            "b1578ca99e8548beb46bd96f70c849e0",
            "dc39b3b48b6b49e2b5f15ca54d30913d",
            "29eaf2bc76cf41928291dc271ead3ee2",
            "1e1ac75b3ba94f49815ed19391b4fba9",
            "95657d7194544deab6c0dd80de45eaa4",
            "a730ff3c77d64876833bed15f8a00043",
            "4d49d8f297b34c68b4f4d33ff20dd5f6",
            "ff9a7553950b4aaa81deedc34328200e",
            "5e57649473764c75a2e710819cf1ed74",
            "c44918252db14a89b504874b1e036191",
            "480de01dd8e14632a62b31f5003bc32c",
            "a50f51424f194b2182b13b0559cf26c8",
            "bbada598b39a4029b4bd2dcb076a03a3",
            "cc8de97a161e49439fd550875c244a12",
            "b47a9890ed764bd1b4f064a0dfa1e3a8",
            "82aa588a1faa4c2d91408f06f376aa62",
            "03bbc577727f419795985625df41c0ec",
            "1d93157e6c6d422690f3786cbc8dad73",
            "4be8fb74243441e284ab925ef544a995",
            "3c808f91c6e243298a28fa76a88c07d7",
            "0d002ff04cf342d18552fccaa23eff80",
            "80698aff943949bead2f31846fdd3ff3",
            "30d1244ba9aa420982f1c7b14468d11c",
            "20fc7cfb9fae45cfbb513ac9cb5bca1c",
            "f3cdc44048324d0d9ba737f91c40bb0d",
            "9837ea6e10c34a9ca6eef614147f447b",
            "fc97b0a49cb84b029a7384b02607a823",
            "157ab47b2ac34acb8ca3015ec44c56e8",
            "f63316f4495140d3b376f111facd09d6",
            "581370b931454446b438f4d8049bfa85",
            "27cd31e7378b47408aa9cfd43539eac6",
            "b1fa2ca0cdd14e1db5e6fbf240a22039",
            "28303935486740d3b23270c1d4086ad0",
            "189de4700c3240ca8d36d80582db9edd",
            "97e627b8ff6f42af89a7d3d5b3383bf3",
            "9e2a96f3981c4861b99fdef198a11186",
            "9fcaf6d924514964b69f2df3c39bef15",
            "f8414c9410054bf6af8f770944a53b24",
            "46a977a6d6274ee8af1f7eaa34e19ff2",
            "bc232eac50444242bda03dc667e22f97",
            "a79fd8b86c1d488fbfe2c1c781f968d7",
            "5c543c279ed54ef09c66ced713aa45e1",
            "5f5545f79efd4b50b722f6f521e0606b",
            "e8e0ab02f3324d389cc90527f48d409f",
            "1f11209e832e401db61e441b4aeb2db8",
            "49fae30f55cb4db09cf221191f4c6bae",
            "e317b930276e43e99094807d05145455",
            "db8933ccddfc4b5f98cdf5ae93497422",
            "e69c50f1ce684c4abda57471be3f3ac3",
            "813a73a1e7ac476cb8335bcf35cc45bd",
            "7e3e99a30d194a489c813a75ce6c08a8",
            "13b9e79ed3844b0a8460fd10647d0867",
            "4aea07c00cf946bd97643fe7040c80d9",
            "3715fdac602f468493581b8b95047fc7",
            "637cdf9110494068adeee4611346bbc3",
            "ddb9c22dad3447828cf4ce6515caf3ef"
          ]
        },
        "id": "0teFNMUD8tEb",
        "outputId": "cd0579f3-46d2-4da2-b1e4-5cd33510285a"
      },
      "outputs": [
        {
          "name": "stdout",
          "output_type": "stream",
          "text": [
            "Loaded detection model vikp/surya_det3 on device cuda with dtype torch.float16\n",
            "Loaded recognition model vikp/surya_rec2 on device cuda with dtype torch.float16\n",
            "Loaded layout model datalab-to/surya_layout0 on device cuda with dtype torch.float16\n",
            "Loaded table recognition model vikp/surya_tablerec on device cuda with dtype torch.float16\n"
          ]
        }
      ],
      "source": [
        "langs = [\"en\",\"ne\"]\n",
        "det_processor, det_model = load_det_processor(), load_det_model()\n",
        "rec_model, rec_processor = load_rec_model(), load_rec_processor()\n",
        "layout_models = load_layout_models()\n",
        "det_models = det_model,det_processor\n",
        "rec_models = load_table_rec_model(),load_table_rec_processor(),rec_model,rec_processor"
      ]
    },
    {
      "cell_type": "markdown",
      "metadata": {
        "id": "qfEFFzKu8ych"
      },
      "source": [
        "## Function to crop images"
      ]
    },
    {
      "cell_type": "markdown",
      "metadata": {
        "id": "GPjdfX1l83PO"
      },
      "source": [
        "### Detecting tables in a page using OpenCV"
      ]
    },
    {
      "cell_type": "code",
      "execution_count": 3,
      "metadata": {
        "id": "mcEKtpcx8xLY"
      },
      "outputs": [],
      "source": [
        "def retrieve_table_boudaries(image):\n",
        "\n",
        "    # image will be in PIL image format\n",
        "    opencv_image = np.array(image)\n",
        "\n",
        "\n",
        "   # Convert image to grayscale\n",
        "    gray = cv2.cvtColor(opencv_image, cv2.COLOR_BGR2GRAY)\n",
        "\n",
        "    # Apply Gaussian Blur to reduce noise\n",
        "    blurred = cv2.GaussianBlur(gray, (5, 5), 0)\n",
        "\n",
        "    # Apply Canny edge detection\n",
        "    edges = cv2.Canny(blurred, threshold1=50, threshold2=150)\n",
        "\n",
        "    kernel = np.ones((7, 7), np.uint8) \n",
        "    morph_image = cv2.dilate(edges, kernel, iterations=1)\n",
        "\n",
        "    # Find contours\n",
        "    contours, hierarchy = cv2.findContours(morph_image, cv2.RETR_EXTERNAL, cv2.CHAIN_APPROX_SIMPLE)\n",
        "\n",
        "    probable_tables = []\n",
        "    for contour in contours:\n",
        "      # Approximate the contour to a polygon (to simplify it)\n",
        "      epsilon = 0.02 * cv2.arcLength(contour, True)\n",
        "      approx = cv2.approxPolyDP(contour, epsilon, True)\n",
        "\n",
        "      # If the contour has four vertices, it’s likely a table boundary\n",
        "      if len(approx) == 4:\n",
        "        probable_tables.append(approx)\n",
        "\n",
        "    output_tables = []\n",
        "\n",
        "    for contour in probable_tables:\n",
        "      area = cv2.contourArea(contour)\n",
        "      # print(area)\n",
        "      if area > 100000:\n",
        "        print(area)\n",
        "        x, y, w, h = cv2.boundingRect(contour)\n",
        "        table = [x, y, (x+w), (y+h)]\n",
        "        # table = [x, y, (x+w), (y+h)]\n",
        "        output_tables.append(table)\n",
        "\n",
        "    output_tables = sorted(output_tables, key=lambda x: x[1])\n",
        "\n",
        "    # print(\"check 2\")\n",
        "    # print(opencv_image.shape)\n",
        "    print(\"Length of table:\")\n",
        "    print(len(output_tables))\n",
        "    return output_tables,opencv_image"
      ]
    },
    {
      "cell_type": "code",
      "execution_count": null,
      "metadata": {
        "colab": {
          "base_uri": "https://localhost:8080/"
        },
        "id": "NYgXW-msCVY2",
        "outputId": "4a80354b-a16a-40aa-b6b9-89cb663e3ad2"
      },
      "outputs": [
        {
          "data": {
            "text/plain": [
              "[[104, 83, 701, 144], [104, 346, 701, 520]]"
            ]
          },
          "execution_count": 18,
          "metadata": {},
          "output_type": "execute_result"
        }
      ],
      "source": [
        "tables"
      ]
    },
    {
      "cell_type": "markdown",
      "metadata": {
        "id": "qY3Ia8SwBvCW"
      },
      "source": [
        "#### Testing"
      ]
    },
    {
      "cell_type": "code",
      "execution_count": null,
      "metadata": {
        "id": "c-R4WLyoA5XR"
      },
      "outputs": [],
      "source": [
        "import numpy as np\n",
        "import cv2\n",
        "# from google.colab.patches import cv2_imshow"
      ]
    },
    {
      "cell_type": "code",
      "execution_count": 29,
      "metadata": {
        "id": "m09iSCG6AZ6f"
      },
      "outputs": [],
      "source": [
        "image = cv2.imread(\"/content/two_table.png\")\n",
        "tables = retrieve_table_boudaries(image)"
      ]
    },
    {
      "cell_type": "code",
      "execution_count": null,
      "metadata": {
        "id": "WqP54WT5A6dV"
      },
      "outputs": [],
      "source": [
        "for table in tables:\n",
        "  cv2.rectangle(image,(table[0],table[1]),(table[2],table[3]),(255, 0, 0), 2)"
      ]
    },
    {
      "cell_type": "code",
      "execution_count": null,
      "metadata": {
        "colab": {
          "base_uri": "https://localhost:8080/",
          "height": 610
        },
        "id": "OLlWmpaBBlCm",
        "outputId": "2cc00ccb-9cf3-4fa7-d97c-a6e073ebe9e4"
      },
      "outputs": [
        {
          "data": {
            "image/jpeg": "[encoded data removed]",
            "image/png": "[encoded data removed]",
            "text/plain": [
              "<PIL.Image.Image image mode=RGB size=782x593>"
            ]
          },
          "metadata": {},
          "output_type": "display_data"
        }
      ],
      "source": [
        "cv2_imshow(image)"
      ]
    },
    {
      "cell_type": "code",
      "execution_count": 143,
      "metadata": {
        "id": "ZJKbs9h8fQbJ"
      },
      "outputs": [],
      "source": [
        "image = cv2.imread(\"/content/table_test_new.png\")\n",
        "tables,image = retrieve_table_boudaries(image)"
      ]
    },
    {
      "cell_type": "code",
      "execution_count": 134,
      "metadata": {
        "colab": {
          "base_uri": "https://localhost:8080/"
        },
        "id": "QSaIREYhfaMd",
        "outputId": "bb280a33-672d-48d5-ee7e-2c6ebf45dc2a"
      },
      "outputs": [
        {
          "data": {
            "text/plain": [
              "[[112, 235, 721, 384]]"
            ]
          },
          "execution_count": 134,
          "metadata": {},
          "output_type": "execute_result"
        }
      ],
      "source": [
        "tables"
      ]
    },
    {
      "cell_type": "code",
      "execution_count": 144,
      "metadata": {
        "id": "PBnlOOjcfUnw"
      },
      "outputs": [],
      "source": [
        "for table in tables:\n",
        "  cv2.rectangle(image,(table[0],table[1]),(table[2],table[3]),(255, 0, 0), 2)"
      ]
    },
    {
      "cell_type": "code",
      "execution_count": 145,
      "metadata": {
        "colab": {
          "base_uri": "https://localhost:8080/",
          "height": 617
        },
        "id": "zsS9epGFfVz-",
        "outputId": "ccc4a816-e484-4b06-be8d-5805a8285e7e"
      },
      "outputs": [
        {
          "data": {
            "image/jpeg": "[encoded data removed]",
            "image/png": "[encoded data removed]",
            "text/plain": [
              "<PIL.Image.Image image mode=RGB size=806x604>"
            ]
          },
          "metadata": {},
          "output_type": "display_data"
        }
      ],
      "source": [
        "cv2_imshow(image)"
      ]
    },
    {
      "cell_type": "code",
      "execution_count": 146,
      "metadata": {
        "colab": {
          "base_uri": "https://localhost:8080/"
        },
        "id": "32D52Omcg8UB",
        "outputId": "690d574e-31c4-49f5-d7f2-903d93ccd11b"
      },
      "outputs": [
        {
          "data": {
            "text/plain": [
              "(604, 806, 3)"
            ]
          },
          "execution_count": 146,
          "metadata": {},
          "output_type": "execute_result"
        }
      ],
      "source": [
        "image.shape"
      ]
    },
    {
      "cell_type": "code",
      "execution_count": 100,
      "metadata": {
        "id": "yV8UoMNTgHxm"
      },
      "outputs": [],
      "source": [
        "start_page = 147\n",
        "end_page = 147\n",
        "\n",
        "file_path = \"new.txt\"\n",
        "images = convert_from_path(\"Unified-Directives-2080-Circular-Final-Published.pdf\", dpi=300,first_page=start_page, last_page=end_page)"
      ]
    },
    {
      "cell_type": "code",
      "execution_count": 101,
      "metadata": {
        "colab": {
          "base_uri": "https://localhost:8080/"
        },
        "id": "aATKI8BxgKDt",
        "outputId": "816b3bc9-a832-40fb-ab1e-2b069f0566cc"
      },
      "outputs": [
        {
          "name": "stdout",
          "output_type": "stream",
          "text": [
            "1010289.0\n",
            "357889.0\n",
            "Length of table:\n",
            "2\n"
          ]
        }
      ],
      "source": [
        "tables,opencv_image = retrieve_table_boudaries(images[0])"
      ]
    },
    {
      "cell_type": "code",
      "execution_count": 72,
      "metadata": {
        "colab": {
          "base_uri": "https://localhost:8080/"
        },
        "id": "jBLpttsbgY4_",
        "outputId": "148c0dbe-2d4f-4bdc-bee0-aa75836e25a7"
      },
      "outputs": [
        {
          "data": {
            "text/plain": [
              "4"
            ]
          },
          "execution_count": 72,
          "metadata": {},
          "output_type": "execute_result"
        }
      ],
      "source": [
        "len(tables)"
      ]
    },
    {
      "cell_type": "code",
      "execution_count": 102,
      "metadata": {
        "id": "81heVP6Ngm7y"
      },
      "outputs": [],
      "source": [
        "for table in tables:\n",
        "  cv2.rectangle(opencv_image,(table[0],table[1]),(table[2],table[3]),(255, 0, 0), 2)\n"
      ]
    },
    {
      "cell_type": "code",
      "execution_count": 81,
      "metadata": {
        "colab": {
          "base_uri": "https://localhost:8080/"
        },
        "id": "JGv8Evu5hCr3",
        "outputId": "2308dd86-a43b-4336-c9cd-e2735d17a837"
      },
      "outputs": [
        {
          "data": {
            "text/plain": [
              "(3300, 2550, 3)"
            ]
          },
          "execution_count": 81,
          "metadata": {},
          "output_type": "execute_result"
        }
      ],
      "source": [
        "opencv_image.shape"
      ]
    },
    {
      "cell_type": "code",
      "execution_count": 103,
      "metadata": {
        "colab": {
          "base_uri": "https://localhost:8080/",
          "height": 1000
        },
        "id": "tQtacFrmgsr5",
        "outputId": "b061a86e-f926-4c4a-ff8c-d41aba23610f"
      },
      "outputs": [],
      "source": [
        "resized_image = cv2.resize(opencv_image, (1280, 780))\n",
        "cv2.imshow(\"Image\",resized_image)\n",
        "cv2.waitKey(0)\n",
        "cv2.destroyAllWindows()"
      ]
    },
    {
      "cell_type": "markdown",
      "metadata": {
        "id": "9qSHBtMQB3vT"
      },
      "source": [
        "### Cropping Image"
      ]
    },
    {
      "cell_type": "code",
      "execution_count": 4,
      "metadata": {
        "id": "bb7tbTzud3be"
      },
      "outputs": [],
      "source": [
        "# Define padding sizes (top, bottom, left, right)\n",
        "top_padding = 200  # pixels\n",
        "bottom_padding = 200\n",
        "left_padding = 0\n",
        "right_padding = 0\n",
        "padding_color = (255, 255, 255)"
      ]
    },
    {
      "cell_type": "code",
      "execution_count": 5,
      "metadata": {
        "id": "IICrz_vKDfcJ"
      },
      "outputs": [],
      "source": [
        "def crop_images(image,tables):\n",
        "  if len(tables) == 0:\n",
        "    image_data = {\n",
        "        'image': image,\n",
        "        'table':0\n",
        "    }\n",
        "    return [image_data]\n",
        "\n",
        "  # print(\"WE are at crop_images\")\n",
        "  height,width = image.shape[:2]\n",
        "  # print(height,width)\n",
        "\n",
        "  cropped_images = []\n",
        "  # Cropping table\n",
        "\n",
        "  cropped_image = image[0:tables[0][1],0:width]  # [y_min:y_max, x_min:x_max]\n",
        "  image_data = {\n",
        "      'image' : cropped_image,\n",
        "      'table' : 0\n",
        "  }\n",
        "  cropped_images.append(image_data)\n",
        "\n",
        "  break_point = tables[0][1]\n",
        "  for table in tables:\n",
        "    if table[1] != break_point:\n",
        "      cropped_image = image[break_point:table[1],0:width]\n",
        "      image_data = {\n",
        "        'image' : cropped_image,\n",
        "        'table' : 0\n",
        "      }\n",
        "      cropped_images.append(image_data)\n",
        "\n",
        "    cropped_image = image[table[1]-100:table[3]+100, 0:width]\n",
        "    padded_image = cv2.copyMakeBorder(\n",
        "        cropped_image,\n",
        "        top_padding, bottom_padding, left_padding, right_padding,\n",
        "        borderType=cv2.BORDER_CONSTANT,\n",
        "        value=padding_color\n",
        "    )\n",
        "    image_data = {\n",
        "        'image':padded_image,\n",
        "        'table':1\n",
        "    }\n",
        "    cropped_images.append(image_data)\n",
        "\n",
        "    break_point = table[3]\n",
        "\n",
        "  cropped_image = image[tables[-1][3]:height, 0:width]\n",
        "  image_data = {\n",
        "      'image':cropped_image,\n",
        "      'table':0\n",
        "  }\n",
        "  cropped_images.append(image_data)\n",
        "\n",
        "  return cropped_images"
      ]
    },
    {
      "cell_type": "markdown",
      "metadata": {
        "id": "2iFBlgpRKJfn"
      },
      "source": [
        "#### Testing"
      ]
    },
    {
      "cell_type": "markdown",
      "metadata": {
        "id": "13KpSpUXK5ez"
      },
      "source": [
        "##### Test 1"
      ]
    },
    {
      "cell_type": "code",
      "execution_count": 31,
      "metadata": {
        "colab": {
          "base_uri": "https://localhost:8080/",
          "height": 717
        },
        "id": "4b-FGX50JFRN",
        "outputId": "d4985295-f058-4742-f9ab-532afaf695e1"
      },
      "outputs": [
        {
          "name": "stdout",
          "output_type": "stream",
          "text": [
            "0\n"
          ]
        },
        {
          "data": {
            "image/jpeg": "[encoded data removed]",
            "image/png": "[encoded data removed]",
            "text/plain": [
              "<PIL.Image.Image image mode=RGB size=782x83>"
            ]
          },
          "metadata": {},
          "output_type": "display_data"
        },
        {
          "name": "stdout",
          "output_type": "stream",
          "text": [
            "1\n"
          ]
        },
        {
          "data": {
            "image/jpeg": "[encoded data removed]",
            "image/png": "[encoded data removed]",
            "text/plain": [
              "<PIL.Image.Image image mode=RGB size=782x71>"
            ]
          },
          "metadata": {},
          "output_type": "display_data"
        },
        {
          "name": "stdout",
          "output_type": "stream",
          "text": [
            "0\n"
          ]
        },
        {
          "data": {
            "image/jpeg": "[encoded data removed]",
            "image/png": "[encoded data removed]",
            "text/plain": [
              "<PIL.Image.Image image mode=RGB size=782x202>"
            ]
          },
          "metadata": {},
          "output_type": "display_data"
        },
        {
          "name": "stdout",
          "output_type": "stream",
          "text": [
            "1\n"
          ]
        },
        {
          "data": {
            "image/jpeg": "[encoded data removed]",
            "image/png": "[encoded data removed]",
            "text/plain": [
              "<PIL.Image.Image image mode=RGB size=782x184>"
            ]
          },
          "metadata": {},
          "output_type": "display_data"
        },
        {
          "name": "stdout",
          "output_type": "stream",
          "text": [
            "0\n"
          ]
        },
        {
          "data": {
            "image/jpeg": "[encoded data removed]",
            "image/png": "[encoded data removed]",
            "text/plain": [
              "<PIL.Image.Image image mode=RGB size=782x73>"
            ]
          },
          "metadata": {},
          "output_type": "display_data"
        }
      ],
      "source": [
        "image = cv2.imread(\"/content/two_table.png\")\n",
        "tables = retrieve_table_boudaries(image)\n",
        "\n",
        "for image in crop_images(image,tables):\n",
        "\n",
        "  print(image['table'])\n",
        "  cv2_imshow(image['image'])"
      ]
    },
    {
      "cell_type": "markdown",
      "metadata": {
        "id": "y4RnozHNK8gX"
      },
      "source": [
        "##### Test 2"
      ]
    },
    {
      "cell_type": "code",
      "execution_count": null,
      "metadata": {
        "id": "mkBF1kT_KQiY"
      },
      "outputs": [],
      "source": []
    },
    {
      "cell_type": "markdown",
      "metadata": {
        "id": "QBZNoqE2LIo4"
      },
      "source": [
        "## Recognizing Text"
      ]
    },
    {
      "cell_type": "markdown",
      "metadata": {
        "id": "Olu4I3j0LN30"
      },
      "source": [
        "### For Tabular Data"
      ]
    },
    {
      "cell_type": "code",
      "execution_count": 6,
      "metadata": {
        "id": "0JFmaDUjLNS0"
      },
      "outputs": [],
      "source": [
        "def table_data(image,file_path):\n",
        "  image_pil = Image.fromarray(image['image'])\n",
        "  with tempfile.NamedTemporaryFile(suffix='.png', delete=False) as temp_file:\n",
        "      temp_path = temp_file.name  # Get the temporary file path\n",
        "      image_pil.save(temp_path)\n",
        "\n",
        "  # cv2_imshow(temp_path)\n",
        "  images, highres_images, names, text_lines = load_pdfs_images(temp_path)\n",
        "  os.remove(temp_path)\n",
        "\n",
        "  page_results = extract_tables(images, highres_images, text_lines, det_models, layout_models, rec_models)\n",
        "\n",
        "  if len(page_results[0].cells) == 0:\n",
        "    normal_data(image,file_path)\n",
        "    return\n",
        "\n",
        "  # page_results[0].cells\n",
        "\n",
        "  results = page_results[0].cells[0]\n",
        "\n",
        "  table_list = []\n",
        "\n",
        "  for result in results:\n",
        "    span = []\n",
        "    span.append(result.text)\n",
        "    span.append(result.row_ids[0])\n",
        "    span.append(result.col_ids[0])\n",
        "    table_list.append(span)\n",
        "\n",
        "  max_row = max(item[1] for item in table_list)\n",
        "  max_col = max(item[2] for item in table_list)\n",
        "\n",
        "  table = [[\"\" for _ in range(max_col + 1)] for _ in range(max_row + 1)]\n",
        "\n",
        "  for value, row, col in table_list:\n",
        "      table[row][col] = value\n",
        "\n",
        "  df = pd.DataFrame(table)\n",
        "  df = df.applymap(lambda x: x.strip() if isinstance(x, str) else x)\n",
        "  column_widths = [max(df[col].astype(str).map(len)) for col in df.columns]\n",
        "\n",
        "  # Align text to the left for each column\n",
        "  formatted_rows = []\n",
        "  for _, row in df.iterrows():\n",
        "    formatted_row = \" | \".join(\n",
        "        f\"{str(row[col]).ljust(column_widths[col])}\" for col in df.columns\n",
        "    )\n",
        "    formatted_rows.append(formatted_row)\n",
        "\n",
        "  # table_data = df.values.tolist()\n",
        "  # formatted_table = tabulate(table_data, tablefmt=\"psql\")\n",
        "\n",
        "  with open(file_path, \"a\", encoding=\"utf-8\") as f:\n",
        "    f.write(\"\\n\".join(formatted_rows))\n",
        "\n",
        "      # f.write(f\"\\n{formatted_table}\\n\\n\")"
      ]
    },
    {
      "cell_type": "markdown",
      "metadata": {
        "id": "Zok70P9MMSiL"
      },
      "source": [
        "### For Normal Data"
      ]
    },
    {
      "cell_type": "code",
      "execution_count": 7,
      "metadata": {
        "id": "eqZDjlZlMESc"
      },
      "outputs": [],
      "source": [
        "def normal_data(image,file_path):\n",
        "  # file_path = \"ocr_test.txt\"\n",
        "  image_pil = Image.fromarray(image['image'])\n",
        "  width,height = image_pil.size\n",
        "  if height == 0:\n",
        "    return\n",
        "  # print(f\"Width: {width}, Height: {height}\")\n",
        "  # print(\"i am here\")\n",
        "  predictions = run_ocr([image_pil], [langs], det_model, det_processor, rec_model, rec_processor)\n",
        "  pred_list = list(predictions[0])\n",
        "  cleaned_text = pred_list[0][1]\n",
        "  with open(file_path,\"a\",encoding=\"utf-8\") as file:\n",
        "      # file.write(f\"\\n\\nPage {i+1}\\n\")\n",
        "      for line in cleaned_text:\n",
        "          file.write(f\"{line.text}\\n\")"
      ]
    },
    {
      "cell_type": "code",
      "execution_count": 26,
      "metadata": {},
      "outputs": [
        {
          "name": "stdout",
          "output_type": "stream",
          "text": [
            "d:\\Internship\\Nepali-Sentiment-Classification\\NepaliSentiment\n"
          ]
        },
        {
          "name": "stderr",
          "output_type": "stream",
          "text": [
            "d:\\Internship\\Nepali-Sentiment-Classification\\NepaliSentiment\\myenv\\lib\\site-packages\\IPython\\core\\magics\\osm.py:417: UserWarning: This is now an optional IPython functionality, setting dhist requires you to install the `pickleshare` library.\n",
            "  self.shell.db['dhist'] = compress_dhist(dhist)[-100:]\n"
          ]
        }
      ],
      "source": [
        "%cd .."
      ]
    },
    {
      "cell_type": "markdown",
      "metadata": {},
      "source": [
        "### Test"
      ]
    },
    {
      "cell_type": "code",
      "execution_count": 11,
      "metadata": {
        "colab": {
          "base_uri": "https://localhost:8080/"
        },
        "collapsed": true,
        "id": "xoqFE8R_NyYp",
        "outputId": "0e5d55fa-4f4f-4226-bce7-6ff19d975e26"
      },
      "outputs": [
        {
          "name": "stdout",
          "output_type": "stream",
          "text": [
            "Image Extraction Completed\n",
            "Page 140\n",
            "Length of table:\n",
            "0\n"
          ]
        },
        {
          "name": "stderr",
          "output_type": "stream",
          "text": [
            "Detecting bboxes: 100%|██████████| 1/1 [00:03<00:00,  3.16s/it]\n",
            "Recognizing Text: 100%|██████████| 3/3 [00:17<00:00,  5.94s/it]\n"
          ]
        },
        {
          "name": "stdout",
          "output_type": "stream",
          "text": [
            "Page 141\n",
            "Length of table:\n",
            "0\n"
          ]
        },
        {
          "name": "stderr",
          "output_type": "stream",
          "text": [
            "Detecting bboxes: 100%|██████████| 1/1 [00:02<00:00,  2.72s/it]\n",
            "Recognizing Text: 100%|██████████| 5/5 [00:26<00:00,  5.32s/it]\n"
          ]
        },
        {
          "name": "stdout",
          "output_type": "stream",
          "text": [
            "Page 142\n",
            "Length of table:\n",
            "0\n"
          ]
        },
        {
          "name": "stderr",
          "output_type": "stream",
          "text": [
            "Detecting bboxes: 100%|██████████| 1/1 [00:02<00:00,  2.57s/it]\n",
            "Recognizing Text: 100%|██████████| 6/6 [00:28<00:00,  4.70s/it]\n"
          ]
        },
        {
          "name": "stdout",
          "output_type": "stream",
          "text": [
            "Page 143\n",
            "Length of table:\n",
            "0\n"
          ]
        },
        {
          "name": "stderr",
          "output_type": "stream",
          "text": [
            "Detecting bboxes: 100%|██████████| 1/1 [00:02<00:00,  2.52s/it]\n",
            "Recognizing Text: 100%|██████████| 5/5 [00:25<00:00,  5.12s/it]\n"
          ]
        },
        {
          "name": "stdout",
          "output_type": "stream",
          "text": [
            "Page 144\n",
            "Length of table:\n",
            "0\n"
          ]
        },
        {
          "name": "stderr",
          "output_type": "stream",
          "text": [
            "Detecting bboxes: 100%|██████████| 1/1 [00:02<00:00,  2.49s/it]\n",
            "Recognizing Text: 100%|██████████| 6/6 [00:30<00:00,  5.11s/it]\n"
          ]
        },
        {
          "name": "stdout",
          "output_type": "stream",
          "text": [
            "Page 145\n",
            "Length of table:\n",
            "0\n"
          ]
        },
        {
          "name": "stderr",
          "output_type": "stream",
          "text": [
            "Detecting bboxes: 100%|██████████| 1/1 [00:02<00:00,  2.49s/it]\n",
            "Recognizing Text: 100%|██████████| 5/5 [00:26<00:00,  5.20s/it]\n"
          ]
        },
        {
          "name": "stdout",
          "output_type": "stream",
          "text": [
            "Page 146\n",
            "395169.0\n",
            "357889.0\n",
            "Length of table:\n",
            "2\n"
          ]
        },
        {
          "name": "stderr",
          "output_type": "stream",
          "text": [
            "Detecting bboxes: 100%|██████████| 1/1 [00:01<00:00,  1.68s/it]\n",
            "Recognizing Text: 100%|██████████| 4/4 [00:18<00:00,  4.58s/it]\n",
            "Recognizing layout: 100%|██████████| 1/1 [00:03<00:00,  3.10s/it]\n",
            "Detecting bboxes: 100%|██████████| 1/1 [00:00<00:00,  1.15it/s]\n",
            "Recognizing Text: 100%|██████████| 1/1 [00:04<00:00,  4.73s/it]\n",
            "Recognizing tables: 100%|██████████| 1/1 [00:00<00:00,  1.04it/s]\n",
            "C:\\Users\\Anup Acharya\\AppData\\Local\\Temp\\ipykernel_18144\\2900324173.py:39: FutureWarning: DataFrame.applymap has been deprecated. Use DataFrame.map instead.\n",
            "  df = df.applymap(lambda x: x.strip() if isinstance(x, str) else x)\n",
            "Detecting bboxes: 100%|██████████| 1/1 [00:00<00:00,  1.16it/s]\n",
            "Recognizing Text: 100%|██████████| 1/1 [00:01<00:00,  1.35s/it]\n",
            "Recognizing layout: 100%|██████████| 1/1 [00:02<00:00,  2.86s/it]\n",
            "Detecting bboxes: 100%|██████████| 1/1 [00:00<00:00,  1.16it/s]\n",
            "Recognizing Text: 100%|██████████| 1/1 [00:04<00:00,  4.74s/it]\n",
            "Recognizing tables: 100%|██████████| 1/1 [00:00<00:00,  1.11it/s]\n",
            "C:\\Users\\Anup Acharya\\AppData\\Local\\Temp\\ipykernel_18144\\2900324173.py:39: FutureWarning: DataFrame.applymap has been deprecated. Use DataFrame.map instead.\n",
            "  df = df.applymap(lambda x: x.strip() if isinstance(x, str) else x)\n",
            "Detecting bboxes: 100%|██████████| 1/1 [00:00<00:00,  1.16it/s]\n",
            "Recognizing Text: 100%|██████████| 1/1 [00:03<00:00,  3.13s/it]\n"
          ]
        },
        {
          "name": "stdout",
          "output_type": "stream",
          "text": [
            "Page 147\n",
            "1010289.0\n",
            "357889.0\n",
            "Length of table:\n",
            "2\n"
          ]
        },
        {
          "name": "stderr",
          "output_type": "stream",
          "text": [
            "Detecting bboxes: 100%|██████████| 1/1 [00:00<00:00,  1.18it/s]\n",
            "Recognizing layout: 100%|██████████| 1/1 [00:02<00:00,  2.83s/it]\n",
            "Detecting bboxes: 100%|██████████| 1/1 [00:00<00:00,  1.13it/s]\n",
            "Recognizing Text: 100%|██████████| 1/1 [00:03<00:00,  3.96s/it]\n",
            "Recognizing tables: 100%|██████████| 1/1 [00:00<00:00,  1.11it/s]\n",
            "C:\\Users\\Anup Acharya\\AppData\\Local\\Temp\\ipykernel_18144\\2900324173.py:39: FutureWarning: DataFrame.applymap has been deprecated. Use DataFrame.map instead.\n",
            "  df = df.applymap(lambda x: x.strip() if isinstance(x, str) else x)\n",
            "Detecting bboxes: 100%|██████████| 1/1 [00:00<00:00,  1.12it/s]\n",
            "Recognizing Text: 100%|██████████| 2/2 [00:06<00:00,  3.44s/it]\n",
            "Recognizing layout: 100%|██████████| 1/1 [00:02<00:00,  2.95s/it]\n",
            "Detecting bboxes: 100%|██████████| 1/1 [00:00<00:00,  1.14it/s]\n",
            "Recognizing Text: 100%|██████████| 2/2 [00:08<00:00,  4.25s/it]\n",
            "Recognizing tables: 100%|██████████| 1/1 [00:00<00:00,  1.07it/s]\n",
            "C:\\Users\\Anup Acharya\\AppData\\Local\\Temp\\ipykernel_18144\\2900324173.py:39: FutureWarning: DataFrame.applymap has been deprecated. Use DataFrame.map instead.\n",
            "  df = df.applymap(lambda x: x.strip() if isinstance(x, str) else x)\n",
            "Detecting bboxes: 100%|██████████| 1/1 [00:01<00:00,  1.68s/it]\n",
            "Recognizing Text: 100%|██████████| 3/3 [00:14<00:00,  4.97s/it]\n"
          ]
        },
        {
          "name": "stdout",
          "output_type": "stream",
          "text": [
            "Page 148\n",
            "Length of table:\n",
            "0\n"
          ]
        },
        {
          "name": "stderr",
          "output_type": "stream",
          "text": [
            "Detecting bboxes: 100%|██████████| 1/1 [00:02<00:00,  2.52s/it]\n",
            "Recognizing Text: 100%|██████████| 6/6 [00:31<00:00,  5.24s/it]\n"
          ]
        },
        {
          "name": "stdout",
          "output_type": "stream",
          "text": [
            "Page 149\n",
            "Length of table:\n",
            "0\n"
          ]
        },
        {
          "name": "stderr",
          "output_type": "stream",
          "text": [
            "Detecting bboxes: 100%|██████████| 1/1 [00:02<00:00,  2.55s/it]\n",
            "Recognizing Text: 100%|██████████| 5/5 [00:23<00:00,  4.64s/it]\n"
          ]
        },
        {
          "name": "stdout",
          "output_type": "stream",
          "text": [
            "Page 150\n",
            "Length of table:\n",
            "0\n"
          ]
        },
        {
          "name": "stderr",
          "output_type": "stream",
          "text": [
            "Detecting bboxes: 100%|██████████| 1/1 [00:02<00:00,  2.54s/it]\n",
            "Recognizing Text: 100%|██████████| 5/5 [00:24<00:00,  4.99s/it]\n"
          ]
        },
        {
          "name": "stdout",
          "output_type": "stream",
          "text": [
            "Page 151\n",
            "Length of table:\n",
            "0\n"
          ]
        },
        {
          "name": "stderr",
          "output_type": "stream",
          "text": [
            "Detecting bboxes: 100%|██████████| 1/1 [00:02<00:00,  2.54s/it]\n",
            "Recognizing Text: 100%|██████████| 5/5 [00:25<00:00,  5.14s/it]\n"
          ]
        },
        {
          "name": "stdout",
          "output_type": "stream",
          "text": [
            "Page 152\n",
            "Length of table:\n",
            "0\n"
          ]
        },
        {
          "name": "stderr",
          "output_type": "stream",
          "text": [
            "Detecting bboxes: 100%|██████████| 1/1 [00:02<00:00,  2.56s/it]\n",
            "Recognizing Text: 100%|██████████| 5/5 [00:26<00:00,  5.35s/it]\n"
          ]
        },
        {
          "name": "stdout",
          "output_type": "stream",
          "text": [
            "Page 153\n",
            "Length of table:\n",
            "0\n"
          ]
        },
        {
          "name": "stderr",
          "output_type": "stream",
          "text": [
            "Detecting bboxes: 100%|██████████| 1/1 [00:02<00:00,  2.60s/it]\n",
            "Recognizing Text: 100%|██████████| 6/6 [00:29<00:00,  4.86s/it]\n"
          ]
        },
        {
          "name": "stdout",
          "output_type": "stream",
          "text": [
            "Page 154\n",
            "Length of table:\n",
            "0\n"
          ]
        },
        {
          "name": "stderr",
          "output_type": "stream",
          "text": [
            "Detecting bboxes: 100%|██████████| 1/1 [00:02<00:00,  2.53s/it]\n",
            "Recognizing Text: 100%|██████████| 5/5 [00:28<00:00,  5.60s/it]\n"
          ]
        },
        {
          "name": "stdout",
          "output_type": "stream",
          "text": [
            "Page 155\n",
            "Length of table:\n",
            "0\n"
          ]
        },
        {
          "name": "stderr",
          "output_type": "stream",
          "text": [
            "Detecting bboxes: 100%|██████████| 1/1 [00:02<00:00,  2.56s/it]\n",
            "Recognizing Text: 100%|██████████| 5/5 [00:24<00:00,  4.96s/it]\n"
          ]
        },
        {
          "name": "stdout",
          "output_type": "stream",
          "text": [
            "Page 156\n",
            "Length of table:\n",
            "0\n"
          ]
        },
        {
          "name": "stderr",
          "output_type": "stream",
          "text": [
            "Detecting bboxes: 100%|██████████| 1/1 [00:02<00:00,  2.67s/it]\n",
            "Recognizing Text: 100%|██████████| 6/6 [00:31<00:00,  5.32s/it]\n"
          ]
        },
        {
          "name": "stdout",
          "output_type": "stream",
          "text": [
            "Page 157\n",
            "Length of table:\n",
            "0\n"
          ]
        },
        {
          "name": "stderr",
          "output_type": "stream",
          "text": [
            "Detecting bboxes: 100%|██████████| 1/1 [00:02<00:00,  2.60s/it]\n",
            "Recognizing Text: 100%|██████████| 5/5 [00:26<00:00,  5.37s/it]\n"
          ]
        },
        {
          "name": "stdout",
          "output_type": "stream",
          "text": [
            "Page 158\n",
            "Length of table:\n",
            "0\n"
          ]
        },
        {
          "name": "stderr",
          "output_type": "stream",
          "text": [
            "Detecting bboxes: 100%|██████████| 1/1 [00:02<00:00,  2.61s/it]\n",
            "Recognizing Text: 100%|██████████| 6/6 [00:30<00:00,  5.12s/it]\n"
          ]
        },
        {
          "name": "stdout",
          "output_type": "stream",
          "text": [
            "Page 159\n",
            "Length of table:\n",
            "0\n"
          ]
        },
        {
          "name": "stderr",
          "output_type": "stream",
          "text": [
            "Detecting bboxes: 100%|██████████| 1/1 [00:02<00:00,  2.56s/it]\n",
            "Recognizing Text: 100%|██████████| 5/5 [00:26<00:00,  5.22s/it]\n"
          ]
        },
        {
          "name": "stdout",
          "output_type": "stream",
          "text": [
            "Page 160\n",
            "Length of table:\n",
            "0\n"
          ]
        },
        {
          "name": "stderr",
          "output_type": "stream",
          "text": [
            "Detecting bboxes: 100%|██████████| 1/1 [00:02<00:00,  2.60s/it]\n",
            "Recognizing Text: 100%|██████████| 5/5 [00:26<00:00,  5.29s/it]\n"
          ]
        },
        {
          "name": "stdout",
          "output_type": "stream",
          "text": [
            "Page 161\n",
            "Length of table:\n",
            "0\n"
          ]
        },
        {
          "name": "stderr",
          "output_type": "stream",
          "text": [
            "Detecting bboxes: 100%|██████████| 1/1 [00:02<00:00,  2.63s/it]\n",
            "Recognizing Text: 100%|██████████| 6/6 [00:30<00:00,  5.07s/it]\n"
          ]
        },
        {
          "name": "stdout",
          "output_type": "stream",
          "text": [
            "Page 162\n",
            "Length of table:\n",
            "0\n"
          ]
        },
        {
          "name": "stderr",
          "output_type": "stream",
          "text": [
            "Detecting bboxes: 100%|██████████| 1/1 [00:02<00:00,  2.54s/it]\n",
            "Recognizing Text: 100%|██████████| 5/5 [00:26<00:00,  5.27s/it]\n"
          ]
        },
        {
          "name": "stdout",
          "output_type": "stream",
          "text": [
            "Page 163\n",
            "Length of table:\n",
            "0\n"
          ]
        },
        {
          "name": "stderr",
          "output_type": "stream",
          "text": [
            "Detecting bboxes: 100%|██████████| 1/1 [00:02<00:00,  2.60s/it]\n",
            "Recognizing Text: 100%|██████████| 5/5 [00:26<00:00,  5.38s/it]\n"
          ]
        },
        {
          "name": "stdout",
          "output_type": "stream",
          "text": [
            "Page 164\n",
            "Length of table:\n",
            "0\n"
          ]
        },
        {
          "name": "stderr",
          "output_type": "stream",
          "text": [
            "Detecting bboxes: 100%|██████████| 1/1 [00:02<00:00,  2.59s/it]\n",
            "Recognizing Text: 100%|██████████| 5/5 [00:25<00:00,  5.16s/it]\n"
          ]
        },
        {
          "name": "stdout",
          "output_type": "stream",
          "text": [
            "Page 165\n",
            "Length of table:\n",
            "0\n"
          ]
        },
        {
          "name": "stderr",
          "output_type": "stream",
          "text": [
            "Detecting bboxes: 100%|██████████| 1/1 [00:02<00:00,  2.68s/it]\n",
            "Recognizing Text: 100%|██████████| 6/6 [00:30<00:00,  5.06s/it]\n"
          ]
        },
        {
          "name": "stdout",
          "output_type": "stream",
          "text": [
            "Page 166\n",
            "Length of table:\n",
            "0\n"
          ]
        },
        {
          "name": "stderr",
          "output_type": "stream",
          "text": [
            "Detecting bboxes: 100%|██████████| 1/1 [00:03<00:00,  3.11s/it]\n",
            "Recognizing Text: 100%|██████████| 6/6 [00:33<00:00,  5.62s/it]\n"
          ]
        },
        {
          "name": "stdout",
          "output_type": "stream",
          "text": [
            "Page 167\n",
            "617761.0\n",
            "Length of table:\n",
            "1\n"
          ]
        },
        {
          "name": "stderr",
          "output_type": "stream",
          "text": [
            "Detecting bboxes: 100%|██████████| 1/1 [00:02<00:00,  2.55s/it]\n",
            "Recognizing Text: 100%|██████████| 5/5 [00:25<00:00,  5.13s/it]\n",
            "Recognizing layout: 100%|██████████| 1/1 [00:02<00:00,  2.92s/it]\n",
            "Detecting bboxes: 100%|██████████| 1/1 [00:00<00:00,  1.14it/s]\n",
            "Recognizing Text: 100%|██████████| 1/1 [00:02<00:00,  2.58s/it]\n",
            "Recognizing tables: 100%|██████████| 1/1 [00:00<00:00,  1.12it/s]\n",
            "C:\\Users\\Anup Acharya\\AppData\\Local\\Temp\\ipykernel_18144\\2900324173.py:39: FutureWarning: DataFrame.applymap has been deprecated. Use DataFrame.map instead.\n",
            "  df = df.applymap(lambda x: x.strip() if isinstance(x, str) else x)\n",
            "Detecting bboxes: 100%|██████████| 1/1 [00:00<00:00,  1.17it/s]\n",
            "Recognizing Text: 100%|██████████| 1/1 [00:01<00:00,  1.85s/it]\n"
          ]
        },
        {
          "name": "stdout",
          "output_type": "stream",
          "text": [
            "Page 168\n",
            "5243041.0\n",
            "Length of table:\n",
            "1\n"
          ]
        },
        {
          "name": "stderr",
          "output_type": "stream",
          "text": [
            "Detecting bboxes: 100%|██████████| 1/1 [00:00<00:00,  1.16it/s]\n",
            "Recognizing layout: 100%|██████████| 1/1 [00:02<00:00,  2.89s/it]\n",
            "Detecting bboxes: 100%|██████████| 1/1 [00:02<00:00,  2.60s/it]\n",
            "Recognizing Text: 100%|██████████| 10/10 [00:48<00:00,  4.89s/it]\n",
            "Recognizing tables: 100%|██████████| 1/1 [00:01<00:00,  1.19s/it]\n",
            "C:\\Users\\Anup Acharya\\AppData\\Local\\Temp\\ipykernel_18144\\2900324173.py:39: FutureWarning: DataFrame.applymap has been deprecated. Use DataFrame.map instead.\n",
            "  df = df.applymap(lambda x: x.strip() if isinstance(x, str) else x)\n",
            "Detecting bboxes: 100%|██████████| 1/1 [00:00<00:00,  1.15it/s]\n",
            "Recognizing Text: 100%|██████████| 1/1 [00:00<00:00,  1.61it/s]\n"
          ]
        },
        {
          "name": "stdout",
          "output_type": "stream",
          "text": [
            "Page 169\n",
            "2722501.0\n",
            "Length of table:\n",
            "1\n"
          ]
        },
        {
          "name": "stderr",
          "output_type": "stream",
          "text": [
            "Detecting bboxes: 100%|██████████| 1/1 [00:00<00:00,  1.17it/s]\n",
            "Recognizing layout: 100%|██████████| 1/1 [00:03<00:00,  3.20s/it]\n",
            "Detecting bboxes: 100%|██████████| 1/1 [00:00<00:00,  1.08it/s]\n",
            "Recognizing Text: 100%|██████████| 4/4 [00:17<00:00,  4.26s/it]\n",
            "Recognizing tables: 100%|██████████| 1/1 [00:01<00:00,  1.02s/it]\n",
            "C:\\Users\\Anup Acharya\\AppData\\Local\\Temp\\ipykernel_18144\\2900324173.py:39: FutureWarning: DataFrame.applymap has been deprecated. Use DataFrame.map instead.\n",
            "  df = df.applymap(lambda x: x.strip() if isinstance(x, str) else x)\n",
            "Detecting bboxes: 100%|██████████| 1/1 [00:01<00:00,  1.69s/it]\n",
            "Recognizing Text: 100%|██████████| 2/2 [00:10<00:00,  5.12s/it]\n"
          ]
        },
        {
          "name": "stdout",
          "output_type": "stream",
          "text": [
            "Page 170\n",
            "Length of table:\n",
            "0\n"
          ]
        },
        {
          "name": "stderr",
          "output_type": "stream",
          "text": [
            "Detecting bboxes: 100%|██████████| 1/1 [00:02<00:00,  2.58s/it]\n",
            "Recognizing Text: 100%|██████████| 5/5 [00:25<00:00,  5.00s/it]\n"
          ]
        },
        {
          "name": "stdout",
          "output_type": "stream",
          "text": [
            "Page 171\n",
            "Length of table:\n",
            "0\n"
          ]
        },
        {
          "name": "stderr",
          "output_type": "stream",
          "text": [
            "Detecting bboxes: 100%|██████████| 1/1 [00:02<00:00,  2.59s/it]\n",
            "Recognizing Text: 100%|██████████| 5/5 [00:28<00:00,  5.68s/it]\n"
          ]
        },
        {
          "name": "stdout",
          "output_type": "stream",
          "text": [
            "Page 172\n",
            "Length of table:\n",
            "0\n"
          ]
        },
        {
          "name": "stderr",
          "output_type": "stream",
          "text": [
            "Detecting bboxes: 100%|██████████| 1/1 [00:02<00:00,  2.59s/it]\n",
            "Recognizing Text: 100%|██████████| 6/6 [00:31<00:00,  5.17s/it]\n"
          ]
        },
        {
          "name": "stdout",
          "output_type": "stream",
          "text": [
            "Page 173\n",
            "Length of table:\n",
            "0\n"
          ]
        },
        {
          "name": "stderr",
          "output_type": "stream",
          "text": [
            "Detecting bboxes: 100%|██████████| 1/1 [00:02<00:00,  2.60s/it]\n",
            "Recognizing Text: 100%|██████████| 5/5 [00:26<00:00,  5.33s/it]\n"
          ]
        },
        {
          "name": "stdout",
          "output_type": "stream",
          "text": [
            "Page 174\n",
            "Length of table:\n",
            "0\n"
          ]
        },
        {
          "name": "stderr",
          "output_type": "stream",
          "text": [
            "Detecting bboxes: 100%|██████████| 1/1 [00:02<00:00,  2.57s/it]\n",
            "Recognizing Text: 100%|██████████| 5/5 [00:26<00:00,  5.24s/it]\n"
          ]
        },
        {
          "name": "stdout",
          "output_type": "stream",
          "text": [
            "Page 175\n",
            "Length of table:\n",
            "0\n"
          ]
        },
        {
          "name": "stderr",
          "output_type": "stream",
          "text": [
            "Detecting bboxes: 100%|██████████| 1/1 [00:02<00:00,  2.60s/it]\n",
            "Recognizing Text: 100%|██████████| 4/4 [00:18<00:00,  4.58s/it]\n"
          ]
        },
        {
          "name": "stdout",
          "output_type": "stream",
          "text": [
            "Page 176\n",
            "689131.0\n",
            "Length of table:\n",
            "1\n"
          ]
        },
        {
          "name": "stderr",
          "output_type": "stream",
          "text": [
            "Detecting bboxes: 100%|██████████| 1/1 [00:01<00:00,  1.72s/it]\n",
            "Recognizing Text: 100%|██████████| 4/4 [00:20<00:00,  5.12s/it]\n",
            "Recognizing layout: 100%|██████████| 1/1 [00:02<00:00,  2.93s/it]\n",
            "Detecting bboxes: 100%|██████████| 1/1 [00:00<00:00,  1.12it/s]\n",
            "Recognizing Text: 100%|██████████| 1/1 [00:04<00:00,  4.86s/it]\n",
            "Recognizing tables: 100%|██████████| 1/1 [00:00<00:00,  1.08it/s]\n",
            "C:\\Users\\Anup Acharya\\AppData\\Local\\Temp\\ipykernel_18144\\2900324173.py:39: FutureWarning: DataFrame.applymap has been deprecated. Use DataFrame.map instead.\n",
            "  df = df.applymap(lambda x: x.strip() if isinstance(x, str) else x)\n",
            "Detecting bboxes: 100%|██████████| 1/1 [00:00<00:00,  1.13it/s]\n",
            "Recognizing Text: 100%|██████████| 1/1 [00:03<00:00,  3.09s/it]\n"
          ]
        },
        {
          "name": "stdout",
          "output_type": "stream",
          "text": [
            "Page 177\n",
            "Length of table:\n",
            "0\n"
          ]
        },
        {
          "name": "stderr",
          "output_type": "stream",
          "text": [
            "Detecting bboxes: 100%|██████████| 1/1 [00:02<00:00,  2.56s/it]\n",
            "Recognizing Text: 100%|██████████| 5/5 [00:26<00:00,  5.27s/it]\n"
          ]
        },
        {
          "name": "stdout",
          "output_type": "stream",
          "text": [
            "Page 178\n",
            "Length of table:\n",
            "0\n"
          ]
        },
        {
          "name": "stderr",
          "output_type": "stream",
          "text": [
            "Detecting bboxes: 100%|██████████| 1/1 [00:02<00:00,  2.57s/it]\n",
            "Recognizing Text: 100%|██████████| 5/5 [00:27<00:00,  5.41s/it]\n"
          ]
        },
        {
          "name": "stdout",
          "output_type": "stream",
          "text": [
            "Page 179\n",
            "Length of table:\n",
            "0\n"
          ]
        },
        {
          "name": "stderr",
          "output_type": "stream",
          "text": [
            "Detecting bboxes: 100%|██████████| 1/1 [00:02<00:00,  2.59s/it]\n",
            "Recognizing Text: 100%|██████████| 5/5 [00:26<00:00,  5.39s/it]\n"
          ]
        },
        {
          "name": "stdout",
          "output_type": "stream",
          "text": [
            "Page 180\n",
            "Length of table:\n",
            "0\n"
          ]
        },
        {
          "name": "stderr",
          "output_type": "stream",
          "text": [
            "Detecting bboxes: 100%|██████████| 1/1 [00:02<00:00,  2.57s/it]\n",
            "Recognizing Text: 100%|██████████| 5/5 [00:29<00:00,  5.87s/it]"
          ]
        },
        {
          "name": "stdout",
          "output_type": "stream",
          "text": [
            "Elapsed time: 1317.04767 seconds\n"
          ]
        },
        {
          "name": "stderr",
          "output_type": "stream",
          "text": [
            "\n"
          ]
        }
      ],
      "source": [
        "import time\n",
        "\n",
        "start_time = time.time()\n",
        "\n",
        "# start_page = 1\n",
        "# end_page = 300\n",
        "\n",
        "file_path = \"Page_140_to_180.txt\"\n",
        "\n",
        "print(\"Image Extraction Completed\")\n",
        "for i in range(140,181):\n",
        "  images = convert_from_path(\"Unified-Directives-2080-Circular-Final-Published.pdf\", dpi=300,first_page=i, last_page=i) # Each page converted individually to avoid resources issues\n",
        "  print(f\"Page {i}\")\n",
        "  tables,opencv_image = retrieve_table_boudaries(images[0])\n",
        "  cropped_images = crop_images(opencv_image,tables)\n",
        "  # cv2_imshow(cropped_images[1]['image'])\n",
        "  for image in cropped_images:\n",
        "    if image['table']:\n",
        "      table_data(image,file_path)\n",
        "    else:\n",
        "      normal_data(image,file_path)\n",
        "  with open(file_path,\"a\",encoding=\"utf-8\") as file:\n",
        "    # file.write(f\"\\n\\nPage {i+1}\\n\")\n",
        "    file.write(f\"Page {i+1}\\n\\n\")\n",
        "\n",
        "end_time = time.time()\n",
        "elapsed_time = end_time - start_time\n",
        "\n",
        "print(f\"Elapsed time: {elapsed_time:.5f} seconds\")"
      ]
    },
    {
      "cell_type": "code",
      "execution_count": 231,
      "metadata": {
        "id": "H5hcT8MYRXz2"
      },
      "outputs": [],
      "source": [
        "start_page = 168\n",
        "end_page = 168\n",
        "\n",
        "file_path = \"output.txt\"\n",
        "images = convert_from_path(\"/content/Unified-Directives-2080-Circular-Final-Published.pdf\", dpi=300,first_page=start_page, last_page=end_page)"
      ]
    },
    {
      "cell_type": "code",
      "execution_count": 232,
      "metadata": {
        "colab": {
          "base_uri": "https://localhost:8080/"
        },
        "collapsed": true,
        "id": "AJfRoAttT40_",
        "outputId": "535d3a28-a0d1-4fcc-f255-c61daec2e6b6"
      },
      "outputs": [
        {
          "name": "stdout",
          "output_type": "stream",
          "text": [
            "5215309.0\n"
          ]
        }
      ],
      "source": [
        "tables,opencv_image = retrieve_table_boudaries(images[0])\n",
        "cropped_images = crop_images(opencv_image,tables)"
      ]
    },
    {
      "cell_type": "code",
      "execution_count": null,
      "metadata": {
        "id": "Nt7S45AuVaQh"
      },
      "outputs": [],
      "source": []
    }
  ],
  "metadata": {
    "accelerator": "TPU",
    "colab": {
      "collapsed_sections": [
        "qY3Ia8SwBvCW",
        "2iFBlgpRKJfn",
        "13KpSpUXK5ez"
      ],
      "gpuType": "V28",
      "provenance": []
    },
    "kernelspec": {
      "display_name": "myenv",
      "language": "python",
      "name": "python3"
    },
    "language_info": {
      "codemirror_mode": {
        "name": "ipython",
        "version": 3
      },
      "file_extension": ".py",
      "mimetype": "text/x-python",
      "name": "python",
      "nbconvert_exporter": "python",
      "pygments_lexer": "ipython3",
      "version": "3.10.2"
    },
    "widgets": {
      "application/vnd.jupyter.widget-state+json": {
        "03bbc577727f419795985625df41c0ec": {
          "model_module": "@jupyter-widgets/base",
          "model_module_version": "1.2.0",
          "model_name": "LayoutModel",
          "state": {
            "_model_module": "@jupyter-widgets/base",
            "_model_module_version": "1.2.0",
            "_model_name": "LayoutModel",
            "_view_count": null,
            "_view_module": "@jupyter-widgets/base",
            "_view_module_version": "1.2.0",
            "_view_name": "LayoutView",
            "align_content": null,
            "align_items": null,
            "align_self": null,
            "border": null,
            "bottom": null,
            "display": null,
            "flex": null,
            "flex_flow": null,
            "grid_area": null,
            "grid_auto_columns": null,
            "grid_auto_flow": null,
            "grid_auto_rows": null,
            "grid_column": null,
            "grid_gap": null,
            "grid_row": null,
            "grid_template_areas": null,
            "grid_template_columns": null,
            "grid_template_rows": null,
            "height": null,
            "justify_content": null,
            "justify_items": null,
            "left": null,
            "margin": null,
            "max_height": null,
            "max_width": null,
            "min_height": null,
            "min_width": null,
            "object_fit": null,
            "object_position": null,
            "order": null,
            "overflow": null,
            "overflow_x": null,
            "overflow_y": null,
            "padding": null,
            "right": null,
            "top": null,
            "visibility": null,
            "width": null
          }
        },
        "0740bf34fbc546dfa7bb24907900d0d7": {
          "model_module": "@jupyter-widgets/base",
          "model_module_version": "1.2.0",
          "model_name": "LayoutModel",
          "state": {
            "_model_module": "@jupyter-widgets/base",
            "_model_module_version": "1.2.0",
            "_model_name": "LayoutModel",
            "_view_count": null,
            "_view_module": "@jupyter-widgets/base",
            "_view_module_version": "1.2.0",
            "_view_name": "LayoutView",
            "align_content": null,
            "align_items": null,
            "align_self": null,
            "border": null,
            "bottom": null,
            "display": null,
            "flex": null,
            "flex_flow": null,
            "grid_area": null,
            "grid_auto_columns": null,
            "grid_auto_flow": null,
            "grid_auto_rows": null,
            "grid_column": null,
            "grid_gap": null,
            "grid_row": null,
            "grid_template_areas": null,
            "grid_template_columns": null,
            "grid_template_rows": null,
            "height": null,
            "justify_content": null,
            "justify_items": null,
            "left": null,
            "margin": null,
            "max_height": null,
            "max_width": null,
            "min_height": null,
            "min_width": null,
            "object_fit": null,
            "object_position": null,
            "order": null,
            "overflow": null,
            "overflow_x": null,
            "overflow_y": null,
            "padding": null,
            "right": null,
            "top": null,
            "visibility": null,
            "width": null
          }
        },
        "08fd55b3199f459dba93eee05aac489c": {
          "model_module": "@jupyter-widgets/controls",
          "model_module_version": "1.5.0",
          "model_name": "HTMLModel",
          "state": {
            "_dom_classes": [],
            "_model_module": "@jupyter-widgets/controls",
            "_model_module_version": "1.5.0",
            "_model_name": "HTMLModel",
            "_view_count": null,
            "_view_module": "@jupyter-widgets/controls",
            "_view_module_version": "1.5.0",
            "_view_name": "HTMLView",
            "description": "",
            "description_tooltip": null,
            "layout": "IPY_MODEL_61ed9382489b446abea11107e4065298",
            "placeholder": "​",
            "style": "IPY_MODEL_66e734fe3d3043268346b7886ac51ed3",
            "value": "config.json: 100%"
          }
        },
        "0beb1511f60644498bafdc6ba1403914": {
          "model_module": "@jupyter-widgets/controls",
          "model_module_version": "1.5.0",
          "model_name": "DescriptionStyleModel",
          "state": {
            "_model_module": "@jupyter-widgets/controls",
            "_model_module_version": "1.5.0",
            "_model_name": "DescriptionStyleModel",
            "_view_count": null,
            "_view_module": "@jupyter-widgets/base",
            "_view_module_version": "1.2.0",
            "_view_name": "StyleView",
            "description_width": ""
          }
        },
        "0d002ff04cf342d18552fccaa23eff80": {
          "model_module": "@jupyter-widgets/controls",
          "model_module_version": "1.5.0",
          "model_name": "ProgressStyleModel",
          "state": {
            "_model_module": "@jupyter-widgets/controls",
            "_model_module_version": "1.5.0",
            "_model_name": "ProgressStyleModel",
            "_view_count": null,
            "_view_module": "@jupyter-widgets/base",
            "_view_module_version": "1.2.0",
            "_view_name": "StyleView",
            "bar_color": null,
            "description_width": ""
          }
        },
        "13b9e79ed3844b0a8460fd10647d0867": {
          "model_module": "@jupyter-widgets/controls",
          "model_module_version": "1.5.0",
          "model_name": "DescriptionStyleModel",
          "state": {
            "_model_module": "@jupyter-widgets/controls",
            "_model_module_version": "1.5.0",
            "_model_name": "DescriptionStyleModel",
            "_view_count": null,
            "_view_module": "@jupyter-widgets/base",
            "_view_module_version": "1.2.0",
            "_view_name": "StyleView",
            "description_width": ""
          }
        },
        "157ab47b2ac34acb8ca3015ec44c56e8": {
          "model_module": "@jupyter-widgets/base",
          "model_module_version": "1.2.0",
          "model_name": "LayoutModel",
          "state": {
            "_model_module": "@jupyter-widgets/base",
            "_model_module_version": "1.2.0",
            "_model_name": "LayoutModel",
            "_view_count": null,
            "_view_module": "@jupyter-widgets/base",
            "_view_module_version": "1.2.0",
            "_view_name": "LayoutView",
            "align_content": null,
            "align_items": null,
            "align_self": null,
            "border": null,
            "bottom": null,
            "display": null,
            "flex": null,
            "flex_flow": null,
            "grid_area": null,
            "grid_auto_columns": null,
            "grid_auto_flow": null,
            "grid_auto_rows": null,
            "grid_column": null,
            "grid_gap": null,
            "grid_row": null,
            "grid_template_areas": null,
            "grid_template_columns": null,
            "grid_template_rows": null,
            "height": null,
            "justify_content": null,
            "justify_items": null,
            "left": null,
            "margin": null,
            "max_height": null,
            "max_width": null,
            "min_height": null,
            "min_width": null,
            "object_fit": null,
            "object_position": null,
            "order": null,
            "overflow": null,
            "overflow_x": null,
            "overflow_y": null,
            "padding": null,
            "right": null,
            "top": null,
            "visibility": null,
            "width": null
          }
        },
        "16413bc58d7e442f86b8cb3cb8eb215b": {
          "model_module": "@jupyter-widgets/base",
          "model_module_version": "1.2.0",
          "model_name": "LayoutModel",
          "state": {
            "_model_module": "@jupyter-widgets/base",
            "_model_module_version": "1.2.0",
            "_model_name": "LayoutModel",
            "_view_count": null,
            "_view_module": "@jupyter-widgets/base",
            "_view_module_version": "1.2.0",
            "_view_name": "LayoutView",
            "align_content": null,
            "align_items": null,
            "align_self": null,
            "border": null,
            "bottom": null,
            "display": null,
            "flex": null,
            "flex_flow": null,
            "grid_area": null,
            "grid_auto_columns": null,
            "grid_auto_flow": null,
            "grid_auto_rows": null,
            "grid_column": null,
            "grid_gap": null,
            "grid_row": null,
            "grid_template_areas": null,
            "grid_template_columns": null,
            "grid_template_rows": null,
            "height": null,
            "justify_content": null,
            "justify_items": null,
            "left": null,
            "margin": null,
            "max_height": null,
            "max_width": null,
            "min_height": null,
            "min_width": null,
            "object_fit": null,
            "object_position": null,
            "order": null,
            "overflow": null,
            "overflow_x": null,
            "overflow_y": null,
            "padding": null,
            "right": null,
            "top": null,
            "visibility": null,
            "width": null
          }
        },
        "189de4700c3240ca8d36d80582db9edd": {
          "model_module": "@jupyter-widgets/controls",
          "model_module_version": "1.5.0",
          "model_name": "DescriptionStyleModel",
          "state": {
            "_model_module": "@jupyter-widgets/controls",
            "_model_module_version": "1.5.0",
            "_model_name": "DescriptionStyleModel",
            "_view_count": null,
            "_view_module": "@jupyter-widgets/base",
            "_view_module_version": "1.2.0",
            "_view_name": "StyleView",
            "description_width": ""
          }
        },
        "192bc15d2ae64faaa0bbe9eefb4aa781": {
          "model_module": "@jupyter-widgets/base",
          "model_module_version": "1.2.0",
          "model_name": "LayoutModel",
          "state": {
            "_model_module": "@jupyter-widgets/base",
            "_model_module_version": "1.2.0",
            "_model_name": "LayoutModel",
            "_view_count": null,
            "_view_module": "@jupyter-widgets/base",
            "_view_module_version": "1.2.0",
            "_view_name": "LayoutView",
            "align_content": null,
            "align_items": null,
            "align_self": null,
            "border": null,
            "bottom": null,
            "display": null,
            "flex": null,
            "flex_flow": null,
            "grid_area": null,
            "grid_auto_columns": null,
            "grid_auto_flow": null,
            "grid_auto_rows": null,
            "grid_column": null,
            "grid_gap": null,
            "grid_row": null,
            "grid_template_areas": null,
            "grid_template_columns": null,
            "grid_template_rows": null,
            "height": null,
            "justify_content": null,
            "justify_items": null,
            "left": null,
            "margin": null,
            "max_height": null,
            "max_width": null,
            "min_height": null,
            "min_width": null,
            "object_fit": null,
            "object_position": null,
            "order": null,
            "overflow": null,
            "overflow_x": null,
            "overflow_y": null,
            "padding": null,
            "right": null,
            "top": null,
            "visibility": null,
            "width": null
          }
        },
        "19c5af7c8db442b9bfb8ae37ef16e49d": {
          "model_module": "@jupyter-widgets/base",
          "model_module_version": "1.2.0",
          "model_name": "LayoutModel",
          "state": {
            "_model_module": "@jupyter-widgets/base",
            "_model_module_version": "1.2.0",
            "_model_name": "LayoutModel",
            "_view_count": null,
            "_view_module": "@jupyter-widgets/base",
            "_view_module_version": "1.2.0",
            "_view_name": "LayoutView",
            "align_content": null,
            "align_items": null,
            "align_self": null,
            "border": null,
            "bottom": null,
            "display": null,
            "flex": null,
            "flex_flow": null,
            "grid_area": null,
            "grid_auto_columns": null,
            "grid_auto_flow": null,
            "grid_auto_rows": null,
            "grid_column": null,
            "grid_gap": null,
            "grid_row": null,
            "grid_template_areas": null,
            "grid_template_columns": null,
            "grid_template_rows": null,
            "height": null,
            "justify_content": null,
            "justify_items": null,
            "left": null,
            "margin": null,
            "max_height": null,
            "max_width": null,
            "min_height": null,
            "min_width": null,
            "object_fit": null,
            "object_position": null,
            "order": null,
            "overflow": null,
            "overflow_x": null,
            "overflow_y": null,
            "padding": null,
            "right": null,
            "top": null,
            "visibility": null,
            "width": null
          }
        },
        "1c833db1917342afa6957b078a48622d": {
          "model_module": "@jupyter-widgets/controls",
          "model_module_version": "1.5.0",
          "model_name": "FloatProgressModel",
          "state": {
            "_dom_classes": [],
            "_model_module": "@jupyter-widgets/controls",
            "_model_module_version": "1.5.0",
            "_model_name": "FloatProgressModel",
            "_view_count": null,
            "_view_module": "@jupyter-widgets/controls",
            "_view_module_version": "1.5.0",
            "_view_name": "ProgressView",
            "bar_style": "success",
            "description": "",
            "description_tooltip": null,
            "layout": "IPY_MODEL_9c69c0fb11954a7d90d98e70aa170d6b",
            "max": 8050,
            "min": 0,
            "orientation": "horizontal",
            "style": "IPY_MODEL_76cd653ead5247f9ad86f6585e32df0c",
            "value": 8050
          }
        },
        "1d532c6dcb494f7b9f4a899c87e96ee9": {
          "model_module": "@jupyter-widgets/controls",
          "model_module_version": "1.5.0",
          "model_name": "FloatProgressModel",
          "state": {
            "_dom_classes": [],
            "_model_module": "@jupyter-widgets/controls",
            "_model_module_version": "1.5.0",
            "_model_name": "FloatProgressModel",
            "_view_count": null,
            "_view_module": "@jupyter-widgets/controls",
            "_view_module_version": "1.5.0",
            "_view_name": "ProgressView",
            "bar_style": "success",
            "description": "",
            "description_tooltip": null,
            "layout": "IPY_MODEL_5bcf5fe92ea7492c8dbe8bc6bbfda049",
            "max": 675,
            "min": 0,
            "orientation": "horizontal",
            "style": "IPY_MODEL_93f01b4e3fce458786993a072ad5d20e",
            "value": 675
          }
        },
        "1d93157e6c6d422690f3786cbc8dad73": {
          "model_module": "@jupyter-widgets/base",
          "model_module_version": "1.2.0",
          "model_name": "LayoutModel",
          "state": {
            "_model_module": "@jupyter-widgets/base",
            "_model_module_version": "1.2.0",
            "_model_name": "LayoutModel",
            "_view_count": null,
            "_view_module": "@jupyter-widgets/base",
            "_view_module_version": "1.2.0",
            "_view_name": "LayoutView",
            "align_content": null,
            "align_items": null,
            "align_self": null,
            "border": null,
            "bottom": null,
            "display": null,
            "flex": null,
            "flex_flow": null,
            "grid_area": null,
            "grid_auto_columns": null,
            "grid_auto_flow": null,
            "grid_auto_rows": null,
            "grid_column": null,
            "grid_gap": null,
            "grid_row": null,
            "grid_template_areas": null,
            "grid_template_columns": null,
            "grid_template_rows": null,
            "height": null,
            "justify_content": null,
            "justify_items": null,
            "left": null,
            "margin": null,
            "max_height": null,
            "max_width": null,
            "min_height": null,
            "min_width": null,
            "object_fit": null,
            "object_position": null,
            "order": null,
            "overflow": null,
            "overflow_x": null,
            "overflow_y": null,
            "padding": null,
            "right": null,
            "top": null,
            "visibility": null,
            "width": null
          }
        },
        "1dbe60801bad4056958f479279edfe10": {
          "model_module": "@jupyter-widgets/controls",
          "model_module_version": "1.5.0",
          "model_name": "HTMLModel",
          "state": {
            "_dom_classes": [],
            "_model_module": "@jupyter-widgets/controls",
            "_model_module_version": "1.5.0",
            "_model_name": "HTMLModel",
            "_view_count": null,
            "_view_module": "@jupyter-widgets/controls",
            "_view_module_version": "1.5.0",
            "_view_name": "HTMLView",
            "description": "",
            "description_tooltip": null,
            "layout": "IPY_MODEL_35577adc8bb148ad98d6628b08a06149",
            "placeholder": "​",
            "style": "IPY_MODEL_5f2e2e2293814b16a6281655f10c54a7",
            "value": "preprocessor_config.json: 100%"
          }
        },
        "1e1ac75b3ba94f49815ed19391b4fba9": {
          "model_module": "@jupyter-widgets/controls",
          "model_module_version": "1.5.0",
          "model_name": "FloatProgressModel",
          "state": {
            "_dom_classes": [],
            "_model_module": "@jupyter-widgets/controls",
            "_model_module_version": "1.5.0",
            "_model_name": "FloatProgressModel",
            "_view_count": null,
            "_view_module": "@jupyter-widgets/controls",
            "_view_module_version": "1.5.0",
            "_view_name": "ProgressView",
            "bar_style": "success",
            "description": "",
            "description_tooltip": null,
            "layout": "IPY_MODEL_5e57649473764c75a2e710819cf1ed74",
            "max": 556,
            "min": 0,
            "orientation": "horizontal",
            "style": "IPY_MODEL_c44918252db14a89b504874b1e036191",
            "value": 556
          }
        },
        "1f11209e832e401db61e441b4aeb2db8": {
          "model_module": "@jupyter-widgets/controls",
          "model_module_version": "1.5.0",
          "model_name": "DescriptionStyleModel",
          "state": {
            "_model_module": "@jupyter-widgets/controls",
            "_model_module_version": "1.5.0",
            "_model_name": "DescriptionStyleModel",
            "_view_count": null,
            "_view_module": "@jupyter-widgets/base",
            "_view_module_version": "1.2.0",
            "_view_name": "StyleView",
            "description_width": ""
          }
        },
        "20fc7cfb9fae45cfbb513ac9cb5bca1c": {
          "model_module": "@jupyter-widgets/controls",
          "model_module_version": "1.5.0",
          "model_name": "HBoxModel",
          "state": {
            "_dom_classes": [],
            "_model_module": "@jupyter-widgets/controls",
            "_model_module_version": "1.5.0",
            "_model_name": "HBoxModel",
            "_view_count": null,
            "_view_module": "@jupyter-widgets/controls",
            "_view_module_version": "1.5.0",
            "_view_name": "HBoxView",
            "box_style": "",
            "children": [
              "IPY_MODEL_f3cdc44048324d0d9ba737f91c40bb0d",
              "IPY_MODEL_9837ea6e10c34a9ca6eef614147f447b",
              "IPY_MODEL_fc97b0a49cb84b029a7384b02607a823"
            ],
            "layout": "IPY_MODEL_157ab47b2ac34acb8ca3015ec44c56e8"
          }
        },
        "2343a049a1bf4788af9f04c104cf6da4": {
          "model_module": "@jupyter-widgets/base",
          "model_module_version": "1.2.0",
          "model_name": "LayoutModel",
          "state": {
            "_model_module": "@jupyter-widgets/base",
            "_model_module_version": "1.2.0",
            "_model_name": "LayoutModel",
            "_view_count": null,
            "_view_module": "@jupyter-widgets/base",
            "_view_module_version": "1.2.0",
            "_view_name": "LayoutView",
            "align_content": null,
            "align_items": null,
            "align_self": null,
            "border": null,
            "bottom": null,
            "display": null,
            "flex": null,
            "flex_flow": null,
            "grid_area": null,
            "grid_auto_columns": null,
            "grid_auto_flow": null,
            "grid_auto_rows": null,
            "grid_column": null,
            "grid_gap": null,
            "grid_row": null,
            "grid_template_areas": null,
            "grid_template_columns": null,
            "grid_template_rows": null,
            "height": null,
            "justify_content": null,
            "justify_items": null,
            "left": null,
            "margin": null,
            "max_height": null,
            "max_width": null,
            "min_height": null,
            "min_width": null,
            "object_fit": null,
            "object_position": null,
            "order": null,
            "overflow": null,
            "overflow_x": null,
            "overflow_y": null,
            "padding": null,
            "right": null,
            "top": null,
            "visibility": null,
            "width": null
          }
        },
        "23998417394848f0b065b3095c38a649": {
          "model_module": "@jupyter-widgets/controls",
          "model_module_version": "1.5.0",
          "model_name": "HTMLModel",
          "state": {
            "_dom_classes": [],
            "_model_module": "@jupyter-widgets/controls",
            "_model_module_version": "1.5.0",
            "_model_name": "HTMLModel",
            "_view_count": null,
            "_view_module": "@jupyter-widgets/controls",
            "_view_module_version": "1.5.0",
            "_view_name": "HTMLView",
            "description": "",
            "description_tooltip": null,
            "layout": "IPY_MODEL_abd1e0918b1f4f619a8db2edb351fe95",
            "placeholder": "​",
            "style": "IPY_MODEL_fa445f02e57649418dd41e41ea1c37b3",
            "value": " 811/811 [00:00&lt;00:00, 25.3kB/s]"
          }
        },
        "27cd31e7378b47408aa9cfd43539eac6": {
          "model_module": "@jupyter-widgets/base",
          "model_module_version": "1.2.0",
          "model_name": "LayoutModel",
          "state": {
            "_model_module": "@jupyter-widgets/base",
            "_model_module_version": "1.2.0",
            "_model_name": "LayoutModel",
            "_view_count": null,
            "_view_module": "@jupyter-widgets/base",
            "_view_module_version": "1.2.0",
            "_view_name": "LayoutView",
            "align_content": null,
            "align_items": null,
            "align_self": null,
            "border": null,
            "bottom": null,
            "display": null,
            "flex": null,
            "flex_flow": null,
            "grid_area": null,
            "grid_auto_columns": null,
            "grid_auto_flow": null,
            "grid_auto_rows": null,
            "grid_column": null,
            "grid_gap": null,
            "grid_row": null,
            "grid_template_areas": null,
            "grid_template_columns": null,
            "grid_template_rows": null,
            "height": null,
            "justify_content": null,
            "justify_items": null,
            "left": null,
            "margin": null,
            "max_height": null,
            "max_width": null,
            "min_height": null,
            "min_width": null,
            "object_fit": null,
            "object_position": null,
            "order": null,
            "overflow": null,
            "overflow_x": null,
            "overflow_y": null,
            "padding": null,
            "right": null,
            "top": null,
            "visibility": null,
            "width": null
          }
        },
        "28303935486740d3b23270c1d4086ad0": {
          "model_module": "@jupyter-widgets/base",
          "model_module_version": "1.2.0",
          "model_name": "LayoutModel",
          "state": {
            "_model_module": "@jupyter-widgets/base",
            "_model_module_version": "1.2.0",
            "_model_name": "LayoutModel",
            "_view_count": null,
            "_view_module": "@jupyter-widgets/base",
            "_view_module_version": "1.2.0",
            "_view_name": "LayoutView",
            "align_content": null,
            "align_items": null,
            "align_self": null,
            "border": null,
            "bottom": null,
            "display": null,
            "flex": null,
            "flex_flow": null,
            "grid_area": null,
            "grid_auto_columns": null,
            "grid_auto_flow": null,
            "grid_auto_rows": null,
            "grid_column": null,
            "grid_gap": null,
            "grid_row": null,
            "grid_template_areas": null,
            "grid_template_columns": null,
            "grid_template_rows": null,
            "height": null,
            "justify_content": null,
            "justify_items": null,
            "left": null,
            "margin": null,
            "max_height": null,
            "max_width": null,
            "min_height": null,
            "min_width": null,
            "object_fit": null,
            "object_position": null,
            "order": null,
            "overflow": null,
            "overflow_x": null,
            "overflow_y": null,
            "padding": null,
            "right": null,
            "top": null,
            "visibility": null,
            "width": null
          }
        },
        "29a2d1ee62c64689b5bb7b5bacfb052e": {
          "model_module": "@jupyter-widgets/controls",
          "model_module_version": "1.5.0",
          "model_name": "HBoxModel",
          "state": {
            "_dom_classes": [],
            "_model_module": "@jupyter-widgets/controls",
            "_model_module_version": "1.5.0",
            "_model_name": "HBoxModel",
            "_view_count": null,
            "_view_module": "@jupyter-widgets/controls",
            "_view_module_version": "1.5.0",
            "_view_name": "HBoxView",
            "box_style": "",
            "children": [
              "IPY_MODEL_6614aba95c6e4568a5ee3f35e468ece0",
              "IPY_MODEL_b0a1bf3c800b4066bdb72d4f5bc0fd06",
              "IPY_MODEL_5d1c078d2aa34a78a8adb63f20497722"
            ],
            "layout": "IPY_MODEL_192bc15d2ae64faaa0bbe9eefb4aa781"
          }
        },
        "29eaf2bc76cf41928291dc271ead3ee2": {
          "model_module": "@jupyter-widgets/controls",
          "model_module_version": "1.5.0",
          "model_name": "HTMLModel",
          "state": {
            "_dom_classes": [],
            "_model_module": "@jupyter-widgets/controls",
            "_model_module_version": "1.5.0",
            "_model_name": "HTMLModel",
            "_view_count": null,
            "_view_module": "@jupyter-widgets/controls",
            "_view_module_version": "1.5.0",
            "_view_name": "HTMLView",
            "description": "",
            "description_tooltip": null,
            "layout": "IPY_MODEL_4d49d8f297b34c68b4f4d33ff20dd5f6",
            "placeholder": "​",
            "style": "IPY_MODEL_ff9a7553950b4aaa81deedc34328200e",
            "value": "preprocessor_config.json: 100%"
          }
        },
        "2d337c2d74304d44b7a94c8359a9ef06": {
          "model_module": "@jupyter-widgets/base",
          "model_module_version": "1.2.0",
          "model_name": "LayoutModel",
          "state": {
            "_model_module": "@jupyter-widgets/base",
            "_model_module_version": "1.2.0",
            "_model_name": "LayoutModel",
            "_view_count": null,
            "_view_module": "@jupyter-widgets/base",
            "_view_module_version": "1.2.0",
            "_view_name": "LayoutView",
            "align_content": null,
            "align_items": null,
            "align_self": null,
            "border": null,
            "bottom": null,
            "display": null,
            "flex": null,
            "flex_flow": null,
            "grid_area": null,
            "grid_auto_columns": null,
            "grid_auto_flow": null,
            "grid_auto_rows": null,
            "grid_column": null,
            "grid_gap": null,
            "grid_row": null,
            "grid_template_areas": null,
            "grid_template_columns": null,
            "grid_template_rows": null,
            "height": null,
            "justify_content": null,
            "justify_items": null,
            "left": null,
            "margin": null,
            "max_height": null,
            "max_width": null,
            "min_height": null,
            "min_width": null,
            "object_fit": null,
            "object_position": null,
            "order": null,
            "overflow": null,
            "overflow_x": null,
            "overflow_y": null,
            "padding": null,
            "right": null,
            "top": null,
            "visibility": null,
            "width": null
          }
        },
        "30d1244ba9aa420982f1c7b14468d11c": {
          "model_module": "@jupyter-widgets/controls",
          "model_module_version": "1.5.0",
          "model_name": "DescriptionStyleModel",
          "state": {
            "_model_module": "@jupyter-widgets/controls",
            "_model_module_version": "1.5.0",
            "_model_name": "DescriptionStyleModel",
            "_view_count": null,
            "_view_module": "@jupyter-widgets/base",
            "_view_module_version": "1.2.0",
            "_view_name": "StyleView",
            "description_width": ""
          }
        },
        "35577adc8bb148ad98d6628b08a06149": {
          "model_module": "@jupyter-widgets/base",
          "model_module_version": "1.2.0",
          "model_name": "LayoutModel",
          "state": {
            "_model_module": "@jupyter-widgets/base",
            "_model_module_version": "1.2.0",
            "_model_name": "LayoutModel",
            "_view_count": null,
            "_view_module": "@jupyter-widgets/base",
            "_view_module_version": "1.2.0",
            "_view_name": "LayoutView",
            "align_content": null,
            "align_items": null,
            "align_self": null,
            "border": null,
            "bottom": null,
            "display": null,
            "flex": null,
            "flex_flow": null,
            "grid_area": null,
            "grid_auto_columns": null,
            "grid_auto_flow": null,
            "grid_auto_rows": null,
            "grid_column": null,
            "grid_gap": null,
            "grid_row": null,
            "grid_template_areas": null,
            "grid_template_columns": null,
            "grid_template_rows": null,
            "height": null,
            "justify_content": null,
            "justify_items": null,
            "left": null,
            "margin": null,
            "max_height": null,
            "max_width": null,
            "min_height": null,
            "min_width": null,
            "object_fit": null,
            "object_position": null,
            "order": null,
            "overflow": null,
            "overflow_x": null,
            "overflow_y": null,
            "padding": null,
            "right": null,
            "top": null,
            "visibility": null,
            "width": null
          }
        },
        "3715fdac602f468493581b8b95047fc7": {
          "model_module": "@jupyter-widgets/controls",
          "model_module_version": "1.5.0",
          "model_name": "ProgressStyleModel",
          "state": {
            "_model_module": "@jupyter-widgets/controls",
            "_model_module_version": "1.5.0",
            "_model_name": "ProgressStyleModel",
            "_view_count": null,
            "_view_module": "@jupyter-widgets/base",
            "_view_module_version": "1.2.0",
            "_view_name": "StyleView",
            "bar_color": null,
            "description_width": ""
          }
        },
        "3c808f91c6e243298a28fa76a88c07d7": {
          "model_module": "@jupyter-widgets/base",
          "model_module_version": "1.2.0",
          "model_name": "LayoutModel",
          "state": {
            "_model_module": "@jupyter-widgets/base",
            "_model_module_version": "1.2.0",
            "_model_name": "LayoutModel",
            "_view_count": null,
            "_view_module": "@jupyter-widgets/base",
            "_view_module_version": "1.2.0",
            "_view_name": "LayoutView",
            "align_content": null,
            "align_items": null,
            "align_self": null,
            "border": null,
            "bottom": null,
            "display": null,
            "flex": null,
            "flex_flow": null,
            "grid_area": null,
            "grid_auto_columns": null,
            "grid_auto_flow": null,
            "grid_auto_rows": null,
            "grid_column": null,
            "grid_gap": null,
            "grid_row": null,
            "grid_template_areas": null,
            "grid_template_columns": null,
            "grid_template_rows": null,
            "height": null,
            "justify_content": null,
            "justify_items": null,
            "left": null,
            "margin": null,
            "max_height": null,
            "max_width": null,
            "min_height": null,
            "min_width": null,
            "object_fit": null,
            "object_position": null,
            "order": null,
            "overflow": null,
            "overflow_x": null,
            "overflow_y": null,
            "padding": null,
            "right": null,
            "top": null,
            "visibility": null,
            "width": null
          }
        },
        "41a4b9d2603044ae8da8b2c2726dcd84": {
          "model_module": "@jupyter-widgets/base",
          "model_module_version": "1.2.0",
          "model_name": "LayoutModel",
          "state": {
            "_model_module": "@jupyter-widgets/base",
            "_model_module_version": "1.2.0",
            "_model_name": "LayoutModel",
            "_view_count": null,
            "_view_module": "@jupyter-widgets/base",
            "_view_module_version": "1.2.0",
            "_view_name": "LayoutView",
            "align_content": null,
            "align_items": null,
            "align_self": null,
            "border": null,
            "bottom": null,
            "display": null,
            "flex": null,
            "flex_flow": null,
            "grid_area": null,
            "grid_auto_columns": null,
            "grid_auto_flow": null,
            "grid_auto_rows": null,
            "grid_column": null,
            "grid_gap": null,
            "grid_row": null,
            "grid_template_areas": null,
            "grid_template_columns": null,
            "grid_template_rows": null,
            "height": null,
            "justify_content": null,
            "justify_items": null,
            "left": null,
            "margin": null,
            "max_height": null,
            "max_width": null,
            "min_height": null,
            "min_width": null,
            "object_fit": null,
            "object_position": null,
            "order": null,
            "overflow": null,
            "overflow_x": null,
            "overflow_y": null,
            "padding": null,
            "right": null,
            "top": null,
            "visibility": null,
            "width": null
          }
        },
        "424612f282074d368c556e45e4f5e4b9": {
          "model_module": "@jupyter-widgets/controls",
          "model_module_version": "1.5.0",
          "model_name": "HBoxModel",
          "state": {
            "_dom_classes": [],
            "_model_module": "@jupyter-widgets/controls",
            "_model_module_version": "1.5.0",
            "_model_name": "HBoxModel",
            "_view_count": null,
            "_view_module": "@jupyter-widgets/controls",
            "_view_module_version": "1.5.0",
            "_view_name": "HBoxView",
            "box_style": "",
            "children": [
              "IPY_MODEL_08fd55b3199f459dba93eee05aac489c",
              "IPY_MODEL_be186d466b7e431a8896b6e68f2d920f",
              "IPY_MODEL_23998417394848f0b065b3095c38a649"
            ],
            "layout": "IPY_MODEL_f3472e2594e046599d9e7e45659c59b0"
          }
        },
        "435b018bd4fb494a806148dd17080c6d": {
          "model_module": "@jupyter-widgets/controls",
          "model_module_version": "1.5.0",
          "model_name": "DescriptionStyleModel",
          "state": {
            "_model_module": "@jupyter-widgets/controls",
            "_model_module_version": "1.5.0",
            "_model_name": "DescriptionStyleModel",
            "_view_count": null,
            "_view_module": "@jupyter-widgets/base",
            "_view_module_version": "1.2.0",
            "_view_name": "StyleView",
            "description_width": ""
          }
        },
        "44b4fb8090f54e9fbbe26a4a1605ec6c": {
          "model_module": "@jupyter-widgets/controls",
          "model_module_version": "1.5.0",
          "model_name": "HBoxModel",
          "state": {
            "_dom_classes": [],
            "_model_module": "@jupyter-widgets/controls",
            "_model_module_version": "1.5.0",
            "_model_name": "HBoxModel",
            "_view_count": null,
            "_view_module": "@jupyter-widgets/controls",
            "_view_module_version": "1.5.0",
            "_view_name": "HBoxView",
            "box_style": "",
            "children": [
              "IPY_MODEL_f5c953dea225444fb6d31c48409a8f27",
              "IPY_MODEL_7e34df824e1a4424b940b6dfe3c7a11f",
              "IPY_MODEL_45fefe0119a146e39856940227b40700"
            ],
            "layout": "IPY_MODEL_4cc06a1568964843ac2eff2316168363"
          }
        },
        "45fefe0119a146e39856940227b40700": {
          "model_module": "@jupyter-widgets/controls",
          "model_module_version": "1.5.0",
          "model_name": "HTMLModel",
          "state": {
            "_dom_classes": [],
            "_model_module": "@jupyter-widgets/controls",
            "_model_module_version": "1.5.0",
            "_model_name": "HTMLModel",
            "_view_count": null,
            "_view_module": "@jupyter-widgets/controls",
            "_view_module_version": "1.5.0",
            "_view_name": "HTMLView",
            "description": "",
            "description_tooltip": null,
            "layout": "IPY_MODEL_8af3fd6021ac42208d7ba20b0eebab2f",
            "placeholder": "​",
            "style": "IPY_MODEL_e33294cf5d334df397da061454e3adbb",
            "value": " 941M/941M [00:22&lt;00:00, 42.6MB/s]"
          }
        },
        "46a977a6d6274ee8af1f7eaa34e19ff2": {
          "model_module": "@jupyter-widgets/base",
          "model_module_version": "1.2.0",
          "model_name": "LayoutModel",
          "state": {
            "_model_module": "@jupyter-widgets/base",
            "_model_module_version": "1.2.0",
            "_model_name": "LayoutModel",
            "_view_count": null,
            "_view_module": "@jupyter-widgets/base",
            "_view_module_version": "1.2.0",
            "_view_name": "LayoutView",
            "align_content": null,
            "align_items": null,
            "align_self": null,
            "border": null,
            "bottom": null,
            "display": null,
            "flex": null,
            "flex_flow": null,
            "grid_area": null,
            "grid_auto_columns": null,
            "grid_auto_flow": null,
            "grid_auto_rows": null,
            "grid_column": null,
            "grid_gap": null,
            "grid_row": null,
            "grid_template_areas": null,
            "grid_template_columns": null,
            "grid_template_rows": null,
            "height": null,
            "justify_content": null,
            "justify_items": null,
            "left": null,
            "margin": null,
            "max_height": null,
            "max_width": null,
            "min_height": null,
            "min_width": null,
            "object_fit": null,
            "object_position": null,
            "order": null,
            "overflow": null,
            "overflow_x": null,
            "overflow_y": null,
            "padding": null,
            "right": null,
            "top": null,
            "visibility": null,
            "width": null
          }
        },
        "480de01dd8e14632a62b31f5003bc32c": {
          "model_module": "@jupyter-widgets/base",
          "model_module_version": "1.2.0",
          "model_name": "LayoutModel",
          "state": {
            "_model_module": "@jupyter-widgets/base",
            "_model_module_version": "1.2.0",
            "_model_name": "LayoutModel",
            "_view_count": null,
            "_view_module": "@jupyter-widgets/base",
            "_view_module_version": "1.2.0",
            "_view_name": "LayoutView",
            "align_content": null,
            "align_items": null,
            "align_self": null,
            "border": null,
            "bottom": null,
            "display": null,
            "flex": null,
            "flex_flow": null,
            "grid_area": null,
            "grid_auto_columns": null,
            "grid_auto_flow": null,
            "grid_auto_rows": null,
            "grid_column": null,
            "grid_gap": null,
            "grid_row": null,
            "grid_template_areas": null,
            "grid_template_columns": null,
            "grid_template_rows": null,
            "height": null,
            "justify_content": null,
            "justify_items": null,
            "left": null,
            "margin": null,
            "max_height": null,
            "max_width": null,
            "min_height": null,
            "min_width": null,
            "object_fit": null,
            "object_position": null,
            "order": null,
            "overflow": null,
            "overflow_x": null,
            "overflow_y": null,
            "padding": null,
            "right": null,
            "top": null,
            "visibility": null,
            "width": null
          }
        },
        "48ed228fc9eb48d7a3000fa11ffec0c2": {
          "model_module": "@jupyter-widgets/base",
          "model_module_version": "1.2.0",
          "model_name": "LayoutModel",
          "state": {
            "_model_module": "@jupyter-widgets/base",
            "_model_module_version": "1.2.0",
            "_model_name": "LayoutModel",
            "_view_count": null,
            "_view_module": "@jupyter-widgets/base",
            "_view_module_version": "1.2.0",
            "_view_name": "LayoutView",
            "align_content": null,
            "align_items": null,
            "align_self": null,
            "border": null,
            "bottom": null,
            "display": null,
            "flex": null,
            "flex_flow": null,
            "grid_area": null,
            "grid_auto_columns": null,
            "grid_auto_flow": null,
            "grid_auto_rows": null,
            "grid_column": null,
            "grid_gap": null,
            "grid_row": null,
            "grid_template_areas": null,
            "grid_template_columns": null,
            "grid_template_rows": null,
            "height": null,
            "justify_content": null,
            "justify_items": null,
            "left": null,
            "margin": null,
            "max_height": null,
            "max_width": null,
            "min_height": null,
            "min_width": null,
            "object_fit": null,
            "object_position": null,
            "order": null,
            "overflow": null,
            "overflow_x": null,
            "overflow_y": null,
            "padding": null,
            "right": null,
            "top": null,
            "visibility": null,
            "width": null
          }
        },
        "4978bf06887d47e5aa97f00cf952af5e": {
          "model_module": "@jupyter-widgets/controls",
          "model_module_version": "1.5.0",
          "model_name": "HTMLModel",
          "state": {
            "_dom_classes": [],
            "_model_module": "@jupyter-widgets/controls",
            "_model_module_version": "1.5.0",
            "_model_name": "HTMLModel",
            "_view_count": null,
            "_view_module": "@jupyter-widgets/controls",
            "_view_module_version": "1.5.0",
            "_view_name": "HTMLView",
            "description": "",
            "description_tooltip": null,
            "layout": "IPY_MODEL_d6a212934d564cec9516d4c1495479bf",
            "placeholder": "​",
            "style": "IPY_MODEL_bf8be3882d6a4dd3b04b749754877bc5",
            "value": " 154M/154M [00:03&lt;00:00, 42.7MB/s]"
          }
        },
        "49fae30f55cb4db09cf221191f4c6bae": {
          "model_module": "@jupyter-widgets/controls",
          "model_module_version": "1.5.0",
          "model_name": "HBoxModel",
          "state": {
            "_dom_classes": [],
            "_model_module": "@jupyter-widgets/controls",
            "_model_module_version": "1.5.0",
            "_model_name": "HBoxModel",
            "_view_count": null,
            "_view_module": "@jupyter-widgets/controls",
            "_view_module_version": "1.5.0",
            "_view_name": "HBoxView",
            "box_style": "",
            "children": [
              "IPY_MODEL_e317b930276e43e99094807d05145455",
              "IPY_MODEL_db8933ccddfc4b5f98cdf5ae93497422",
              "IPY_MODEL_e69c50f1ce684c4abda57471be3f3ac3"
            ],
            "layout": "IPY_MODEL_813a73a1e7ac476cb8335bcf35cc45bd"
          }
        },
        "4aea07c00cf946bd97643fe7040c80d9": {
          "model_module": "@jupyter-widgets/base",
          "model_module_version": "1.2.0",
          "model_name": "LayoutModel",
          "state": {
            "_model_module": "@jupyter-widgets/base",
            "_model_module_version": "1.2.0",
            "_model_name": "LayoutModel",
            "_view_count": null,
            "_view_module": "@jupyter-widgets/base",
            "_view_module_version": "1.2.0",
            "_view_name": "LayoutView",
            "align_content": null,
            "align_items": null,
            "align_self": null,
            "border": null,
            "bottom": null,
            "display": null,
            "flex": null,
            "flex_flow": null,
            "grid_area": null,
            "grid_auto_columns": null,
            "grid_auto_flow": null,
            "grid_auto_rows": null,
            "grid_column": null,
            "grid_gap": null,
            "grid_row": null,
            "grid_template_areas": null,
            "grid_template_columns": null,
            "grid_template_rows": null,
            "height": null,
            "justify_content": null,
            "justify_items": null,
            "left": null,
            "margin": null,
            "max_height": null,
            "max_width": null,
            "min_height": null,
            "min_width": null,
            "object_fit": null,
            "object_position": null,
            "order": null,
            "overflow": null,
            "overflow_x": null,
            "overflow_y": null,
            "padding": null,
            "right": null,
            "top": null,
            "visibility": null,
            "width": null
          }
        },
        "4be8fb74243441e284ab925ef544a995": {
          "model_module": "@jupyter-widgets/controls",
          "model_module_version": "1.5.0",
          "model_name": "DescriptionStyleModel",
          "state": {
            "_model_module": "@jupyter-widgets/controls",
            "_model_module_version": "1.5.0",
            "_model_name": "DescriptionStyleModel",
            "_view_count": null,
            "_view_module": "@jupyter-widgets/base",
            "_view_module_version": "1.2.0",
            "_view_name": "StyleView",
            "description_width": ""
          }
        },
        "4cc06a1568964843ac2eff2316168363": {
          "model_module": "@jupyter-widgets/base",
          "model_module_version": "1.2.0",
          "model_name": "LayoutModel",
          "state": {
            "_model_module": "@jupyter-widgets/base",
            "_model_module_version": "1.2.0",
            "_model_name": "LayoutModel",
            "_view_count": null,
            "_view_module": "@jupyter-widgets/base",
            "_view_module_version": "1.2.0",
            "_view_name": "LayoutView",
            "align_content": null,
            "align_items": null,
            "align_self": null,
            "border": null,
            "bottom": null,
            "display": null,
            "flex": null,
            "flex_flow": null,
            "grid_area": null,
            "grid_auto_columns": null,
            "grid_auto_flow": null,
            "grid_auto_rows": null,
            "grid_column": null,
            "grid_gap": null,
            "grid_row": null,
            "grid_template_areas": null,
            "grid_template_columns": null,
            "grid_template_rows": null,
            "height": null,
            "justify_content": null,
            "justify_items": null,
            "left": null,
            "margin": null,
            "max_height": null,
            "max_width": null,
            "min_height": null,
            "min_width": null,
            "object_fit": null,
            "object_position": null,
            "order": null,
            "overflow": null,
            "overflow_x": null,
            "overflow_y": null,
            "padding": null,
            "right": null,
            "top": null,
            "visibility": null,
            "width": null
          }
        },
        "4d49d8f297b34c68b4f4d33ff20dd5f6": {
          "model_module": "@jupyter-widgets/base",
          "model_module_version": "1.2.0",
          "model_name": "LayoutModel",
          "state": {
            "_model_module": "@jupyter-widgets/base",
            "_model_module_version": "1.2.0",
            "_model_name": "LayoutModel",
            "_view_count": null,
            "_view_module": "@jupyter-widgets/base",
            "_view_module_version": "1.2.0",
            "_view_name": "LayoutView",
            "align_content": null,
            "align_items": null,
            "align_self": null,
            "border": null,
            "bottom": null,
            "display": null,
            "flex": null,
            "flex_flow": null,
            "grid_area": null,
            "grid_auto_columns": null,
            "grid_auto_flow": null,
            "grid_auto_rows": null,
            "grid_column": null,
            "grid_gap": null,
            "grid_row": null,
            "grid_template_areas": null,
            "grid_template_columns": null,
            "grid_template_rows": null,
            "height": null,
            "justify_content": null,
            "justify_items": null,
            "left": null,
            "margin": null,
            "max_height": null,
            "max_width": null,
            "min_height": null,
            "min_width": null,
            "object_fit": null,
            "object_position": null,
            "order": null,
            "overflow": null,
            "overflow_x": null,
            "overflow_y": null,
            "padding": null,
            "right": null,
            "top": null,
            "visibility": null,
            "width": null
          }
        },
        "4f8ca56dc44c4ae9b1050421eae58928": {
          "model_module": "@jupyter-widgets/base",
          "model_module_version": "1.2.0",
          "model_name": "LayoutModel",
          "state": {
            "_model_module": "@jupyter-widgets/base",
            "_model_module_version": "1.2.0",
            "_model_name": "LayoutModel",
            "_view_count": null,
            "_view_module": "@jupyter-widgets/base",
            "_view_module_version": "1.2.0",
            "_view_name": "LayoutView",
            "align_content": null,
            "align_items": null,
            "align_self": null,
            "border": null,
            "bottom": null,
            "display": null,
            "flex": null,
            "flex_flow": null,
            "grid_area": null,
            "grid_auto_columns": null,
            "grid_auto_flow": null,
            "grid_auto_rows": null,
            "grid_column": null,
            "grid_gap": null,
            "grid_row": null,
            "grid_template_areas": null,
            "grid_template_columns": null,
            "grid_template_rows": null,
            "height": null,
            "justify_content": null,
            "justify_items": null,
            "left": null,
            "margin": null,
            "max_height": null,
            "max_width": null,
            "min_height": null,
            "min_width": null,
            "object_fit": null,
            "object_position": null,
            "order": null,
            "overflow": null,
            "overflow_x": null,
            "overflow_y": null,
            "padding": null,
            "right": null,
            "top": null,
            "visibility": null,
            "width": null
          }
        },
        "581370b931454446b438f4d8049bfa85": {
          "model_module": "@jupyter-widgets/controls",
          "model_module_version": "1.5.0",
          "model_name": "DescriptionStyleModel",
          "state": {
            "_model_module": "@jupyter-widgets/controls",
            "_model_module_version": "1.5.0",
            "_model_name": "DescriptionStyleModel",
            "_view_count": null,
            "_view_module": "@jupyter-widgets/base",
            "_view_module_version": "1.2.0",
            "_view_name": "StyleView",
            "description_width": ""
          }
        },
        "5bcf5fe92ea7492c8dbe8bc6bbfda049": {
          "model_module": "@jupyter-widgets/base",
          "model_module_version": "1.2.0",
          "model_name": "LayoutModel",
          "state": {
            "_model_module": "@jupyter-widgets/base",
            "_model_module_version": "1.2.0",
            "_model_name": "LayoutModel",
            "_view_count": null,
            "_view_module": "@jupyter-widgets/base",
            "_view_module_version": "1.2.0",
            "_view_name": "LayoutView",
            "align_content": null,
            "align_items": null,
            "align_self": null,
            "border": null,
            "bottom": null,
            "display": null,
            "flex": null,
            "flex_flow": null,
            "grid_area": null,
            "grid_auto_columns": null,
            "grid_auto_flow": null,
            "grid_auto_rows": null,
            "grid_column": null,
            "grid_gap": null,
            "grid_row": null,
            "grid_template_areas": null,
            "grid_template_columns": null,
            "grid_template_rows": null,
            "height": null,
            "justify_content": null,
            "justify_items": null,
            "left": null,
            "margin": null,
            "max_height": null,
            "max_width": null,
            "min_height": null,
            "min_width": null,
            "object_fit": null,
            "object_position": null,
            "order": null,
            "overflow": null,
            "overflow_x": null,
            "overflow_y": null,
            "padding": null,
            "right": null,
            "top": null,
            "visibility": null,
            "width": null
          }
        },
        "5c543c279ed54ef09c66ced713aa45e1": {
          "model_module": "@jupyter-widgets/base",
          "model_module_version": "1.2.0",
          "model_name": "LayoutModel",
          "state": {
            "_model_module": "@jupyter-widgets/base",
            "_model_module_version": "1.2.0",
            "_model_name": "LayoutModel",
            "_view_count": null,
            "_view_module": "@jupyter-widgets/base",
            "_view_module_version": "1.2.0",
            "_view_name": "LayoutView",
            "align_content": null,
            "align_items": null,
            "align_self": null,
            "border": null,
            "bottom": null,
            "display": null,
            "flex": null,
            "flex_flow": null,
            "grid_area": null,
            "grid_auto_columns": null,
            "grid_auto_flow": null,
            "grid_auto_rows": null,
            "grid_column": null,
            "grid_gap": null,
            "grid_row": null,
            "grid_template_areas": null,
            "grid_template_columns": null,
            "grid_template_rows": null,
            "height": null,
            "justify_content": null,
            "justify_items": null,
            "left": null,
            "margin": null,
            "max_height": null,
            "max_width": null,
            "min_height": null,
            "min_width": null,
            "object_fit": null,
            "object_position": null,
            "order": null,
            "overflow": null,
            "overflow_x": null,
            "overflow_y": null,
            "padding": null,
            "right": null,
            "top": null,
            "visibility": null,
            "width": null
          }
        },
        "5d1c078d2aa34a78a8adb63f20497722": {
          "model_module": "@jupyter-widgets/controls",
          "model_module_version": "1.5.0",
          "model_name": "HTMLModel",
          "state": {
            "_dom_classes": [],
            "_model_module": "@jupyter-widgets/controls",
            "_model_module_version": "1.5.0",
            "_model_name": "HTMLModel",
            "_view_count": null,
            "_view_module": "@jupyter-widgets/controls",
            "_view_module_version": "1.5.0",
            "_view_name": "HTMLView",
            "description": "",
            "description_tooltip": null,
            "layout": "IPY_MODEL_2343a049a1bf4788af9f04c104cf6da4",
            "placeholder": "​",
            "style": "IPY_MODEL_b1578ca99e8548beb46bd96f70c849e0",
            "value": " 163/163 [00:00&lt;00:00, 5.77kB/s]"
          }
        },
        "5e57649473764c75a2e710819cf1ed74": {
          "model_module": "@jupyter-widgets/base",
          "model_module_version": "1.2.0",
          "model_name": "LayoutModel",
          "state": {
            "_model_module": "@jupyter-widgets/base",
            "_model_module_version": "1.2.0",
            "_model_name": "LayoutModel",
            "_view_count": null,
            "_view_module": "@jupyter-widgets/base",
            "_view_module_version": "1.2.0",
            "_view_name": "LayoutView",
            "align_content": null,
            "align_items": null,
            "align_self": null,
            "border": null,
            "bottom": null,
            "display": null,
            "flex": null,
            "flex_flow": null,
            "grid_area": null,
            "grid_auto_columns": null,
            "grid_auto_flow": null,
            "grid_auto_rows": null,
            "grid_column": null,
            "grid_gap": null,
            "grid_row": null,
            "grid_template_areas": null,
            "grid_template_columns": null,
            "grid_template_rows": null,
            "height": null,
            "justify_content": null,
            "justify_items": null,
            "left": null,
            "margin": null,
            "max_height": null,
            "max_width": null,
            "min_height": null,
            "min_width": null,
            "object_fit": null,
            "object_position": null,
            "order": null,
            "overflow": null,
            "overflow_x": null,
            "overflow_y": null,
            "padding": null,
            "right": null,
            "top": null,
            "visibility": null,
            "width": null
          }
        },
        "5f2e2e2293814b16a6281655f10c54a7": {
          "model_module": "@jupyter-widgets/controls",
          "model_module_version": "1.5.0",
          "model_name": "DescriptionStyleModel",
          "state": {
            "_model_module": "@jupyter-widgets/controls",
            "_model_module_version": "1.5.0",
            "_model_name": "DescriptionStyleModel",
            "_view_count": null,
            "_view_module": "@jupyter-widgets/base",
            "_view_module_version": "1.2.0",
            "_view_name": "StyleView",
            "description_width": ""
          }
        },
        "5f5545f79efd4b50b722f6f521e0606b": {
          "model_module": "@jupyter-widgets/controls",
          "model_module_version": "1.5.0",
          "model_name": "ProgressStyleModel",
          "state": {
            "_model_module": "@jupyter-widgets/controls",
            "_model_module_version": "1.5.0",
            "_model_name": "ProgressStyleModel",
            "_view_count": null,
            "_view_module": "@jupyter-widgets/base",
            "_view_module_version": "1.2.0",
            "_view_name": "StyleView",
            "bar_color": null,
            "description_width": ""
          }
        },
        "61ed9382489b446abea11107e4065298": {
          "model_module": "@jupyter-widgets/base",
          "model_module_version": "1.2.0",
          "model_name": "LayoutModel",
          "state": {
            "_model_module": "@jupyter-widgets/base",
            "_model_module_version": "1.2.0",
            "_model_name": "LayoutModel",
            "_view_count": null,
            "_view_module": "@jupyter-widgets/base",
            "_view_module_version": "1.2.0",
            "_view_name": "LayoutView",
            "align_content": null,
            "align_items": null,
            "align_self": null,
            "border": null,
            "bottom": null,
            "display": null,
            "flex": null,
            "flex_flow": null,
            "grid_area": null,
            "grid_auto_columns": null,
            "grid_auto_flow": null,
            "grid_auto_rows": null,
            "grid_column": null,
            "grid_gap": null,
            "grid_row": null,
            "grid_template_areas": null,
            "grid_template_columns": null,
            "grid_template_rows": null,
            "height": null,
            "justify_content": null,
            "justify_items": null,
            "left": null,
            "margin": null,
            "max_height": null,
            "max_width": null,
            "min_height": null,
            "min_width": null,
            "object_fit": null,
            "object_position": null,
            "order": null,
            "overflow": null,
            "overflow_x": null,
            "overflow_y": null,
            "padding": null,
            "right": null,
            "top": null,
            "visibility": null,
            "width": null
          }
        },
        "627e294e99064021b23260db2c31130d": {
          "model_module": "@jupyter-widgets/controls",
          "model_module_version": "1.5.0",
          "model_name": "HBoxModel",
          "state": {
            "_dom_classes": [],
            "_model_module": "@jupyter-widgets/controls",
            "_model_module_version": "1.5.0",
            "_model_name": "HBoxModel",
            "_view_count": null,
            "_view_module": "@jupyter-widgets/controls",
            "_view_module_version": "1.5.0",
            "_view_name": "HBoxView",
            "box_style": "",
            "children": [
              "IPY_MODEL_6e1d4e133a8d486bb8e6329bbfaa5b6a",
              "IPY_MODEL_e6e25b58db674e448ab5cb6c9f598e42",
              "IPY_MODEL_4978bf06887d47e5aa97f00cf952af5e"
            ],
            "layout": "IPY_MODEL_6da7dacbb5a845b7b69ff516cbadb736"
          }
        },
        "637cdf9110494068adeee4611346bbc3": {
          "model_module": "@jupyter-widgets/base",
          "model_module_version": "1.2.0",
          "model_name": "LayoutModel",
          "state": {
            "_model_module": "@jupyter-widgets/base",
            "_model_module_version": "1.2.0",
            "_model_name": "LayoutModel",
            "_view_count": null,
            "_view_module": "@jupyter-widgets/base",
            "_view_module_version": "1.2.0",
            "_view_name": "LayoutView",
            "align_content": null,
            "align_items": null,
            "align_self": null,
            "border": null,
            "bottom": null,
            "display": null,
            "flex": null,
            "flex_flow": null,
            "grid_area": null,
            "grid_auto_columns": null,
            "grid_auto_flow": null,
            "grid_auto_rows": null,
            "grid_column": null,
            "grid_gap": null,
            "grid_row": null,
            "grid_template_areas": null,
            "grid_template_columns": null,
            "grid_template_rows": null,
            "height": null,
            "justify_content": null,
            "justify_items": null,
            "left": null,
            "margin": null,
            "max_height": null,
            "max_width": null,
            "min_height": null,
            "min_width": null,
            "object_fit": null,
            "object_position": null,
            "order": null,
            "overflow": null,
            "overflow_x": null,
            "overflow_y": null,
            "padding": null,
            "right": null,
            "top": null,
            "visibility": null,
            "width": null
          }
        },
        "6614aba95c6e4568a5ee3f35e468ece0": {
          "model_module": "@jupyter-widgets/controls",
          "model_module_version": "1.5.0",
          "model_name": "HTMLModel",
          "state": {
            "_dom_classes": [],
            "_model_module": "@jupyter-widgets/controls",
            "_model_module_version": "1.5.0",
            "_model_name": "HTMLModel",
            "_view_count": null,
            "_view_module": "@jupyter-widgets/controls",
            "_view_module_version": "1.5.0",
            "_view_name": "HTMLView",
            "description": "",
            "description_tooltip": null,
            "layout": "IPY_MODEL_4f8ca56dc44c4ae9b1050421eae58928",
            "placeholder": "​",
            "style": "IPY_MODEL_ba78217fc1cf442cb155183bd6a35c61",
            "value": "generation_config.json: 100%"
          }
        },
        "66e734fe3d3043268346b7886ac51ed3": {
          "model_module": "@jupyter-widgets/controls",
          "model_module_version": "1.5.0",
          "model_name": "DescriptionStyleModel",
          "state": {
            "_model_module": "@jupyter-widgets/controls",
            "_model_module_version": "1.5.0",
            "_model_name": "DescriptionStyleModel",
            "_view_count": null,
            "_view_module": "@jupyter-widgets/base",
            "_view_module_version": "1.2.0",
            "_view_name": "StyleView",
            "description_width": ""
          }
        },
        "6da7dacbb5a845b7b69ff516cbadb736": {
          "model_module": "@jupyter-widgets/base",
          "model_module_version": "1.2.0",
          "model_name": "LayoutModel",
          "state": {
            "_model_module": "@jupyter-widgets/base",
            "_model_module_version": "1.2.0",
            "_model_name": "LayoutModel",
            "_view_count": null,
            "_view_module": "@jupyter-widgets/base",
            "_view_module_version": "1.2.0",
            "_view_name": "LayoutView",
            "align_content": null,
            "align_items": null,
            "align_self": null,
            "border": null,
            "bottom": null,
            "display": null,
            "flex": null,
            "flex_flow": null,
            "grid_area": null,
            "grid_auto_columns": null,
            "grid_auto_flow": null,
            "grid_auto_rows": null,
            "grid_column": null,
            "grid_gap": null,
            "grid_row": null,
            "grid_template_areas": null,
            "grid_template_columns": null,
            "grid_template_rows": null,
            "height": null,
            "justify_content": null,
            "justify_items": null,
            "left": null,
            "margin": null,
            "max_height": null,
            "max_width": null,
            "min_height": null,
            "min_width": null,
            "object_fit": null,
            "object_position": null,
            "order": null,
            "overflow": null,
            "overflow_x": null,
            "overflow_y": null,
            "padding": null,
            "right": null,
            "top": null,
            "visibility": null,
            "width": null
          }
        },
        "6e1d4e133a8d486bb8e6329bbfaa5b6a": {
          "model_module": "@jupyter-widgets/controls",
          "model_module_version": "1.5.0",
          "model_name": "HTMLModel",
          "state": {
            "_dom_classes": [],
            "_model_module": "@jupyter-widgets/controls",
            "_model_module_version": "1.5.0",
            "_model_name": "HTMLModel",
            "_view_count": null,
            "_view_module": "@jupyter-widgets/controls",
            "_view_module_version": "1.5.0",
            "_view_name": "HTMLView",
            "description": "",
            "description_tooltip": null,
            "layout": "IPY_MODEL_2d337c2d74304d44b7a94c8359a9ef06",
            "placeholder": "​",
            "style": "IPY_MODEL_435b018bd4fb494a806148dd17080c6d",
            "value": "model.safetensors: 100%"
          }
        },
        "76cd653ead5247f9ad86f6585e32df0c": {
          "model_module": "@jupyter-widgets/controls",
          "model_module_version": "1.5.0",
          "model_name": "ProgressStyleModel",
          "state": {
            "_model_module": "@jupyter-widgets/controls",
            "_model_module_version": "1.5.0",
            "_model_name": "ProgressStyleModel",
            "_view_count": null,
            "_view_module": "@jupyter-widgets/base",
            "_view_module_version": "1.2.0",
            "_view_name": "StyleView",
            "bar_color": null,
            "description_width": ""
          }
        },
        "7a75a084c8eb450ba4d203e9bdc091bc": {
          "model_module": "@jupyter-widgets/controls",
          "model_module_version": "1.5.0",
          "model_name": "HTMLModel",
          "state": {
            "_dom_classes": [],
            "_model_module": "@jupyter-widgets/controls",
            "_model_module_version": "1.5.0",
            "_model_name": "HTMLModel",
            "_view_count": null,
            "_view_module": "@jupyter-widgets/controls",
            "_view_module_version": "1.5.0",
            "_view_name": "HTMLView",
            "description": "",
            "description_tooltip": null,
            "layout": "IPY_MODEL_48ed228fc9eb48d7a3000fa11ffec0c2",
            "placeholder": "​",
            "style": "IPY_MODEL_937e21267ac6460597be705e2a1aa446",
            "value": " 8.05k/8.05k [00:00&lt;00:00, 273kB/s]"
          }
        },
        "7e34df824e1a4424b940b6dfe3c7a11f": {
          "model_module": "@jupyter-widgets/controls",
          "model_module_version": "1.5.0",
          "model_name": "FloatProgressModel",
          "state": {
            "_dom_classes": [],
            "_model_module": "@jupyter-widgets/controls",
            "_model_module_version": "1.5.0",
            "_model_name": "FloatProgressModel",
            "_view_count": null,
            "_view_module": "@jupyter-widgets/controls",
            "_view_module_version": "1.5.0",
            "_view_name": "ProgressView",
            "bar_style": "success",
            "description": "",
            "description_tooltip": null,
            "layout": "IPY_MODEL_a5223e8c5264454b9341f33665a22de0",
            "max": 940533088,
            "min": 0,
            "orientation": "horizontal",
            "style": "IPY_MODEL_876f1779789e43d6951f15a6a348a8d0",
            "value": 940533088
          }
        },
        "7e3e99a30d194a489c813a75ce6c08a8": {
          "model_module": "@jupyter-widgets/base",
          "model_module_version": "1.2.0",
          "model_name": "LayoutModel",
          "state": {
            "_model_module": "@jupyter-widgets/base",
            "_model_module_version": "1.2.0",
            "_model_name": "LayoutModel",
            "_view_count": null,
            "_view_module": "@jupyter-widgets/base",
            "_view_module_version": "1.2.0",
            "_view_name": "LayoutView",
            "align_content": null,
            "align_items": null,
            "align_self": null,
            "border": null,
            "bottom": null,
            "display": null,
            "flex": null,
            "flex_flow": null,
            "grid_area": null,
            "grid_auto_columns": null,
            "grid_auto_flow": null,
            "grid_auto_rows": null,
            "grid_column": null,
            "grid_gap": null,
            "grid_row": null,
            "grid_template_areas": null,
            "grid_template_columns": null,
            "grid_template_rows": null,
            "height": null,
            "justify_content": null,
            "justify_items": null,
            "left": null,
            "margin": null,
            "max_height": null,
            "max_width": null,
            "min_height": null,
            "min_width": null,
            "object_fit": null,
            "object_position": null,
            "order": null,
            "overflow": null,
            "overflow_x": null,
            "overflow_y": null,
            "padding": null,
            "right": null,
            "top": null,
            "visibility": null,
            "width": null
          }
        },
        "80698aff943949bead2f31846fdd3ff3": {
          "model_module": "@jupyter-widgets/base",
          "model_module_version": "1.2.0",
          "model_name": "LayoutModel",
          "state": {
            "_model_module": "@jupyter-widgets/base",
            "_model_module_version": "1.2.0",
            "_model_name": "LayoutModel",
            "_view_count": null,
            "_view_module": "@jupyter-widgets/base",
            "_view_module_version": "1.2.0",
            "_view_name": "LayoutView",
            "align_content": null,
            "align_items": null,
            "align_self": null,
            "border": null,
            "bottom": null,
            "display": null,
            "flex": null,
            "flex_flow": null,
            "grid_area": null,
            "grid_auto_columns": null,
            "grid_auto_flow": null,
            "grid_auto_rows": null,
            "grid_column": null,
            "grid_gap": null,
            "grid_row": null,
            "grid_template_areas": null,
            "grid_template_columns": null,
            "grid_template_rows": null,
            "height": null,
            "justify_content": null,
            "justify_items": null,
            "left": null,
            "margin": null,
            "max_height": null,
            "max_width": null,
            "min_height": null,
            "min_width": null,
            "object_fit": null,
            "object_position": null,
            "order": null,
            "overflow": null,
            "overflow_x": null,
            "overflow_y": null,
            "padding": null,
            "right": null,
            "top": null,
            "visibility": null,
            "width": null
          }
        },
        "813a73a1e7ac476cb8335bcf35cc45bd": {
          "model_module": "@jupyter-widgets/base",
          "model_module_version": "1.2.0",
          "model_name": "LayoutModel",
          "state": {
            "_model_module": "@jupyter-widgets/base",
            "_model_module_version": "1.2.0",
            "_model_name": "LayoutModel",
            "_view_count": null,
            "_view_module": "@jupyter-widgets/base",
            "_view_module_version": "1.2.0",
            "_view_name": "LayoutView",
            "align_content": null,
            "align_items": null,
            "align_self": null,
            "border": null,
            "bottom": null,
            "display": null,
            "flex": null,
            "flex_flow": null,
            "grid_area": null,
            "grid_auto_columns": null,
            "grid_auto_flow": null,
            "grid_auto_rows": null,
            "grid_column": null,
            "grid_gap": null,
            "grid_row": null,
            "grid_template_areas": null,
            "grid_template_columns": null,
            "grid_template_rows": null,
            "height": null,
            "justify_content": null,
            "justify_items": null,
            "left": null,
            "margin": null,
            "max_height": null,
            "max_width": null,
            "min_height": null,
            "min_width": null,
            "object_fit": null,
            "object_position": null,
            "order": null,
            "overflow": null,
            "overflow_x": null,
            "overflow_y": null,
            "padding": null,
            "right": null,
            "top": null,
            "visibility": null,
            "width": null
          }
        },
        "82aa588a1faa4c2d91408f06f376aa62": {
          "model_module": "@jupyter-widgets/controls",
          "model_module_version": "1.5.0",
          "model_name": "HTMLModel",
          "state": {
            "_dom_classes": [],
            "_model_module": "@jupyter-widgets/controls",
            "_model_module_version": "1.5.0",
            "_model_name": "HTMLModel",
            "_view_count": null,
            "_view_module": "@jupyter-widgets/controls",
            "_view_module_version": "1.5.0",
            "_view_name": "HTMLView",
            "description": "",
            "description_tooltip": null,
            "layout": "IPY_MODEL_80698aff943949bead2f31846fdd3ff3",
            "placeholder": "​",
            "style": "IPY_MODEL_30d1244ba9aa420982f1c7b14468d11c",
            "value": " 5.89k/5.89k [00:00&lt;00:00, 258kB/s]"
          }
        },
        "876f1779789e43d6951f15a6a348a8d0": {
          "model_module": "@jupyter-widgets/controls",
          "model_module_version": "1.5.0",
          "model_name": "ProgressStyleModel",
          "state": {
            "_model_module": "@jupyter-widgets/controls",
            "_model_module_version": "1.5.0",
            "_model_name": "ProgressStyleModel",
            "_view_count": null,
            "_view_module": "@jupyter-widgets/base",
            "_view_module_version": "1.2.0",
            "_view_name": "StyleView",
            "bar_color": null,
            "description_width": ""
          }
        },
        "88e9a03fa54343a5be2ff501eb1ff88f": {
          "model_module": "@jupyter-widgets/controls",
          "model_module_version": "1.5.0",
          "model_name": "ProgressStyleModel",
          "state": {
            "_model_module": "@jupyter-widgets/controls",
            "_model_module_version": "1.5.0",
            "_model_name": "ProgressStyleModel",
            "_view_count": null,
            "_view_module": "@jupyter-widgets/base",
            "_view_module_version": "1.2.0",
            "_view_name": "StyleView",
            "bar_color": null,
            "description_width": ""
          }
        },
        "8ab140dd09c64cdf8cd7138a689c90c1": {
          "model_module": "@jupyter-widgets/controls",
          "model_module_version": "1.5.0",
          "model_name": "HBoxModel",
          "state": {
            "_dom_classes": [],
            "_model_module": "@jupyter-widgets/controls",
            "_model_module_version": "1.5.0",
            "_model_name": "HBoxModel",
            "_view_count": null,
            "_view_module": "@jupyter-widgets/controls",
            "_view_module_version": "1.5.0",
            "_view_name": "HBoxView",
            "box_style": "",
            "children": [
              "IPY_MODEL_1dbe60801bad4056958f479279edfe10",
              "IPY_MODEL_1d532c6dcb494f7b9f4a899c87e96ee9",
              "IPY_MODEL_d1f0b47fce9c4884af0112ad61f70bb8"
            ],
            "layout": "IPY_MODEL_19c5af7c8db442b9bfb8ae37ef16e49d"
          }
        },
        "8af3fd6021ac42208d7ba20b0eebab2f": {
          "model_module": "@jupyter-widgets/base",
          "model_module_version": "1.2.0",
          "model_name": "LayoutModel",
          "state": {
            "_model_module": "@jupyter-widgets/base",
            "_model_module_version": "1.2.0",
            "_model_name": "LayoutModel",
            "_view_count": null,
            "_view_module": "@jupyter-widgets/base",
            "_view_module_version": "1.2.0",
            "_view_name": "LayoutView",
            "align_content": null,
            "align_items": null,
            "align_self": null,
            "border": null,
            "bottom": null,
            "display": null,
            "flex": null,
            "flex_flow": null,
            "grid_area": null,
            "grid_auto_columns": null,
            "grid_auto_flow": null,
            "grid_auto_rows": null,
            "grid_column": null,
            "grid_gap": null,
            "grid_row": null,
            "grid_template_areas": null,
            "grid_template_columns": null,
            "grid_template_rows": null,
            "height": null,
            "justify_content": null,
            "justify_items": null,
            "left": null,
            "margin": null,
            "max_height": null,
            "max_width": null,
            "min_height": null,
            "min_width": null,
            "object_fit": null,
            "object_position": null,
            "order": null,
            "overflow": null,
            "overflow_x": null,
            "overflow_y": null,
            "padding": null,
            "right": null,
            "top": null,
            "visibility": null,
            "width": null
          }
        },
        "8c4e6ad2014045dda1d666ccd35e2e61": {
          "model_module": "@jupyter-widgets/controls",
          "model_module_version": "1.5.0",
          "model_name": "DescriptionStyleModel",
          "state": {
            "_model_module": "@jupyter-widgets/controls",
            "_model_module_version": "1.5.0",
            "_model_name": "DescriptionStyleModel",
            "_view_count": null,
            "_view_module": "@jupyter-widgets/base",
            "_view_module_version": "1.2.0",
            "_view_name": "StyleView",
            "description_width": ""
          }
        },
        "8c91a00d531643ed85913f20a72afbed": {
          "model_module": "@jupyter-widgets/controls",
          "model_module_version": "1.5.0",
          "model_name": "HBoxModel",
          "state": {
            "_dom_classes": [],
            "_model_module": "@jupyter-widgets/controls",
            "_model_module_version": "1.5.0",
            "_model_name": "HBoxModel",
            "_view_count": null,
            "_view_module": "@jupyter-widgets/controls",
            "_view_module_version": "1.5.0",
            "_view_name": "HBoxView",
            "box_style": "",
            "children": [
              "IPY_MODEL_af35268c235d4d4aa574bbccf209f849",
              "IPY_MODEL_1c833db1917342afa6957b078a48622d",
              "IPY_MODEL_7a75a084c8eb450ba4d203e9bdc091bc"
            ],
            "layout": "IPY_MODEL_bde796dfe98a446096e22246eb3448ac"
          }
        },
        "937e21267ac6460597be705e2a1aa446": {
          "model_module": "@jupyter-widgets/controls",
          "model_module_version": "1.5.0",
          "model_name": "DescriptionStyleModel",
          "state": {
            "_model_module": "@jupyter-widgets/controls",
            "_model_module_version": "1.5.0",
            "_model_name": "DescriptionStyleModel",
            "_view_count": null,
            "_view_module": "@jupyter-widgets/base",
            "_view_module_version": "1.2.0",
            "_view_name": "StyleView",
            "description_width": ""
          }
        },
        "93f01b4e3fce458786993a072ad5d20e": {
          "model_module": "@jupyter-widgets/controls",
          "model_module_version": "1.5.0",
          "model_name": "ProgressStyleModel",
          "state": {
            "_model_module": "@jupyter-widgets/controls",
            "_model_module_version": "1.5.0",
            "_model_name": "ProgressStyleModel",
            "_view_count": null,
            "_view_module": "@jupyter-widgets/base",
            "_view_module_version": "1.2.0",
            "_view_name": "StyleView",
            "bar_color": null,
            "description_width": ""
          }
        },
        "95657d7194544deab6c0dd80de45eaa4": {
          "model_module": "@jupyter-widgets/controls",
          "model_module_version": "1.5.0",
          "model_name": "HTMLModel",
          "state": {
            "_dom_classes": [],
            "_model_module": "@jupyter-widgets/controls",
            "_model_module_version": "1.5.0",
            "_model_name": "HTMLModel",
            "_view_count": null,
            "_view_module": "@jupyter-widgets/controls",
            "_view_module_version": "1.5.0",
            "_view_name": "HTMLView",
            "description": "",
            "description_tooltip": null,
            "layout": "IPY_MODEL_480de01dd8e14632a62b31f5003bc32c",
            "placeholder": "​",
            "style": "IPY_MODEL_a50f51424f194b2182b13b0559cf26c8",
            "value": " 556/556 [00:00&lt;00:00, 11.8kB/s]"
          }
        },
        "97e627b8ff6f42af89a7d3d5b3383bf3": {
          "model_module": "@jupyter-widgets/controls",
          "model_module_version": "1.5.0",
          "model_name": "HBoxModel",
          "state": {
            "_dom_classes": [],
            "_model_module": "@jupyter-widgets/controls",
            "_model_module_version": "1.5.0",
            "_model_name": "HBoxModel",
            "_view_count": null,
            "_view_module": "@jupyter-widgets/controls",
            "_view_module_version": "1.5.0",
            "_view_name": "HBoxView",
            "box_style": "",
            "children": [
              "IPY_MODEL_9e2a96f3981c4861b99fdef198a11186",
              "IPY_MODEL_9fcaf6d924514964b69f2df3c39bef15",
              "IPY_MODEL_f8414c9410054bf6af8f770944a53b24"
            ],
            "layout": "IPY_MODEL_46a977a6d6274ee8af1f7eaa34e19ff2"
          }
        },
        "9837ea6e10c34a9ca6eef614147f447b": {
          "model_module": "@jupyter-widgets/controls",
          "model_module_version": "1.5.0",
          "model_name": "FloatProgressModel",
          "state": {
            "_dom_classes": [],
            "_model_module": "@jupyter-widgets/controls",
            "_model_module_version": "1.5.0",
            "_model_name": "FloatProgressModel",
            "_view_count": null,
            "_view_module": "@jupyter-widgets/controls",
            "_view_module_version": "1.5.0",
            "_view_name": "ProgressView",
            "bar_style": "success",
            "description": "",
            "description_tooltip": null,
            "layout": "IPY_MODEL_27cd31e7378b47408aa9cfd43539eac6",
            "max": 478574108,
            "min": 0,
            "orientation": "horizontal",
            "style": "IPY_MODEL_b1fa2ca0cdd14e1db5e6fbf240a22039",
            "value": 478574108
          }
        },
        "9c69c0fb11954a7d90d98e70aa170d6b": {
          "model_module": "@jupyter-widgets/base",
          "model_module_version": "1.2.0",
          "model_name": "LayoutModel",
          "state": {
            "_model_module": "@jupyter-widgets/base",
            "_model_module_version": "1.2.0",
            "_model_name": "LayoutModel",
            "_view_count": null,
            "_view_module": "@jupyter-widgets/base",
            "_view_module_version": "1.2.0",
            "_view_name": "LayoutView",
            "align_content": null,
            "align_items": null,
            "align_self": null,
            "border": null,
            "bottom": null,
            "display": null,
            "flex": null,
            "flex_flow": null,
            "grid_area": null,
            "grid_auto_columns": null,
            "grid_auto_flow": null,
            "grid_auto_rows": null,
            "grid_column": null,
            "grid_gap": null,
            "grid_row": null,
            "grid_template_areas": null,
            "grid_template_columns": null,
            "grid_template_rows": null,
            "height": null,
            "justify_content": null,
            "justify_items": null,
            "left": null,
            "margin": null,
            "max_height": null,
            "max_width": null,
            "min_height": null,
            "min_width": null,
            "object_fit": null,
            "object_position": null,
            "order": null,
            "overflow": null,
            "overflow_x": null,
            "overflow_y": null,
            "padding": null,
            "right": null,
            "top": null,
            "visibility": null,
            "width": null
          }
        },
        "9e2a96f3981c4861b99fdef198a11186": {
          "model_module": "@jupyter-widgets/controls",
          "model_module_version": "1.5.0",
          "model_name": "HTMLModel",
          "state": {
            "_dom_classes": [],
            "_model_module": "@jupyter-widgets/controls",
            "_model_module_version": "1.5.0",
            "_model_name": "HTMLModel",
            "_view_count": null,
            "_view_module": "@jupyter-widgets/controls",
            "_view_module_version": "1.5.0",
            "_view_name": "HTMLView",
            "description": "",
            "description_tooltip": null,
            "layout": "IPY_MODEL_bc232eac50444242bda03dc667e22f97",
            "placeholder": "​",
            "style": "IPY_MODEL_a79fd8b86c1d488fbfe2c1c781f968d7",
            "value": "config.json: 100%"
          }
        },
        "9fcaf6d924514964b69f2df3c39bef15": {
          "model_module": "@jupyter-widgets/controls",
          "model_module_version": "1.5.0",
          "model_name": "FloatProgressModel",
          "state": {
            "_dom_classes": [],
            "_model_module": "@jupyter-widgets/controls",
            "_model_module_version": "1.5.0",
            "_model_name": "FloatProgressModel",
            "_view_count": null,
            "_view_module": "@jupyter-widgets/controls",
            "_view_module_version": "1.5.0",
            "_view_name": "ProgressView",
            "bar_style": "success",
            "description": "",
            "description_tooltip": null,
            "layout": "IPY_MODEL_5c543c279ed54ef09c66ced713aa45e1",
            "max": 8232,
            "min": 0,
            "orientation": "horizontal",
            "style": "IPY_MODEL_5f5545f79efd4b50b722f6f521e0606b",
            "value": 8232
          }
        },
        "a50f51424f194b2182b13b0559cf26c8": {
          "model_module": "@jupyter-widgets/controls",
          "model_module_version": "1.5.0",
          "model_name": "DescriptionStyleModel",
          "state": {
            "_model_module": "@jupyter-widgets/controls",
            "_model_module_version": "1.5.0",
            "_model_name": "DescriptionStyleModel",
            "_view_count": null,
            "_view_module": "@jupyter-widgets/base",
            "_view_module_version": "1.2.0",
            "_view_name": "StyleView",
            "description_width": ""
          }
        },
        "a5223e8c5264454b9341f33665a22de0": {
          "model_module": "@jupyter-widgets/base",
          "model_module_version": "1.2.0",
          "model_name": "LayoutModel",
          "state": {
            "_model_module": "@jupyter-widgets/base",
            "_model_module_version": "1.2.0",
            "_model_name": "LayoutModel",
            "_view_count": null,
            "_view_module": "@jupyter-widgets/base",
            "_view_module_version": "1.2.0",
            "_view_name": "LayoutView",
            "align_content": null,
            "align_items": null,
            "align_self": null,
            "border": null,
            "bottom": null,
            "display": null,
            "flex": null,
            "flex_flow": null,
            "grid_area": null,
            "grid_auto_columns": null,
            "grid_auto_flow": null,
            "grid_auto_rows": null,
            "grid_column": null,
            "grid_gap": null,
            "grid_row": null,
            "grid_template_areas": null,
            "grid_template_columns": null,
            "grid_template_rows": null,
            "height": null,
            "justify_content": null,
            "justify_items": null,
            "left": null,
            "margin": null,
            "max_height": null,
            "max_width": null,
            "min_height": null,
            "min_width": null,
            "object_fit": null,
            "object_position": null,
            "order": null,
            "overflow": null,
            "overflow_x": null,
            "overflow_y": null,
            "padding": null,
            "right": null,
            "top": null,
            "visibility": null,
            "width": null
          }
        },
        "a730ff3c77d64876833bed15f8a00043": {
          "model_module": "@jupyter-widgets/base",
          "model_module_version": "1.2.0",
          "model_name": "LayoutModel",
          "state": {
            "_model_module": "@jupyter-widgets/base",
            "_model_module_version": "1.2.0",
            "_model_name": "LayoutModel",
            "_view_count": null,
            "_view_module": "@jupyter-widgets/base",
            "_view_module_version": "1.2.0",
            "_view_name": "LayoutView",
            "align_content": null,
            "align_items": null,
            "align_self": null,
            "border": null,
            "bottom": null,
            "display": null,
            "flex": null,
            "flex_flow": null,
            "grid_area": null,
            "grid_auto_columns": null,
            "grid_auto_flow": null,
            "grid_auto_rows": null,
            "grid_column": null,
            "grid_gap": null,
            "grid_row": null,
            "grid_template_areas": null,
            "grid_template_columns": null,
            "grid_template_rows": null,
            "height": null,
            "justify_content": null,
            "justify_items": null,
            "left": null,
            "margin": null,
            "max_height": null,
            "max_width": null,
            "min_height": null,
            "min_width": null,
            "object_fit": null,
            "object_position": null,
            "order": null,
            "overflow": null,
            "overflow_x": null,
            "overflow_y": null,
            "padding": null,
            "right": null,
            "top": null,
            "visibility": null,
            "width": null
          }
        },
        "a79fd8b86c1d488fbfe2c1c781f968d7": {
          "model_module": "@jupyter-widgets/controls",
          "model_module_version": "1.5.0",
          "model_name": "DescriptionStyleModel",
          "state": {
            "_model_module": "@jupyter-widgets/controls",
            "_model_module_version": "1.5.0",
            "_model_name": "DescriptionStyleModel",
            "_view_count": null,
            "_view_module": "@jupyter-widgets/base",
            "_view_module_version": "1.2.0",
            "_view_name": "StyleView",
            "description_width": ""
          }
        },
        "abd1e0918b1f4f619a8db2edb351fe95": {
          "model_module": "@jupyter-widgets/base",
          "model_module_version": "1.2.0",
          "model_name": "LayoutModel",
          "state": {
            "_model_module": "@jupyter-widgets/base",
            "_model_module_version": "1.2.0",
            "_model_name": "LayoutModel",
            "_view_count": null,
            "_view_module": "@jupyter-widgets/base",
            "_view_module_version": "1.2.0",
            "_view_name": "LayoutView",
            "align_content": null,
            "align_items": null,
            "align_self": null,
            "border": null,
            "bottom": null,
            "display": null,
            "flex": null,
            "flex_flow": null,
            "grid_area": null,
            "grid_auto_columns": null,
            "grid_auto_flow": null,
            "grid_auto_rows": null,
            "grid_column": null,
            "grid_gap": null,
            "grid_row": null,
            "grid_template_areas": null,
            "grid_template_columns": null,
            "grid_template_rows": null,
            "height": null,
            "justify_content": null,
            "justify_items": null,
            "left": null,
            "margin": null,
            "max_height": null,
            "max_width": null,
            "min_height": null,
            "min_width": null,
            "object_fit": null,
            "object_position": null,
            "order": null,
            "overflow": null,
            "overflow_x": null,
            "overflow_y": null,
            "padding": null,
            "right": null,
            "top": null,
            "visibility": null,
            "width": null
          }
        },
        "af302c573187403280d9e29b83996322": {
          "model_module": "@jupyter-widgets/base",
          "model_module_version": "1.2.0",
          "model_name": "LayoutModel",
          "state": {
            "_model_module": "@jupyter-widgets/base",
            "_model_module_version": "1.2.0",
            "_model_name": "LayoutModel",
            "_view_count": null,
            "_view_module": "@jupyter-widgets/base",
            "_view_module_version": "1.2.0",
            "_view_name": "LayoutView",
            "align_content": null,
            "align_items": null,
            "align_self": null,
            "border": null,
            "bottom": null,
            "display": null,
            "flex": null,
            "flex_flow": null,
            "grid_area": null,
            "grid_auto_columns": null,
            "grid_auto_flow": null,
            "grid_auto_rows": null,
            "grid_column": null,
            "grid_gap": null,
            "grid_row": null,
            "grid_template_areas": null,
            "grid_template_columns": null,
            "grid_template_rows": null,
            "height": null,
            "justify_content": null,
            "justify_items": null,
            "left": null,
            "margin": null,
            "max_height": null,
            "max_width": null,
            "min_height": null,
            "min_width": null,
            "object_fit": null,
            "object_position": null,
            "order": null,
            "overflow": null,
            "overflow_x": null,
            "overflow_y": null,
            "padding": null,
            "right": null,
            "top": null,
            "visibility": null,
            "width": null
          }
        },
        "af35268c235d4d4aa574bbccf209f849": {
          "model_module": "@jupyter-widgets/controls",
          "model_module_version": "1.5.0",
          "model_name": "HTMLModel",
          "state": {
            "_dom_classes": [],
            "_model_module": "@jupyter-widgets/controls",
            "_model_module_version": "1.5.0",
            "_model_name": "HTMLModel",
            "_view_count": null,
            "_view_module": "@jupyter-widgets/controls",
            "_view_module_version": "1.5.0",
            "_view_name": "HTMLView",
            "description": "",
            "description_tooltip": null,
            "layout": "IPY_MODEL_ed491facab92481da4d052c42b5f3eda",
            "placeholder": "​",
            "style": "IPY_MODEL_8c4e6ad2014045dda1d666ccd35e2e61",
            "value": "config.json: 100%"
          }
        },
        "b0a1bf3c800b4066bdb72d4f5bc0fd06": {
          "model_module": "@jupyter-widgets/controls",
          "model_module_version": "1.5.0",
          "model_name": "FloatProgressModel",
          "state": {
            "_dom_classes": [],
            "_model_module": "@jupyter-widgets/controls",
            "_model_module_version": "1.5.0",
            "_model_name": "FloatProgressModel",
            "_view_count": null,
            "_view_module": "@jupyter-widgets/controls",
            "_view_module_version": "1.5.0",
            "_view_name": "ProgressView",
            "bar_style": "success",
            "description": "",
            "description_tooltip": null,
            "layout": "IPY_MODEL_b73ab6d538b94ac39ca21a13a12c0e64",
            "max": 163,
            "min": 0,
            "orientation": "horizontal",
            "style": "IPY_MODEL_b191b45fc76746bc92fddd8aa8e6d14a",
            "value": 163
          }
        },
        "b1578ca99e8548beb46bd96f70c849e0": {
          "model_module": "@jupyter-widgets/controls",
          "model_module_version": "1.5.0",
          "model_name": "DescriptionStyleModel",
          "state": {
            "_model_module": "@jupyter-widgets/controls",
            "_model_module_version": "1.5.0",
            "_model_name": "DescriptionStyleModel",
            "_view_count": null,
            "_view_module": "@jupyter-widgets/base",
            "_view_module_version": "1.2.0",
            "_view_name": "StyleView",
            "description_width": ""
          }
        },
        "b191b45fc76746bc92fddd8aa8e6d14a": {
          "model_module": "@jupyter-widgets/controls",
          "model_module_version": "1.5.0",
          "model_name": "ProgressStyleModel",
          "state": {
            "_model_module": "@jupyter-widgets/controls",
            "_model_module_version": "1.5.0",
            "_model_name": "ProgressStyleModel",
            "_view_count": null,
            "_view_module": "@jupyter-widgets/base",
            "_view_module_version": "1.2.0",
            "_view_name": "StyleView",
            "bar_color": null,
            "description_width": ""
          }
        },
        "b1fa2ca0cdd14e1db5e6fbf240a22039": {
          "model_module": "@jupyter-widgets/controls",
          "model_module_version": "1.5.0",
          "model_name": "ProgressStyleModel",
          "state": {
            "_model_module": "@jupyter-widgets/controls",
            "_model_module_version": "1.5.0",
            "_model_name": "ProgressStyleModel",
            "_view_count": null,
            "_view_module": "@jupyter-widgets/base",
            "_view_module_version": "1.2.0",
            "_view_name": "StyleView",
            "bar_color": null,
            "description_width": ""
          }
        },
        "b47a9890ed764bd1b4f064a0dfa1e3a8": {
          "model_module": "@jupyter-widgets/controls",
          "model_module_version": "1.5.0",
          "model_name": "FloatProgressModel",
          "state": {
            "_dom_classes": [],
            "_model_module": "@jupyter-widgets/controls",
            "_model_module_version": "1.5.0",
            "_model_name": "FloatProgressModel",
            "_view_count": null,
            "_view_module": "@jupyter-widgets/controls",
            "_view_module_version": "1.5.0",
            "_view_name": "ProgressView",
            "bar_style": "success",
            "description": "",
            "description_tooltip": null,
            "layout": "IPY_MODEL_3c808f91c6e243298a28fa76a88c07d7",
            "max": 5890,
            "min": 0,
            "orientation": "horizontal",
            "style": "IPY_MODEL_0d002ff04cf342d18552fccaa23eff80",
            "value": 5890
          }
        },
        "b73ab6d538b94ac39ca21a13a12c0e64": {
          "model_module": "@jupyter-widgets/base",
          "model_module_version": "1.2.0",
          "model_name": "LayoutModel",
          "state": {
            "_model_module": "@jupyter-widgets/base",
            "_model_module_version": "1.2.0",
            "_model_name": "LayoutModel",
            "_view_count": null,
            "_view_module": "@jupyter-widgets/base",
            "_view_module_version": "1.2.0",
            "_view_name": "LayoutView",
            "align_content": null,
            "align_items": null,
            "align_self": null,
            "border": null,
            "bottom": null,
            "display": null,
            "flex": null,
            "flex_flow": null,
            "grid_area": null,
            "grid_auto_columns": null,
            "grid_auto_flow": null,
            "grid_auto_rows": null,
            "grid_column": null,
            "grid_gap": null,
            "grid_row": null,
            "grid_template_areas": null,
            "grid_template_columns": null,
            "grid_template_rows": null,
            "height": null,
            "justify_content": null,
            "justify_items": null,
            "left": null,
            "margin": null,
            "max_height": null,
            "max_width": null,
            "min_height": null,
            "min_width": null,
            "object_fit": null,
            "object_position": null,
            "order": null,
            "overflow": null,
            "overflow_x": null,
            "overflow_y": null,
            "padding": null,
            "right": null,
            "top": null,
            "visibility": null,
            "width": null
          }
        },
        "ba78217fc1cf442cb155183bd6a35c61": {
          "model_module": "@jupyter-widgets/controls",
          "model_module_version": "1.5.0",
          "model_name": "DescriptionStyleModel",
          "state": {
            "_model_module": "@jupyter-widgets/controls",
            "_model_module_version": "1.5.0",
            "_model_name": "DescriptionStyleModel",
            "_view_count": null,
            "_view_module": "@jupyter-widgets/base",
            "_view_module_version": "1.2.0",
            "_view_name": "StyleView",
            "description_width": ""
          }
        },
        "bbada598b39a4029b4bd2dcb076a03a3": {
          "model_module": "@jupyter-widgets/controls",
          "model_module_version": "1.5.0",
          "model_name": "HBoxModel",
          "state": {
            "_dom_classes": [],
            "_model_module": "@jupyter-widgets/controls",
            "_model_module_version": "1.5.0",
            "_model_name": "HBoxModel",
            "_view_count": null,
            "_view_module": "@jupyter-widgets/controls",
            "_view_module_version": "1.5.0",
            "_view_name": "HBoxView",
            "box_style": "",
            "children": [
              "IPY_MODEL_cc8de97a161e49439fd550875c244a12",
              "IPY_MODEL_b47a9890ed764bd1b4f064a0dfa1e3a8",
              "IPY_MODEL_82aa588a1faa4c2d91408f06f376aa62"
            ],
            "layout": "IPY_MODEL_03bbc577727f419795985625df41c0ec"
          }
        },
        "bc232eac50444242bda03dc667e22f97": {
          "model_module": "@jupyter-widgets/base",
          "model_module_version": "1.2.0",
          "model_name": "LayoutModel",
          "state": {
            "_model_module": "@jupyter-widgets/base",
            "_model_module_version": "1.2.0",
            "_model_name": "LayoutModel",
            "_view_count": null,
            "_view_module": "@jupyter-widgets/base",
            "_view_module_version": "1.2.0",
            "_view_name": "LayoutView",
            "align_content": null,
            "align_items": null,
            "align_self": null,
            "border": null,
            "bottom": null,
            "display": null,
            "flex": null,
            "flex_flow": null,
            "grid_area": null,
            "grid_auto_columns": null,
            "grid_auto_flow": null,
            "grid_auto_rows": null,
            "grid_column": null,
            "grid_gap": null,
            "grid_row": null,
            "grid_template_areas": null,
            "grid_template_columns": null,
            "grid_template_rows": null,
            "height": null,
            "justify_content": null,
            "justify_items": null,
            "left": null,
            "margin": null,
            "max_height": null,
            "max_width": null,
            "min_height": null,
            "min_width": null,
            "object_fit": null,
            "object_position": null,
            "order": null,
            "overflow": null,
            "overflow_x": null,
            "overflow_y": null,
            "padding": null,
            "right": null,
            "top": null,
            "visibility": null,
            "width": null
          }
        },
        "bde796dfe98a446096e22246eb3448ac": {
          "model_module": "@jupyter-widgets/base",
          "model_module_version": "1.2.0",
          "model_name": "LayoutModel",
          "state": {
            "_model_module": "@jupyter-widgets/base",
            "_model_module_version": "1.2.0",
            "_model_name": "LayoutModel",
            "_view_count": null,
            "_view_module": "@jupyter-widgets/base",
            "_view_module_version": "1.2.0",
            "_view_name": "LayoutView",
            "align_content": null,
            "align_items": null,
            "align_self": null,
            "border": null,
            "bottom": null,
            "display": null,
            "flex": null,
            "flex_flow": null,
            "grid_area": null,
            "grid_auto_columns": null,
            "grid_auto_flow": null,
            "grid_auto_rows": null,
            "grid_column": null,
            "grid_gap": null,
            "grid_row": null,
            "grid_template_areas": null,
            "grid_template_columns": null,
            "grid_template_rows": null,
            "height": null,
            "justify_content": null,
            "justify_items": null,
            "left": null,
            "margin": null,
            "max_height": null,
            "max_width": null,
            "min_height": null,
            "min_width": null,
            "object_fit": null,
            "object_position": null,
            "order": null,
            "overflow": null,
            "overflow_x": null,
            "overflow_y": null,
            "padding": null,
            "right": null,
            "top": null,
            "visibility": null,
            "width": null
          }
        },
        "be186d466b7e431a8896b6e68f2d920f": {
          "model_module": "@jupyter-widgets/controls",
          "model_module_version": "1.5.0",
          "model_name": "FloatProgressModel",
          "state": {
            "_dom_classes": [],
            "_model_module": "@jupyter-widgets/controls",
            "_model_module_version": "1.5.0",
            "_model_name": "FloatProgressModel",
            "_view_count": null,
            "_view_module": "@jupyter-widgets/controls",
            "_view_module_version": "1.5.0",
            "_view_name": "ProgressView",
            "bar_style": "success",
            "description": "",
            "description_tooltip": null,
            "layout": "IPY_MODEL_af302c573187403280d9e29b83996322",
            "max": 811,
            "min": 0,
            "orientation": "horizontal",
            "style": "IPY_MODEL_f3e79a7539c14ba181efcc57fa8d1df0",
            "value": 811
          }
        },
        "bf8be3882d6a4dd3b04b749754877bc5": {
          "model_module": "@jupyter-widgets/controls",
          "model_module_version": "1.5.0",
          "model_name": "DescriptionStyleModel",
          "state": {
            "_model_module": "@jupyter-widgets/controls",
            "_model_module_version": "1.5.0",
            "_model_name": "DescriptionStyleModel",
            "_view_count": null,
            "_view_module": "@jupyter-widgets/base",
            "_view_module_version": "1.2.0",
            "_view_name": "StyleView",
            "description_width": ""
          }
        },
        "c44918252db14a89b504874b1e036191": {
          "model_module": "@jupyter-widgets/controls",
          "model_module_version": "1.5.0",
          "model_name": "ProgressStyleModel",
          "state": {
            "_model_module": "@jupyter-widgets/controls",
            "_model_module_version": "1.5.0",
            "_model_name": "ProgressStyleModel",
            "_view_count": null,
            "_view_module": "@jupyter-widgets/base",
            "_view_module_version": "1.2.0",
            "_view_name": "StyleView",
            "bar_color": null,
            "description_width": ""
          }
        },
        "cc8de97a161e49439fd550875c244a12": {
          "model_module": "@jupyter-widgets/controls",
          "model_module_version": "1.5.0",
          "model_name": "HTMLModel",
          "state": {
            "_dom_classes": [],
            "_model_module": "@jupyter-widgets/controls",
            "_model_module_version": "1.5.0",
            "_model_name": "HTMLModel",
            "_view_count": null,
            "_view_module": "@jupyter-widgets/controls",
            "_view_module_version": "1.5.0",
            "_view_name": "HTMLView",
            "description": "",
            "description_tooltip": null,
            "layout": "IPY_MODEL_1d93157e6c6d422690f3786cbc8dad73",
            "placeholder": "​",
            "style": "IPY_MODEL_4be8fb74243441e284ab925ef544a995",
            "value": "config.json: 100%"
          }
        },
        "d1f0b47fce9c4884af0112ad61f70bb8": {
          "model_module": "@jupyter-widgets/controls",
          "model_module_version": "1.5.0",
          "model_name": "HTMLModel",
          "state": {
            "_dom_classes": [],
            "_model_module": "@jupyter-widgets/controls",
            "_model_module_version": "1.5.0",
            "_model_name": "HTMLModel",
            "_view_count": null,
            "_view_module": "@jupyter-widgets/controls",
            "_view_module_version": "1.5.0",
            "_view_name": "HTMLView",
            "description": "",
            "description_tooltip": null,
            "layout": "IPY_MODEL_16413bc58d7e442f86b8cb3cb8eb215b",
            "placeholder": "​",
            "style": "IPY_MODEL_d62b820eccdf4419b56cbabcde9f321e",
            "value": " 675/675 [00:00&lt;00:00, 14.9kB/s]"
          }
        },
        "d62b820eccdf4419b56cbabcde9f321e": {
          "model_module": "@jupyter-widgets/controls",
          "model_module_version": "1.5.0",
          "model_name": "DescriptionStyleModel",
          "state": {
            "_model_module": "@jupyter-widgets/controls",
            "_model_module_version": "1.5.0",
            "_model_name": "DescriptionStyleModel",
            "_view_count": null,
            "_view_module": "@jupyter-widgets/base",
            "_view_module_version": "1.2.0",
            "_view_name": "StyleView",
            "description_width": ""
          }
        },
        "d6a212934d564cec9516d4c1495479bf": {
          "model_module": "@jupyter-widgets/base",
          "model_module_version": "1.2.0",
          "model_name": "LayoutModel",
          "state": {
            "_model_module": "@jupyter-widgets/base",
            "_model_module_version": "1.2.0",
            "_model_name": "LayoutModel",
            "_view_count": null,
            "_view_module": "@jupyter-widgets/base",
            "_view_module_version": "1.2.0",
            "_view_name": "LayoutView",
            "align_content": null,
            "align_items": null,
            "align_self": null,
            "border": null,
            "bottom": null,
            "display": null,
            "flex": null,
            "flex_flow": null,
            "grid_area": null,
            "grid_auto_columns": null,
            "grid_auto_flow": null,
            "grid_auto_rows": null,
            "grid_column": null,
            "grid_gap": null,
            "grid_row": null,
            "grid_template_areas": null,
            "grid_template_columns": null,
            "grid_template_rows": null,
            "height": null,
            "justify_content": null,
            "justify_items": null,
            "left": null,
            "margin": null,
            "max_height": null,
            "max_width": null,
            "min_height": null,
            "min_width": null,
            "object_fit": null,
            "object_position": null,
            "order": null,
            "overflow": null,
            "overflow_x": null,
            "overflow_y": null,
            "padding": null,
            "right": null,
            "top": null,
            "visibility": null,
            "width": null
          }
        },
        "db8933ccddfc4b5f98cdf5ae93497422": {
          "model_module": "@jupyter-widgets/controls",
          "model_module_version": "1.5.0",
          "model_name": "FloatProgressModel",
          "state": {
            "_dom_classes": [],
            "_model_module": "@jupyter-widgets/controls",
            "_model_module_version": "1.5.0",
            "_model_name": "FloatProgressModel",
            "_view_count": null,
            "_view_module": "@jupyter-widgets/controls",
            "_view_module_version": "1.5.0",
            "_view_name": "ProgressView",
            "bar_style": "success",
            "description": "",
            "description_tooltip": null,
            "layout": "IPY_MODEL_4aea07c00cf946bd97643fe7040c80d9",
            "max": 397009152,
            "min": 0,
            "orientation": "horizontal",
            "style": "IPY_MODEL_3715fdac602f468493581b8b95047fc7",
            "value": 397009152
          }
        },
        "dc39b3b48b6b49e2b5f15ca54d30913d": {
          "model_module": "@jupyter-widgets/controls",
          "model_module_version": "1.5.0",
          "model_name": "HBoxModel",
          "state": {
            "_dom_classes": [],
            "_model_module": "@jupyter-widgets/controls",
            "_model_module_version": "1.5.0",
            "_model_name": "HBoxModel",
            "_view_count": null,
            "_view_module": "@jupyter-widgets/controls",
            "_view_module_version": "1.5.0",
            "_view_name": "HBoxView",
            "box_style": "",
            "children": [
              "IPY_MODEL_29eaf2bc76cf41928291dc271ead3ee2",
              "IPY_MODEL_1e1ac75b3ba94f49815ed19391b4fba9",
              "IPY_MODEL_95657d7194544deab6c0dd80de45eaa4"
            ],
            "layout": "IPY_MODEL_a730ff3c77d64876833bed15f8a00043"
          }
        },
        "ddb9c22dad3447828cf4ce6515caf3ef": {
          "model_module": "@jupyter-widgets/controls",
          "model_module_version": "1.5.0",
          "model_name": "DescriptionStyleModel",
          "state": {
            "_model_module": "@jupyter-widgets/controls",
            "_model_module_version": "1.5.0",
            "_model_name": "DescriptionStyleModel",
            "_view_count": null,
            "_view_module": "@jupyter-widgets/base",
            "_view_module_version": "1.2.0",
            "_view_name": "StyleView",
            "description_width": ""
          }
        },
        "e317b930276e43e99094807d05145455": {
          "model_module": "@jupyter-widgets/controls",
          "model_module_version": "1.5.0",
          "model_name": "HTMLModel",
          "state": {
            "_dom_classes": [],
            "_model_module": "@jupyter-widgets/controls",
            "_model_module_version": "1.5.0",
            "_model_name": "HTMLModel",
            "_view_count": null,
            "_view_module": "@jupyter-widgets/controls",
            "_view_module_version": "1.5.0",
            "_view_name": "HTMLView",
            "description": "",
            "description_tooltip": null,
            "layout": "IPY_MODEL_7e3e99a30d194a489c813a75ce6c08a8",
            "placeholder": "​",
            "style": "IPY_MODEL_13b9e79ed3844b0a8460fd10647d0867",
            "value": "model.safetensors: 100%"
          }
        },
        "e33294cf5d334df397da061454e3adbb": {
          "model_module": "@jupyter-widgets/controls",
          "model_module_version": "1.5.0",
          "model_name": "DescriptionStyleModel",
          "state": {
            "_model_module": "@jupyter-widgets/controls",
            "_model_module_version": "1.5.0",
            "_model_name": "DescriptionStyleModel",
            "_view_count": null,
            "_view_module": "@jupyter-widgets/base",
            "_view_module_version": "1.2.0",
            "_view_name": "StyleView",
            "description_width": ""
          }
        },
        "e69c50f1ce684c4abda57471be3f3ac3": {
          "model_module": "@jupyter-widgets/controls",
          "model_module_version": "1.5.0",
          "model_name": "HTMLModel",
          "state": {
            "_dom_classes": [],
            "_model_module": "@jupyter-widgets/controls",
            "_model_module_version": "1.5.0",
            "_model_name": "HTMLModel",
            "_view_count": null,
            "_view_module": "@jupyter-widgets/controls",
            "_view_module_version": "1.5.0",
            "_view_name": "HTMLView",
            "description": "",
            "description_tooltip": null,
            "layout": "IPY_MODEL_637cdf9110494068adeee4611346bbc3",
            "placeholder": "​",
            "style": "IPY_MODEL_ddb9c22dad3447828cf4ce6515caf3ef",
            "value": " 397M/397M [00:09&lt;00:00, 42.8MB/s]"
          }
        },
        "e6e25b58db674e448ab5cb6c9f598e42": {
          "model_module": "@jupyter-widgets/controls",
          "model_module_version": "1.5.0",
          "model_name": "FloatProgressModel",
          "state": {
            "_dom_classes": [],
            "_model_module": "@jupyter-widgets/controls",
            "_model_module_version": "1.5.0",
            "_model_name": "FloatProgressModel",
            "_view_count": null,
            "_view_module": "@jupyter-widgets/controls",
            "_view_module_version": "1.5.0",
            "_view_name": "ProgressView",
            "bar_style": "success",
            "description": "",
            "description_tooltip": null,
            "layout": "IPY_MODEL_0740bf34fbc546dfa7bb24907900d0d7",
            "max": 153827656,
            "min": 0,
            "orientation": "horizontal",
            "style": "IPY_MODEL_88e9a03fa54343a5be2ff501eb1ff88f",
            "value": 153827656
          }
        },
        "e8e0ab02f3324d389cc90527f48d409f": {
          "model_module": "@jupyter-widgets/base",
          "model_module_version": "1.2.0",
          "model_name": "LayoutModel",
          "state": {
            "_model_module": "@jupyter-widgets/base",
            "_model_module_version": "1.2.0",
            "_model_name": "LayoutModel",
            "_view_count": null,
            "_view_module": "@jupyter-widgets/base",
            "_view_module_version": "1.2.0",
            "_view_name": "LayoutView",
            "align_content": null,
            "align_items": null,
            "align_self": null,
            "border": null,
            "bottom": null,
            "display": null,
            "flex": null,
            "flex_flow": null,
            "grid_area": null,
            "grid_auto_columns": null,
            "grid_auto_flow": null,
            "grid_auto_rows": null,
            "grid_column": null,
            "grid_gap": null,
            "grid_row": null,
            "grid_template_areas": null,
            "grid_template_columns": null,
            "grid_template_rows": null,
            "height": null,
            "justify_content": null,
            "justify_items": null,
            "left": null,
            "margin": null,
            "max_height": null,
            "max_width": null,
            "min_height": null,
            "min_width": null,
            "object_fit": null,
            "object_position": null,
            "order": null,
            "overflow": null,
            "overflow_x": null,
            "overflow_y": null,
            "padding": null,
            "right": null,
            "top": null,
            "visibility": null,
            "width": null
          }
        },
        "ed491facab92481da4d052c42b5f3eda": {
          "model_module": "@jupyter-widgets/base",
          "model_module_version": "1.2.0",
          "model_name": "LayoutModel",
          "state": {
            "_model_module": "@jupyter-widgets/base",
            "_model_module_version": "1.2.0",
            "_model_name": "LayoutModel",
            "_view_count": null,
            "_view_module": "@jupyter-widgets/base",
            "_view_module_version": "1.2.0",
            "_view_name": "LayoutView",
            "align_content": null,
            "align_items": null,
            "align_self": null,
            "border": null,
            "bottom": null,
            "display": null,
            "flex": null,
            "flex_flow": null,
            "grid_area": null,
            "grid_auto_columns": null,
            "grid_auto_flow": null,
            "grid_auto_rows": null,
            "grid_column": null,
            "grid_gap": null,
            "grid_row": null,
            "grid_template_areas": null,
            "grid_template_columns": null,
            "grid_template_rows": null,
            "height": null,
            "justify_content": null,
            "justify_items": null,
            "left": null,
            "margin": null,
            "max_height": null,
            "max_width": null,
            "min_height": null,
            "min_width": null,
            "object_fit": null,
            "object_position": null,
            "order": null,
            "overflow": null,
            "overflow_x": null,
            "overflow_y": null,
            "padding": null,
            "right": null,
            "top": null,
            "visibility": null,
            "width": null
          }
        },
        "f3472e2594e046599d9e7e45659c59b0": {
          "model_module": "@jupyter-widgets/base",
          "model_module_version": "1.2.0",
          "model_name": "LayoutModel",
          "state": {
            "_model_module": "@jupyter-widgets/base",
            "_model_module_version": "1.2.0",
            "_model_name": "LayoutModel",
            "_view_count": null,
            "_view_module": "@jupyter-widgets/base",
            "_view_module_version": "1.2.0",
            "_view_name": "LayoutView",
            "align_content": null,
            "align_items": null,
            "align_self": null,
            "border": null,
            "bottom": null,
            "display": null,
            "flex": null,
            "flex_flow": null,
            "grid_area": null,
            "grid_auto_columns": null,
            "grid_auto_flow": null,
            "grid_auto_rows": null,
            "grid_column": null,
            "grid_gap": null,
            "grid_row": null,
            "grid_template_areas": null,
            "grid_template_columns": null,
            "grid_template_rows": null,
            "height": null,
            "justify_content": null,
            "justify_items": null,
            "left": null,
            "margin": null,
            "max_height": null,
            "max_width": null,
            "min_height": null,
            "min_width": null,
            "object_fit": null,
            "object_position": null,
            "order": null,
            "overflow": null,
            "overflow_x": null,
            "overflow_y": null,
            "padding": null,
            "right": null,
            "top": null,
            "visibility": null,
            "width": null
          }
        },
        "f3cdc44048324d0d9ba737f91c40bb0d": {
          "model_module": "@jupyter-widgets/controls",
          "model_module_version": "1.5.0",
          "model_name": "HTMLModel",
          "state": {
            "_dom_classes": [],
            "_model_module": "@jupyter-widgets/controls",
            "_model_module_version": "1.5.0",
            "_model_name": "HTMLModel",
            "_view_count": null,
            "_view_module": "@jupyter-widgets/controls",
            "_view_module_version": "1.5.0",
            "_view_name": "HTMLView",
            "description": "",
            "description_tooltip": null,
            "layout": "IPY_MODEL_f63316f4495140d3b376f111facd09d6",
            "placeholder": "​",
            "style": "IPY_MODEL_581370b931454446b438f4d8049bfa85",
            "value": "model.safetensors: 100%"
          }
        },
        "f3e79a7539c14ba181efcc57fa8d1df0": {
          "model_module": "@jupyter-widgets/controls",
          "model_module_version": "1.5.0",
          "model_name": "ProgressStyleModel",
          "state": {
            "_model_module": "@jupyter-widgets/controls",
            "_model_module_version": "1.5.0",
            "_model_name": "ProgressStyleModel",
            "_view_count": null,
            "_view_module": "@jupyter-widgets/base",
            "_view_module_version": "1.2.0",
            "_view_name": "StyleView",
            "bar_color": null,
            "description_width": ""
          }
        },
        "f5c953dea225444fb6d31c48409a8f27": {
          "model_module": "@jupyter-widgets/controls",
          "model_module_version": "1.5.0",
          "model_name": "HTMLModel",
          "state": {
            "_dom_classes": [],
            "_model_module": "@jupyter-widgets/controls",
            "_model_module_version": "1.5.0",
            "_model_name": "HTMLModel",
            "_view_count": null,
            "_view_module": "@jupyter-widgets/controls",
            "_view_module_version": "1.5.0",
            "_view_name": "HTMLView",
            "description": "",
            "description_tooltip": null,
            "layout": "IPY_MODEL_41a4b9d2603044ae8da8b2c2726dcd84",
            "placeholder": "​",
            "style": "IPY_MODEL_0beb1511f60644498bafdc6ba1403914",
            "value": "model.safetensors: 100%"
          }
        },
        "f63316f4495140d3b376f111facd09d6": {
          "model_module": "@jupyter-widgets/base",
          "model_module_version": "1.2.0",
          "model_name": "LayoutModel",
          "state": {
            "_model_module": "@jupyter-widgets/base",
            "_model_module_version": "1.2.0",
            "_model_name": "LayoutModel",
            "_view_count": null,
            "_view_module": "@jupyter-widgets/base",
            "_view_module_version": "1.2.0",
            "_view_name": "LayoutView",
            "align_content": null,
            "align_items": null,
            "align_self": null,
            "border": null,
            "bottom": null,
            "display": null,
            "flex": null,
            "flex_flow": null,
            "grid_area": null,
            "grid_auto_columns": null,
            "grid_auto_flow": null,
            "grid_auto_rows": null,
            "grid_column": null,
            "grid_gap": null,
            "grid_row": null,
            "grid_template_areas": null,
            "grid_template_columns": null,
            "grid_template_rows": null,
            "height": null,
            "justify_content": null,
            "justify_items": null,
            "left": null,
            "margin": null,
            "max_height": null,
            "max_width": null,
            "min_height": null,
            "min_width": null,
            "object_fit": null,
            "object_position": null,
            "order": null,
            "overflow": null,
            "overflow_x": null,
            "overflow_y": null,
            "padding": null,
            "right": null,
            "top": null,
            "visibility": null,
            "width": null
          }
        },
        "f8414c9410054bf6af8f770944a53b24": {
          "model_module": "@jupyter-widgets/controls",
          "model_module_version": "1.5.0",
          "model_name": "HTMLModel",
          "state": {
            "_dom_classes": [],
            "_model_module": "@jupyter-widgets/controls",
            "_model_module_version": "1.5.0",
            "_model_name": "HTMLModel",
            "_view_count": null,
            "_view_module": "@jupyter-widgets/controls",
            "_view_module_version": "1.5.0",
            "_view_name": "HTMLView",
            "description": "",
            "description_tooltip": null,
            "layout": "IPY_MODEL_e8e0ab02f3324d389cc90527f48d409f",
            "placeholder": "​",
            "style": "IPY_MODEL_1f11209e832e401db61e441b4aeb2db8",
            "value": " 8.23k/8.23k [00:00&lt;00:00, 368kB/s]"
          }
        },
        "fa445f02e57649418dd41e41ea1c37b3": {
          "model_module": "@jupyter-widgets/controls",
          "model_module_version": "1.5.0",
          "model_name": "DescriptionStyleModel",
          "state": {
            "_model_module": "@jupyter-widgets/controls",
            "_model_module_version": "1.5.0",
            "_model_name": "DescriptionStyleModel",
            "_view_count": null,
            "_view_module": "@jupyter-widgets/base",
            "_view_module_version": "1.2.0",
            "_view_name": "StyleView",
            "description_width": ""
          }
        },
        "fc97b0a49cb84b029a7384b02607a823": {
          "model_module": "@jupyter-widgets/controls",
          "model_module_version": "1.5.0",
          "model_name": "HTMLModel",
          "state": {
            "_dom_classes": [],
            "_model_module": "@jupyter-widgets/controls",
            "_model_module_version": "1.5.0",
            "_model_name": "HTMLModel",
            "_view_count": null,
            "_view_module": "@jupyter-widgets/controls",
            "_view_module_version": "1.5.0",
            "_view_name": "HTMLView",
            "description": "",
            "description_tooltip": null,
            "layout": "IPY_MODEL_28303935486740d3b23270c1d4086ad0",
            "placeholder": "​",
            "style": "IPY_MODEL_189de4700c3240ca8d36d80582db9edd",
            "value": " 479M/479M [00:11&lt;00:00, 42.5MB/s]"
          }
        },
        "ff9a7553950b4aaa81deedc34328200e": {
          "model_module": "@jupyter-widgets/controls",
          "model_module_version": "1.5.0",
          "model_name": "DescriptionStyleModel",
          "state": {
            "_model_module": "@jupyter-widgets/controls",
            "_model_module_version": "1.5.0",
            "_model_name": "DescriptionStyleModel",
            "_view_count": null,
            "_view_module": "@jupyter-widgets/base",
            "_view_module_version": "1.2.0",
            "_view_name": "StyleView",
            "description_width": ""
          }
        }
      }
    }
  },
  "nbformat": 4,
  "nbformat_minor": 0
}
